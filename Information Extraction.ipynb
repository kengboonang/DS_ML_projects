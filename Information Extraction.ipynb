{
 "cells": [
  {
   "cell_type": "code",
   "execution_count": 145,
   "id": "b6a594d6",
   "metadata": {},
   "outputs": [],
   "source": [
    "# importing libraries\n",
    "import re \n",
    "import string \n",
    "import nltk \n",
    "import spacy \n",
    "import pandas as pd \n",
    "import numpy as np \n",
    "import math \n",
    "from tqdm import tqdm \n",
    "\n",
    "from spacy.matcher import Matcher \n",
    "from spacy.tokens import Span \n",
    "from spacy import displacy \n",
    "\n",
    "pd.set_option('display.max_colwidth', 200)"
   ]
  },
  {
   "cell_type": "code",
   "execution_count": 146,
   "id": "e0455bdd",
   "metadata": {},
   "outputs": [],
   "source": [
    "# loading spaCy model\n",
    "nlp = spacy.load(\"en_core_web_sm\")\n",
    "\n",
    "# sample text\n",
    "text = \"GDP in developing countries such as Vietnam will continue growing at a high rate.\"\n",
    "\n",
    "# spaCy object creation\n",
    "doc = nlp(text)"
   ]
  },
  {
   "cell_type": "code",
   "execution_count": 147,
   "id": "6f2ef1a4",
   "metadata": {},
   "outputs": [
    {
     "name": "stdout",
     "output_type": "stream",
     "text": [
      "GDP --> nsubj --> PROPN\n",
      "in --> prep --> ADP\n",
      "developing --> amod --> VERB\n",
      "countries --> pobj --> NOUN\n",
      "such --> amod --> ADJ\n",
      "as --> prep --> ADP\n",
      "Vietnam --> pobj --> PROPN\n",
      "will --> aux --> AUX\n",
      "continue --> ROOT --> VERB\n",
      "growing --> xcomp --> VERB\n",
      "at --> prep --> ADP\n",
      "a --> det --> DET\n",
      "high --> amod --> ADJ\n",
      "rate --> pobj --> NOUN\n",
      ". --> punct --> PUNCT\n"
     ]
    }
   ],
   "source": [
    "for token in doc:\n",
    "    print(token.text, \"-->\", token.dep_, \"-->\", token.pos_)"
   ]
  },
  {
   "cell_type": "code",
   "execution_count": 148,
   "id": "5b108260",
   "metadata": {},
   "outputs": [
    {
     "data": {
      "text/plain": [
       "'nominal subject'"
      ]
     },
     "execution_count": 148,
     "metadata": {},
     "output_type": "execute_result"
    }
   ],
   "source": [
    "spacy.explain('nsubj')"
   ]
  },
  {
   "cell_type": "code",
   "execution_count": 149,
   "id": "78697a12",
   "metadata": {},
   "outputs": [
    {
     "name": "stdout",
     "output_type": "stream",
     "text": [
      "[(11840699188806025751, 3, 7)]\n",
      "countries such as Vietnam\n"
     ]
    }
   ],
   "source": [
    "# defining Hearst pattern - Pattern: X such as Y\n",
    "pattern = [{'POS':'NOUN'}, \n",
    "           {'LOWER': 'such'}, \n",
    "           {'LOWER': 'as'}, \n",
    "           {'POS': 'PROPN'}]\n",
    "\n",
    "# Matcher class object\n",
    "matcher = Matcher(nlp.vocab) \n",
    "matcher.add(\"matching_1\", [pattern]) \n",
    "\n",
    "matches = matcher(doc) \n",
    "print(matches)\n",
    "span = doc[matches[0][1]:matches[0][2]] \n",
    "\n",
    "print(span.text)"
   ]
  },
  {
   "cell_type": "code",
   "execution_count": 150,
   "id": "b6459674",
   "metadata": {},
   "outputs": [
    {
     "name": "stdout",
     "output_type": "stream",
     "text": [
      "Here --> advmod --> ADV\n",
      "is --> ROOT --> AUX\n",
      "how --> advmod --> SCONJ\n",
      "you --> nsubj --> PRON\n",
      "can --> aux --> AUX\n",
      "keep --> ccomp --> VERB\n",
      "your --> poss --> PRON\n",
      "car --> dobj --> NOUN\n",
      "and --> cc --> CCONJ\n",
      "other --> amod --> ADJ\n",
      "vehicles --> conj --> NOUN\n",
      "clean --> oprd --> ADJ\n",
      ". --> punct --> PUNCT\n"
     ]
    }
   ],
   "source": [
    "doc = nlp(\"Here is how you can keep your car and other vehicles clean.\") \n",
    "\n",
    "# print dependency tags and POS tags\n",
    "for tok in doc: \n",
    "  print(tok.text, \"-->\",tok.dep_, \"-->\",tok.pos_)"
   ]
  },
  {
   "cell_type": "code",
   "execution_count": 151,
   "id": "34780127",
   "metadata": {},
   "outputs": [
    {
     "name": "stdout",
     "output_type": "stream",
     "text": [
      "[(10575872351855955709, 7, 11)]\n",
      "car and other vehicles\n"
     ]
    }
   ],
   "source": [
    "# defining Hearst pattern - Pattern: X and/or Y\n",
    "pattern = [{'DEP':'amod', 'OP':\"?\"}, \n",
    "           {'POS':'NOUN'}, \n",
    "           {'LOWER': 'and', 'OP':\"?\"}, \n",
    "           {'LOWER': 'or', 'OP':\"?\"}, \n",
    "           {'LOWER': 'other'}, \n",
    "           {'POS': 'NOUN'}] \n",
    "\n",
    "# Matcher class object\n",
    "matcher.add(\"matching_2\", [pattern]) \n",
    "\n",
    "matches = matcher(doc) \n",
    "print(matches)\n",
    "span = doc[matches[0][1]:matches[0][2]] \n",
    "\n",
    "print(span.text)"
   ]
  },
  {
   "cell_type": "code",
   "execution_count": 152,
   "id": "7c66b08f",
   "metadata": {},
   "outputs": [
    {
     "name": "stdout",
     "output_type": "stream",
     "text": [
      "Eight --> nummod --> NUM\n",
      "people --> nsubjpass --> NOUN\n",
      ", --> punct --> PUNCT\n",
      "including --> prep --> VERB\n",
      "two --> nummod --> NUM\n",
      "children --> pobj --> NOUN\n",
      ", --> punct --> PUNCT\n",
      "were --> auxpass --> AUX\n",
      "injured --> ROOT --> VERB\n",
      "in --> prep --> ADP\n",
      "the --> det --> DET\n",
      "explosion --> pobj --> NOUN\n"
     ]
    }
   ],
   "source": [
    "\n",
    "doc = nlp(\"Eight people, including two children, were injured in the explosion\") \n",
    "\n",
    "for tok in doc: \n",
    "  print(tok.text, \"-->\",tok.dep_, \"-->\",tok.pos_)"
   ]
  },
  {
   "cell_type": "code",
   "execution_count": 153,
   "id": "54424508",
   "metadata": {},
   "outputs": [
    {
     "name": "stdout",
     "output_type": "stream",
     "text": [
      "Eight people, including two children\n"
     ]
    }
   ],
   "source": [
    "# Matcher class object \n",
    "matcher = Matcher(nlp.vocab) \n",
    "\n",
    "#define the pattern \n",
    "pattern = [{'DEP':'nummod','OP':\"?\"}, # numeric modifier \n",
    "           {'DEP':'amod','OP':\"?\"}, # adjectival modifier \n",
    "           {'POS':'NOUN'}, \n",
    "           {'IS_PUNCT': True}, \n",
    "           {'LOWER': 'including'}, \n",
    "           {'DEP':'nummod','OP':\"?\"}, \n",
    "           {'DEP':'amod','OP':\"?\"}, \n",
    "           {'POS':'NOUN'}] \n",
    "                               \n",
    "matcher.add(\"matching_3\", [pattern]) \n",
    "\n",
    "matches = matcher(doc) \n",
    "span = doc[matches[0][1]:matches[0][2]] \n",
    "print(span.text)"
   ]
  },
  {
   "cell_type": "code",
   "execution_count": 154,
   "id": "887e8fbb",
   "metadata": {},
   "outputs": [
    {
     "name": "stdout",
     "output_type": "stream",
     "text": [
      "A det DET\n",
      "healthy amod ADJ\n",
      "eating compound NOUN\n",
      "pattern nsubj NOUN\n",
      "includes ROOT VERB\n",
      "fruits dobj NOUN\n",
      ", punct PUNCT\n",
      "especially advmod ADV\n",
      "whole amod ADJ\n",
      "fruits appos NOUN\n",
      ". punct PUNCT\n"
     ]
    }
   ],
   "source": [
    "# Pattern X, especially Y\n",
    "doc = nlp(\"A healthy eating pattern includes fruits, especially whole fruits.\") \n",
    "\n",
    "for tok in doc: \n",
    "  print(tok.text, tok.dep_, tok.pos_)"
   ]
  },
  {
   "cell_type": "code",
   "execution_count": 155,
   "id": "ba301812",
   "metadata": {},
   "outputs": [
    {
     "data": {
      "text/plain": [
       "'adjectival modifier'"
      ]
     },
     "execution_count": 155,
     "metadata": {},
     "output_type": "execute_result"
    }
   ],
   "source": [
    "spacy.explain('amod')"
   ]
  },
  {
   "cell_type": "code",
   "execution_count": 156,
   "id": "baba12b7",
   "metadata": {},
   "outputs": [
    {
     "name": "stdout",
     "output_type": "stream",
     "text": [
      "fruits, especially whole fruits\n"
     ]
    }
   ],
   "source": [
    "matcher = Matcher(nlp.vocab)\n",
    "\n",
    "# define the pattern \n",
    "pattern = [{'DEP':'nummod','OP':\"?\"}, \n",
    "           {'DEP':'amod','OP':\"?\"}, \n",
    "           {'POS':'NOUN'}, \n",
    "           {'IS_PUNCT':True}, \n",
    "           {'LOWER': 'especially'}, \n",
    "           {'DEP':'nummod','OP':\"?\"}, \n",
    "           {'DEP':'amod','OP':\"?\"}, \n",
    "           {'POS':'NOUN'}] \n",
    "\n",
    "matcher.add('X_especially_Y', [pattern])\n",
    "\n",
    "matches = matcher(doc)\n",
    "span = doc[matches[0][1]:matches[0][2]]\n",
    "print(span.text)"
   ]
  },
  {
   "cell_type": "code",
   "execution_count": 157,
   "id": "1ed4973f",
   "metadata": {},
   "outputs": [
    {
     "data": {
      "text/html": [
       "<span class=\"tex2jax_ignore\"><svg xmlns=\"http://www.w3.org/2000/svg\" xmlns:xlink=\"http://www.w3.org/1999/xlink\" xml:lang=\"en\" id=\"bdb5f8ebf8094d0da2c5ee6bcf3d7dd6-0\" class=\"displacy\" width=\"1100\" height=\"399.5\" direction=\"ltr\" style=\"max-width: none; height: 399.5px; color: #000000; background: #ffffff; font-family: Arial; direction: ltr\">\n",
       "<text class=\"displacy-token\" fill=\"currentColor\" text-anchor=\"middle\" y=\"309.5\">\n",
       "    <tspan class=\"displacy-word\" fill=\"currentColor\" x=\"50\">Tableau</tspan>\n",
       "    <tspan class=\"displacy-tag\" dy=\"2em\" fill=\"currentColor\" x=\"50\">PROPN</tspan>\n",
       "</text>\n",
       "\n",
       "<text class=\"displacy-token\" fill=\"currentColor\" text-anchor=\"middle\" y=\"309.5\">\n",
       "    <tspan class=\"displacy-word\" fill=\"currentColor\" x=\"225\">was</tspan>\n",
       "    <tspan class=\"displacy-tag\" dy=\"2em\" fill=\"currentColor\" x=\"225\">AUX</tspan>\n",
       "</text>\n",
       "\n",
       "<text class=\"displacy-token\" fill=\"currentColor\" text-anchor=\"middle\" y=\"309.5\">\n",
       "    <tspan class=\"displacy-word\" fill=\"currentColor\" x=\"400\">recently</tspan>\n",
       "    <tspan class=\"displacy-tag\" dy=\"2em\" fill=\"currentColor\" x=\"400\">ADV</tspan>\n",
       "</text>\n",
       "\n",
       "<text class=\"displacy-token\" fill=\"currentColor\" text-anchor=\"middle\" y=\"309.5\">\n",
       "    <tspan class=\"displacy-word\" fill=\"currentColor\" x=\"575\">acquired</tspan>\n",
       "    <tspan class=\"displacy-tag\" dy=\"2em\" fill=\"currentColor\" x=\"575\">VERB</tspan>\n",
       "</text>\n",
       "\n",
       "<text class=\"displacy-token\" fill=\"currentColor\" text-anchor=\"middle\" y=\"309.5\">\n",
       "    <tspan class=\"displacy-word\" fill=\"currentColor\" x=\"750\">by</tspan>\n",
       "    <tspan class=\"displacy-tag\" dy=\"2em\" fill=\"currentColor\" x=\"750\">ADP</tspan>\n",
       "</text>\n",
       "\n",
       "<text class=\"displacy-token\" fill=\"currentColor\" text-anchor=\"middle\" y=\"309.5\">\n",
       "    <tspan class=\"displacy-word\" fill=\"currentColor\" x=\"925\">Salesforce.</tspan>\n",
       "    <tspan class=\"displacy-tag\" dy=\"2em\" fill=\"currentColor\" x=\"925\">PROPN</tspan>\n",
       "</text>\n",
       "\n",
       "<g class=\"displacy-arrow\">\n",
       "    <path class=\"displacy-arc\" id=\"arrow-bdb5f8ebf8094d0da2c5ee6bcf3d7dd6-0-0\" stroke-width=\"2px\" d=\"M70,264.5 C70,2.0 575.0,2.0 575.0,264.5\" fill=\"none\" stroke=\"currentColor\"/>\n",
       "    <text dy=\"1.25em\" style=\"font-size: 0.8em; letter-spacing: 1px\">\n",
       "        <textPath xlink:href=\"#arrow-bdb5f8ebf8094d0da2c5ee6bcf3d7dd6-0-0\" class=\"displacy-label\" startOffset=\"50%\" side=\"left\" fill=\"currentColor\" text-anchor=\"middle\">nsubjpass</textPath>\n",
       "    </text>\n",
       "    <path class=\"displacy-arrowhead\" d=\"M70,266.5 L62,254.5 78,254.5\" fill=\"currentColor\"/>\n",
       "</g>\n",
       "\n",
       "<g class=\"displacy-arrow\">\n",
       "    <path class=\"displacy-arc\" id=\"arrow-bdb5f8ebf8094d0da2c5ee6bcf3d7dd6-0-1\" stroke-width=\"2px\" d=\"M245,264.5 C245,89.5 570.0,89.5 570.0,264.5\" fill=\"none\" stroke=\"currentColor\"/>\n",
       "    <text dy=\"1.25em\" style=\"font-size: 0.8em; letter-spacing: 1px\">\n",
       "        <textPath xlink:href=\"#arrow-bdb5f8ebf8094d0da2c5ee6bcf3d7dd6-0-1\" class=\"displacy-label\" startOffset=\"50%\" side=\"left\" fill=\"currentColor\" text-anchor=\"middle\">auxpass</textPath>\n",
       "    </text>\n",
       "    <path class=\"displacy-arrowhead\" d=\"M245,266.5 L237,254.5 253,254.5\" fill=\"currentColor\"/>\n",
       "</g>\n",
       "\n",
       "<g class=\"displacy-arrow\">\n",
       "    <path class=\"displacy-arc\" id=\"arrow-bdb5f8ebf8094d0da2c5ee6bcf3d7dd6-0-2\" stroke-width=\"2px\" d=\"M420,264.5 C420,177.0 565.0,177.0 565.0,264.5\" fill=\"none\" stroke=\"currentColor\"/>\n",
       "    <text dy=\"1.25em\" style=\"font-size: 0.8em; letter-spacing: 1px\">\n",
       "        <textPath xlink:href=\"#arrow-bdb5f8ebf8094d0da2c5ee6bcf3d7dd6-0-2\" class=\"displacy-label\" startOffset=\"50%\" side=\"left\" fill=\"currentColor\" text-anchor=\"middle\">advmod</textPath>\n",
       "    </text>\n",
       "    <path class=\"displacy-arrowhead\" d=\"M420,266.5 L412,254.5 428,254.5\" fill=\"currentColor\"/>\n",
       "</g>\n",
       "\n",
       "<g class=\"displacy-arrow\">\n",
       "    <path class=\"displacy-arc\" id=\"arrow-bdb5f8ebf8094d0da2c5ee6bcf3d7dd6-0-3\" stroke-width=\"2px\" d=\"M595,264.5 C595,177.0 740.0,177.0 740.0,264.5\" fill=\"none\" stroke=\"currentColor\"/>\n",
       "    <text dy=\"1.25em\" style=\"font-size: 0.8em; letter-spacing: 1px\">\n",
       "        <textPath xlink:href=\"#arrow-bdb5f8ebf8094d0da2c5ee6bcf3d7dd6-0-3\" class=\"displacy-label\" startOffset=\"50%\" side=\"left\" fill=\"currentColor\" text-anchor=\"middle\">agent</textPath>\n",
       "    </text>\n",
       "    <path class=\"displacy-arrowhead\" d=\"M740.0,266.5 L748.0,254.5 732.0,254.5\" fill=\"currentColor\"/>\n",
       "</g>\n",
       "\n",
       "<g class=\"displacy-arrow\">\n",
       "    <path class=\"displacy-arc\" id=\"arrow-bdb5f8ebf8094d0da2c5ee6bcf3d7dd6-0-4\" stroke-width=\"2px\" d=\"M770,264.5 C770,177.0 915.0,177.0 915.0,264.5\" fill=\"none\" stroke=\"currentColor\"/>\n",
       "    <text dy=\"1.25em\" style=\"font-size: 0.8em; letter-spacing: 1px\">\n",
       "        <textPath xlink:href=\"#arrow-bdb5f8ebf8094d0da2c5ee6bcf3d7dd6-0-4\" class=\"displacy-label\" startOffset=\"50%\" side=\"left\" fill=\"currentColor\" text-anchor=\"middle\">pobj</textPath>\n",
       "    </text>\n",
       "    <path class=\"displacy-arrowhead\" d=\"M915.0,266.5 L923.0,254.5 907.0,254.5\" fill=\"currentColor\"/>\n",
       "</g>\n",
       "</svg></span>"
      ],
      "text/plain": [
       "<IPython.core.display.HTML object>"
      ]
     },
     "metadata": {},
     "output_type": "display_data"
    }
   ],
   "source": [
    "# dependency tree\n",
    "\n",
    "\n",
    "text = \"Tableau was recently acquired by Salesforce.\" \n",
    "\n",
    "# Plot the dependency graph \n",
    "doc = nlp(text) \n",
    "displacy.render(doc, style='dep',jupyter=True)"
   ]
  },
  {
   "cell_type": "code",
   "execution_count": 158,
   "id": "77a96aa4",
   "metadata": {},
   "outputs": [
    {
     "name": "stdout",
     "output_type": "stream",
     "text": [
      "Tableau --> nsubjpass --> PROPN\n",
      "was --> auxpass --> AUX\n",
      "recently --> advmod --> ADV\n",
      "acquired --> ROOT --> VERB\n",
      "by --> agent --> ADP\n",
      "Salesforce --> pobj --> PROPN\n",
      ". --> punct --> PUNCT\n"
     ]
    }
   ],
   "source": [
    "doc = nlp(text)\n",
    "for token in doc: \n",
    "  print(token.text,\"-->\",token.dep_,\"-->\",token.pos_)"
   ]
  },
  {
   "cell_type": "code",
   "execution_count": 159,
   "id": "199fa922",
   "metadata": {},
   "outputs": [],
   "source": [
    "def subtree_matcher(doc):\n",
    "    subjpass = 0\n",
    "    \n",
    "    for i, token in enumerate(doc):\n",
    "        # find dependency tag which contains \"subjpass\"\n",
    "        if token.dep_.find('subjpass') == True:\n",
    "            subjpass = 1\n",
    "    x = ''\n",
    "    y = ''\n",
    "    \n",
    "    # if subjpass == 1, sentence == passive\n",
    "    if subjpass == 1:\n",
    "        for i,token in enumerate(doc):\n",
    "            if token.dep_.find(\"subjpass\") == True:\n",
    "                y = token.text\n",
    "            if token.dep_.endswith(\"obj\") == True:\n",
    "                x = token.text\n",
    "    # else sentence might be active\n",
    "    else:\n",
    "        for i, token in enumerate(doc):\n",
    "            if token.dep_.endswith(\"subj\") == True:\n",
    "                x = token.text\n",
    "            if token.dep_.endswith(\"obj\") == True:\n",
    "                y = token.text\n",
    "    return x,y"
   ]
  },
  {
   "cell_type": "code",
   "execution_count": 160,
   "id": "f6afe762",
   "metadata": {},
   "outputs": [
    {
     "data": {
      "text/plain": [
       "('Salesforce', 'Tableau')"
      ]
     },
     "execution_count": 160,
     "metadata": {},
     "output_type": "execute_result"
    }
   ],
   "source": [
    "subtree_matcher(doc)"
   ]
  },
  {
   "cell_type": "code",
   "execution_count": 161,
   "id": "bcf7338d",
   "metadata": {},
   "outputs": [
    {
     "data": {
      "text/plain": [
       "('Uber', 'Careem')"
      ]
     },
     "execution_count": 161,
     "metadata": {},
     "output_type": "execute_result"
    }
   ],
   "source": [
    "text_2 = \"Careem, a ride hailing major in middle east, was acquired by Uber.\" \n",
    "doc_2 = nlp(text_2)\n",
    "subtree_matcher(doc_2)"
   ]
  },
  {
   "cell_type": "code",
   "execution_count": 162,
   "id": "de97bab8",
   "metadata": {},
   "outputs": [
    {
     "data": {
      "text/plain": [
       "('Salesforce', 'Tableau')"
      ]
     },
     "execution_count": 162,
     "metadata": {},
     "output_type": "execute_result"
    }
   ],
   "source": [
    "text_3 = \"Salesforce recently acquired Tableau.\" \n",
    "doc_3 = nlp(text_3)\n",
    "subtree_matcher(doc_3)"
   ]
  },
  {
   "cell_type": "code",
   "execution_count": 163,
   "id": "36834ba5",
   "metadata": {},
   "outputs": [
    {
     "name": "stdout",
     "output_type": "stream",
     "text": [
      "Salesforce --> nsubj --> PROPN\n",
      "recently --> advmod --> ADV\n",
      "acquired --> ROOT --> VERB\n",
      "Tableau --> dobj --> PROPN\n",
      ". --> punct --> PUNCT\n"
     ]
    }
   ],
   "source": [
    "for tok in doc_3:    \n",
    "  print(tok.text, \"-->\",tok.dep_, \"-->\",tok.pos_)"
   ]
  },
  {
   "cell_type": "code",
   "execution_count": 164,
   "id": "cb0a5c7a",
   "metadata": {},
   "outputs": [
    {
     "name": "stdout",
     "output_type": "stream",
     "text": [
      "Careem --> nsubjpass --> PROPN\n",
      ", --> punct --> PUNCT\n",
      "a --> det --> DET\n",
      "ride --> appos --> NOUN\n",
      "hailing --> acl --> VERB\n",
      "major --> dobj --> NOUN\n",
      "in --> prep --> ADP\n",
      "middle --> compound --> PROPN\n",
      "east --> pobj --> PROPN\n",
      ", --> punct --> PUNCT\n",
      "was --> auxpass --> AUX\n",
      "acquired --> ROOT --> VERB\n",
      "by --> agent --> ADP\n",
      "Uber --> pobj --> PROPN\n",
      ". --> punct --> PUNCT\n"
     ]
    }
   ],
   "source": [
    "for tok in doc_2:    \n",
    "  print(tok.text, \"-->\",tok.dep_, \"-->\",tok.pos_)"
   ]
  },
  {
   "cell_type": "markdown",
   "id": "8d68070c",
   "metadata": {},
   "source": [
    "# IE using spaCy - Nobel Prize Winners practice"
   ]
  },
  {
   "cell_type": "code",
   "execution_count": 165,
   "id": "038bae90",
   "metadata": {},
   "outputs": [],
   "source": [
    "txt = 'On February 12 1809 Nobel Prize winner Charles Darwin was born in UK. He was a naturalist, geologist and biologist.\\nOn November 20 1889 Nobel Prize winner Edwin Hubble was born in US. He was an astronomer.\\nOn November 7 1867 Nobel Prize winner Marie Curie was born in Poland. She was a physicist and chemist.\\nOn January 8 1942 Nobel Prize winner Stephen Hawking was born in UK. He was a physicist and cosmologist.\\nOn January 23 1918 Nobel Prize winner Gertrude Elion was born in US. She was a biochemist and pharmacologist.'\n",
    "data = txt.split('\\n')"
   ]
  },
  {
   "cell_type": "code",
   "execution_count": 166,
   "id": "fbbe1b3b",
   "metadata": {},
   "outputs": [
    {
     "data": {
      "text/html": [
       "<div>\n",
       "<style scoped>\n",
       "    .dataframe tbody tr th:only-of-type {\n",
       "        vertical-align: middle;\n",
       "    }\n",
       "\n",
       "    .dataframe tbody tr th {\n",
       "        vertical-align: top;\n",
       "    }\n",
       "\n",
       "    .dataframe thead th {\n",
       "        text-align: right;\n",
       "    }\n",
       "</style>\n",
       "<table border=\"1\" class=\"dataframe\">\n",
       "  <thead>\n",
       "    <tr style=\"text-align: right;\">\n",
       "      <th></th>\n",
       "      <th>text</th>\n",
       "    </tr>\n",
       "  </thead>\n",
       "  <tbody>\n",
       "    <tr>\n",
       "      <th>0</th>\n",
       "      <td>On February 12 1809 Nobel Prize winner Charles Darwin was born in UK. He was a naturalist, geologist and biologist.</td>\n",
       "    </tr>\n",
       "    <tr>\n",
       "      <th>1</th>\n",
       "      <td>On November 20 1889 Nobel Prize winner Edwin Hubble was born in US. He was an astronomer.</td>\n",
       "    </tr>\n",
       "    <tr>\n",
       "      <th>2</th>\n",
       "      <td>On November 7 1867 Nobel Prize winner Marie Curie was born in Poland. She was a physicist and chemist.</td>\n",
       "    </tr>\n",
       "    <tr>\n",
       "      <th>3</th>\n",
       "      <td>On January 8 1942 Nobel Prize winner Stephen Hawking was born in UK. He was a physicist and cosmologist.</td>\n",
       "    </tr>\n",
       "    <tr>\n",
       "      <th>4</th>\n",
       "      <td>On January 23 1918 Nobel Prize winner Gertrude Elion was born in US. She was a biochemist and pharmacologist.</td>\n",
       "    </tr>\n",
       "  </tbody>\n",
       "</table>\n",
       "</div>"
      ],
      "text/plain": [
       "                                                                                                                  text\n",
       "0  On February 12 1809 Nobel Prize winner Charles Darwin was born in UK. He was a naturalist, geologist and biologist.\n",
       "1                            On November 20 1889 Nobel Prize winner Edwin Hubble was born in US. He was an astronomer.\n",
       "2               On November 7 1867 Nobel Prize winner Marie Curie was born in Poland. She was a physicist and chemist.\n",
       "3             On January 8 1942 Nobel Prize winner Stephen Hawking was born in UK. He was a physicist and cosmologist.\n",
       "4        On January 23 1918 Nobel Prize winner Gertrude Elion was born in US. She was a biochemist and pharmacologist."
      ]
     },
     "execution_count": 166,
     "metadata": {},
     "output_type": "execute_result"
    }
   ],
   "source": [
    "df = pd.DataFrame(data)\n",
    "df = df.rename(columns={0:'text'})\n",
    "df"
   ]
  },
  {
   "cell_type": "code",
   "execution_count": 167,
   "id": "942a76e1",
   "metadata": {
    "scrolled": true
   },
   "outputs": [
    {
     "data": {
      "text/html": [
       "<div>\n",
       "<style scoped>\n",
       "    .dataframe tbody tr th:only-of-type {\n",
       "        vertical-align: middle;\n",
       "    }\n",
       "\n",
       "    .dataframe tbody tr th {\n",
       "        vertical-align: top;\n",
       "    }\n",
       "\n",
       "    .dataframe thead th {\n",
       "        text-align: right;\n",
       "    }\n",
       "</style>\n",
       "<table border=\"1\" class=\"dataframe\">\n",
       "  <thead>\n",
       "    <tr style=\"text-align: right;\">\n",
       "      <th></th>\n",
       "      <th>token</th>\n",
       "      <th>pos</th>\n",
       "    </tr>\n",
       "  </thead>\n",
       "  <tbody>\n",
       "    <tr>\n",
       "      <th>0</th>\n",
       "      <td>On</td>\n",
       "      <td>ADP</td>\n",
       "    </tr>\n",
       "    <tr>\n",
       "      <th>1</th>\n",
       "      <td>February</td>\n",
       "      <td>PROPN</td>\n",
       "    </tr>\n",
       "    <tr>\n",
       "      <th>2</th>\n",
       "      <td>12</td>\n",
       "      <td>NUM</td>\n",
       "    </tr>\n",
       "    <tr>\n",
       "      <th>3</th>\n",
       "      <td>1809</td>\n",
       "      <td>NUM</td>\n",
       "    </tr>\n",
       "    <tr>\n",
       "      <th>4</th>\n",
       "      <td>Nobel</td>\n",
       "      <td>PROPN</td>\n",
       "    </tr>\n",
       "    <tr>\n",
       "      <th>5</th>\n",
       "      <td>Prize</td>\n",
       "      <td>PROPN</td>\n",
       "    </tr>\n",
       "    <tr>\n",
       "      <th>6</th>\n",
       "      <td>winner</td>\n",
       "      <td>NOUN</td>\n",
       "    </tr>\n",
       "    <tr>\n",
       "      <th>7</th>\n",
       "      <td>Charles</td>\n",
       "      <td>PROPN</td>\n",
       "    </tr>\n",
       "    <tr>\n",
       "      <th>8</th>\n",
       "      <td>Darwin</td>\n",
       "      <td>PROPN</td>\n",
       "    </tr>\n",
       "    <tr>\n",
       "      <th>9</th>\n",
       "      <td>was</td>\n",
       "      <td>AUX</td>\n",
       "    </tr>\n",
       "    <tr>\n",
       "      <th>10</th>\n",
       "      <td>born</td>\n",
       "      <td>VERB</td>\n",
       "    </tr>\n",
       "    <tr>\n",
       "      <th>11</th>\n",
       "      <td>in</td>\n",
       "      <td>ADP</td>\n",
       "    </tr>\n",
       "    <tr>\n",
       "      <th>12</th>\n",
       "      <td>UK</td>\n",
       "      <td>PROPN</td>\n",
       "    </tr>\n",
       "    <tr>\n",
       "      <th>13</th>\n",
       "      <td>.</td>\n",
       "      <td>PUNCT</td>\n",
       "    </tr>\n",
       "    <tr>\n",
       "      <th>14</th>\n",
       "      <td>He</td>\n",
       "      <td>PRON</td>\n",
       "    </tr>\n",
       "    <tr>\n",
       "      <th>15</th>\n",
       "      <td>was</td>\n",
       "      <td>AUX</td>\n",
       "    </tr>\n",
       "    <tr>\n",
       "      <th>16</th>\n",
       "      <td>a</td>\n",
       "      <td>DET</td>\n",
       "    </tr>\n",
       "    <tr>\n",
       "      <th>17</th>\n",
       "      <td>naturalist</td>\n",
       "      <td>NOUN</td>\n",
       "    </tr>\n",
       "    <tr>\n",
       "      <th>18</th>\n",
       "      <td>,</td>\n",
       "      <td>PUNCT</td>\n",
       "    </tr>\n",
       "    <tr>\n",
       "      <th>19</th>\n",
       "      <td>geologist</td>\n",
       "      <td>NOUN</td>\n",
       "    </tr>\n",
       "    <tr>\n",
       "      <th>20</th>\n",
       "      <td>and</td>\n",
       "      <td>CCONJ</td>\n",
       "    </tr>\n",
       "    <tr>\n",
       "      <th>21</th>\n",
       "      <td>biologist</td>\n",
       "      <td>NOUN</td>\n",
       "    </tr>\n",
       "    <tr>\n",
       "      <th>22</th>\n",
       "      <td>.</td>\n",
       "      <td>PUNCT</td>\n",
       "    </tr>\n",
       "  </tbody>\n",
       "</table>\n",
       "</div>"
      ],
      "text/plain": [
       "         token    pos\n",
       "0           On    ADP\n",
       "1     February  PROPN\n",
       "2           12    NUM\n",
       "3         1809    NUM\n",
       "4        Nobel  PROPN\n",
       "5        Prize  PROPN\n",
       "6       winner   NOUN\n",
       "7      Charles  PROPN\n",
       "8       Darwin  PROPN\n",
       "9          was    AUX\n",
       "10        born   VERB\n",
       "11          in    ADP\n",
       "12          UK  PROPN\n",
       "13           .  PUNCT\n",
       "14          He   PRON\n",
       "15         was    AUX\n",
       "16           a    DET\n",
       "17  naturalist   NOUN\n",
       "18           ,  PUNCT\n",
       "19   geologist   NOUN\n",
       "20         and  CCONJ\n",
       "21   biologist   NOUN\n",
       "22           .  PUNCT"
      ]
     },
     "execution_count": 167,
     "metadata": {},
     "output_type": "execute_result"
    }
   ],
   "source": [
    "import spacy\n",
    "import en_core_web_lg\n",
    "text = df['text'][0]\n",
    "nlp = spacy.load('en_core_web_lg')\n",
    "doc = nlp(text)\n",
    "features = []\n",
    "\n",
    "# extracting pos\n",
    "for token in doc:\n",
    "    features.append({'token':token.text, 'pos':token.pos_})\n",
    "\n",
    "# visualisation\n",
    "visual = pd.DataFrame(features)\n",
    "visual"
   ]
  },
  {
   "cell_type": "code",
   "execution_count": 168,
   "id": "ba15ae8a",
   "metadata": {},
   "outputs": [],
   "source": [
    "# extracting names\n",
    "first_tokens = ['winner', 'name']\n",
    "last_tokens = ['was', 'born']\n",
    "\n",
    "winner_pattern = [[{'LOWER' : {'IN' : first_tokens}},  #preceding words  without case matching\n",
    "           {'POS':'PROPN', 'OP' : '+'},                #searching for PROPN  one or more times\n",
    "           {'LOWER': {'IN' : last_tokens}} ]]          #following words  without case matching\n",
    "\n",
    "def get_winner(x):\n",
    "    nlp = spacy.load('en_core_web_lg')\n",
    "    doc = nlp(x)\n",
    "    matcher = Matcher(nlp.vocab)\n",
    "    matcher.add(\"matching_winner\", winner_pattern)\n",
    "    matches = matcher(doc)\n",
    "    sub_text = ''\n",
    "    if (len(matches) > 0):\n",
    "        span = doc[matches[0][1]:matches[0][2]]\n",
    "        sub_text = span.text\n",
    "    tokens = sub_text.split(' ')\n",
    "    name, surname = tokens[1:-1]\n",
    "    return name, surname"
   ]
  },
  {
   "cell_type": "code",
   "execution_count": 169,
   "id": "542efef3",
   "metadata": {},
   "outputs": [
    {
     "data": {
      "text/plain": [
       "('Charles', 'Darwin')"
      ]
     },
     "execution_count": 169,
     "metadata": {},
     "output_type": "execute_result"
    }
   ],
   "source": [
    "get_winner(df['text'][0])"
   ]
  },
  {
   "cell_type": "code",
   "execution_count": 170,
   "id": "446a90a0",
   "metadata": {},
   "outputs": [
    {
     "data": {
      "text/html": [
       "<div>\n",
       "<style scoped>\n",
       "    .dataframe tbody tr th:only-of-type {\n",
       "        vertical-align: middle;\n",
       "    }\n",
       "\n",
       "    .dataframe tbody tr th {\n",
       "        vertical-align: top;\n",
       "    }\n",
       "\n",
       "    .dataframe thead th {\n",
       "        text-align: right;\n",
       "    }\n",
       "</style>\n",
       "<table border=\"1\" class=\"dataframe\">\n",
       "  <thead>\n",
       "    <tr style=\"text-align: right;\">\n",
       "      <th></th>\n",
       "      <th>text</th>\n",
       "      <th>scientist name</th>\n",
       "      <th>surname</th>\n",
       "    </tr>\n",
       "  </thead>\n",
       "  <tbody>\n",
       "    <tr>\n",
       "      <th>0</th>\n",
       "      <td>On February 12 1809 Nobel Prize winner Charles Darwin was born in UK. He was a naturalist, geologist and biologist.</td>\n",
       "      <td>Charles</td>\n",
       "      <td>Darwin</td>\n",
       "    </tr>\n",
       "    <tr>\n",
       "      <th>1</th>\n",
       "      <td>On November 20 1889 Nobel Prize winner Edwin Hubble was born in US. He was an astronomer.</td>\n",
       "      <td>Edwin</td>\n",
       "      <td>Hubble</td>\n",
       "    </tr>\n",
       "    <tr>\n",
       "      <th>2</th>\n",
       "      <td>On November 7 1867 Nobel Prize winner Marie Curie was born in Poland. She was a physicist and chemist.</td>\n",
       "      <td>Marie</td>\n",
       "      <td>Curie</td>\n",
       "    </tr>\n",
       "    <tr>\n",
       "      <th>3</th>\n",
       "      <td>On January 8 1942 Nobel Prize winner Stephen Hawking was born in UK. He was a physicist and cosmologist.</td>\n",
       "      <td>Stephen</td>\n",
       "      <td>Hawking</td>\n",
       "    </tr>\n",
       "    <tr>\n",
       "      <th>4</th>\n",
       "      <td>On January 23 1918 Nobel Prize winner Gertrude Elion was born in US. She was a biochemist and pharmacologist.</td>\n",
       "      <td>Gertrude</td>\n",
       "      <td>Elion</td>\n",
       "    </tr>\n",
       "  </tbody>\n",
       "</table>\n",
       "</div>"
      ],
      "text/plain": [
       "                                                                                                                  text  \\\n",
       "0  On February 12 1809 Nobel Prize winner Charles Darwin was born in UK. He was a naturalist, geologist and biologist.   \n",
       "1                            On November 20 1889 Nobel Prize winner Edwin Hubble was born in US. He was an astronomer.   \n",
       "2               On November 7 1867 Nobel Prize winner Marie Curie was born in Poland. She was a physicist and chemist.   \n",
       "3             On January 8 1942 Nobel Prize winner Stephen Hawking was born in UK. He was a physicist and cosmologist.   \n",
       "4        On January 23 1918 Nobel Prize winner Gertrude Elion was born in US. She was a biochemist and pharmacologist.   \n",
       "\n",
       "  scientist name  surname  \n",
       "0        Charles   Darwin  \n",
       "1          Edwin   Hubble  \n",
       "2          Marie    Curie  \n",
       "3        Stephen  Hawking  \n",
       "4       Gertrude    Elion  "
      ]
     },
     "execution_count": 170,
     "metadata": {},
     "output_type": "execute_result"
    }
   ],
   "source": [
    "new_columns = ['scientist name', 'surname']\n",
    "for n,col in enumerate(new_columns):\n",
    "    df[col] = df['text'].apply(lambda x: get_winner(x)).apply(lambda x: x[n])    \n",
    "df"
   ]
  },
  {
   "cell_type": "code",
   "execution_count": 171,
   "id": "91bedc04",
   "metadata": {},
   "outputs": [],
   "source": [
    "# extracting birthplace\n",
    "first_tokens = ['in']\n",
    "last_tokens = ['.']\n",
    "\n",
    "country_pattern = [[{'LOWER' : {'IN' : first_tokens}},  #preceding words  without case matching\n",
    "           {'POS':'PROPN', 'OP' : '+'},                #searching for PROPN  one or more times\n",
    "           {'LOWER': {'IN' : last_tokens}} ]]          #following words  without case matching\n",
    "\n",
    "def get_country(x):\n",
    "    nlp = spacy.load('en_core_web_lg')\n",
    "    doc = nlp(x)\n",
    "    matcher = Matcher(nlp.vocab)\n",
    "    matcher.add(\"matching_country\", country_pattern)\n",
    "    matches = matcher(doc)\n",
    "    sub_text = ''\n",
    "    if (len(matches) > 0):\n",
    "        span = doc[matches[0][1]:matches[0][2]]\n",
    "        sub_text = span.text\n",
    "    sub_text = sub_text[:-1]    \n",
    "    tokens = sub_text.split(' ')\n",
    "    return ' '.join(tokens[1:])"
   ]
  },
  {
   "cell_type": "code",
   "execution_count": 172,
   "id": "53dfbaee",
   "metadata": {},
   "outputs": [
    {
     "data": {
      "text/html": [
       "<div>\n",
       "<style scoped>\n",
       "    .dataframe tbody tr th:only-of-type {\n",
       "        vertical-align: middle;\n",
       "    }\n",
       "\n",
       "    .dataframe tbody tr th {\n",
       "        vertical-align: top;\n",
       "    }\n",
       "\n",
       "    .dataframe thead th {\n",
       "        text-align: right;\n",
       "    }\n",
       "</style>\n",
       "<table border=\"1\" class=\"dataframe\">\n",
       "  <thead>\n",
       "    <tr style=\"text-align: right;\">\n",
       "      <th></th>\n",
       "      <th>text</th>\n",
       "      <th>scientist name</th>\n",
       "      <th>surname</th>\n",
       "      <th>country</th>\n",
       "    </tr>\n",
       "  </thead>\n",
       "  <tbody>\n",
       "    <tr>\n",
       "      <th>0</th>\n",
       "      <td>On February 12 1809 Nobel Prize winner Charles Darwin was born in UK. He was a naturalist, geologist and biologist.</td>\n",
       "      <td>Charles</td>\n",
       "      <td>Darwin</td>\n",
       "      <td>UK</td>\n",
       "    </tr>\n",
       "    <tr>\n",
       "      <th>1</th>\n",
       "      <td>On November 20 1889 Nobel Prize winner Edwin Hubble was born in US. He was an astronomer.</td>\n",
       "      <td>Edwin</td>\n",
       "      <td>Hubble</td>\n",
       "      <td>US</td>\n",
       "    </tr>\n",
       "    <tr>\n",
       "      <th>2</th>\n",
       "      <td>On November 7 1867 Nobel Prize winner Marie Curie was born in Poland. She was a physicist and chemist.</td>\n",
       "      <td>Marie</td>\n",
       "      <td>Curie</td>\n",
       "      <td>Poland</td>\n",
       "    </tr>\n",
       "    <tr>\n",
       "      <th>3</th>\n",
       "      <td>On January 8 1942 Nobel Prize winner Stephen Hawking was born in UK. He was a physicist and cosmologist.</td>\n",
       "      <td>Stephen</td>\n",
       "      <td>Hawking</td>\n",
       "      <td>UK</td>\n",
       "    </tr>\n",
       "    <tr>\n",
       "      <th>4</th>\n",
       "      <td>On January 23 1918 Nobel Prize winner Gertrude Elion was born in US. She was a biochemist and pharmacologist.</td>\n",
       "      <td>Gertrude</td>\n",
       "      <td>Elion</td>\n",
       "      <td>US</td>\n",
       "    </tr>\n",
       "  </tbody>\n",
       "</table>\n",
       "</div>"
      ],
      "text/plain": [
       "                                                                                                                  text  \\\n",
       "0  On February 12 1809 Nobel Prize winner Charles Darwin was born in UK. He was a naturalist, geologist and biologist.   \n",
       "1                            On November 20 1889 Nobel Prize winner Edwin Hubble was born in US. He was an astronomer.   \n",
       "2               On November 7 1867 Nobel Prize winner Marie Curie was born in Poland. She was a physicist and chemist.   \n",
       "3             On January 8 1942 Nobel Prize winner Stephen Hawking was born in UK. He was a physicist and cosmologist.   \n",
       "4        On January 23 1918 Nobel Prize winner Gertrude Elion was born in US. She was a biochemist and pharmacologist.   \n",
       "\n",
       "  scientist name  surname country  \n",
       "0        Charles   Darwin      UK  \n",
       "1          Edwin   Hubble      US  \n",
       "2          Marie    Curie  Poland  \n",
       "3        Stephen  Hawking      UK  \n",
       "4       Gertrude    Elion      US  "
      ]
     },
     "execution_count": 172,
     "metadata": {},
     "output_type": "execute_result"
    }
   ],
   "source": [
    "new_columns = ['country']\n",
    "for n,col in enumerate(new_columns):\n",
    "    df[col] = df['text'].apply(lambda x: get_country(x))    \n",
    "df"
   ]
  },
  {
   "cell_type": "code",
   "execution_count": 173,
   "id": "5e3c9e83",
   "metadata": {
    "scrolled": true
   },
   "outputs": [
    {
     "data": {
      "text/html": [
       "<div>\n",
       "<style scoped>\n",
       "    .dataframe tbody tr th:only-of-type {\n",
       "        vertical-align: middle;\n",
       "    }\n",
       "\n",
       "    .dataframe tbody tr th {\n",
       "        vertical-align: top;\n",
       "    }\n",
       "\n",
       "    .dataframe thead th {\n",
       "        text-align: right;\n",
       "    }\n",
       "</style>\n",
       "<table border=\"1\" class=\"dataframe\">\n",
       "  <thead>\n",
       "    <tr style=\"text-align: right;\">\n",
       "      <th></th>\n",
       "      <th>token</th>\n",
       "      <th>pos</th>\n",
       "    </tr>\n",
       "  </thead>\n",
       "  <tbody>\n",
       "    <tr>\n",
       "      <th>0</th>\n",
       "      <td>On</td>\n",
       "      <td>ADP</td>\n",
       "    </tr>\n",
       "    <tr>\n",
       "      <th>1</th>\n",
       "      <td>February</td>\n",
       "      <td>PROPN</td>\n",
       "    </tr>\n",
       "    <tr>\n",
       "      <th>2</th>\n",
       "      <td>12</td>\n",
       "      <td>NUM</td>\n",
       "    </tr>\n",
       "    <tr>\n",
       "      <th>3</th>\n",
       "      <td>1809</td>\n",
       "      <td>NUM</td>\n",
       "    </tr>\n",
       "    <tr>\n",
       "      <th>4</th>\n",
       "      <td>Nobel</td>\n",
       "      <td>PROPN</td>\n",
       "    </tr>\n",
       "    <tr>\n",
       "      <th>5</th>\n",
       "      <td>Prize</td>\n",
       "      <td>PROPN</td>\n",
       "    </tr>\n",
       "    <tr>\n",
       "      <th>6</th>\n",
       "      <td>winner</td>\n",
       "      <td>NOUN</td>\n",
       "    </tr>\n",
       "    <tr>\n",
       "      <th>7</th>\n",
       "      <td>Charles</td>\n",
       "      <td>PROPN</td>\n",
       "    </tr>\n",
       "    <tr>\n",
       "      <th>8</th>\n",
       "      <td>Darwin</td>\n",
       "      <td>PROPN</td>\n",
       "    </tr>\n",
       "    <tr>\n",
       "      <th>9</th>\n",
       "      <td>was</td>\n",
       "      <td>AUX</td>\n",
       "    </tr>\n",
       "    <tr>\n",
       "      <th>10</th>\n",
       "      <td>born</td>\n",
       "      <td>VERB</td>\n",
       "    </tr>\n",
       "    <tr>\n",
       "      <th>11</th>\n",
       "      <td>in</td>\n",
       "      <td>ADP</td>\n",
       "    </tr>\n",
       "    <tr>\n",
       "      <th>12</th>\n",
       "      <td>UK</td>\n",
       "      <td>PROPN</td>\n",
       "    </tr>\n",
       "    <tr>\n",
       "      <th>13</th>\n",
       "      <td>.</td>\n",
       "      <td>PUNCT</td>\n",
       "    </tr>\n",
       "    <tr>\n",
       "      <th>14</th>\n",
       "      <td>He</td>\n",
       "      <td>PRON</td>\n",
       "    </tr>\n",
       "    <tr>\n",
       "      <th>15</th>\n",
       "      <td>was</td>\n",
       "      <td>AUX</td>\n",
       "    </tr>\n",
       "    <tr>\n",
       "      <th>16</th>\n",
       "      <td>a</td>\n",
       "      <td>DET</td>\n",
       "    </tr>\n",
       "    <tr>\n",
       "      <th>17</th>\n",
       "      <td>naturalist</td>\n",
       "      <td>NOUN</td>\n",
       "    </tr>\n",
       "    <tr>\n",
       "      <th>18</th>\n",
       "      <td>,</td>\n",
       "      <td>PUNCT</td>\n",
       "    </tr>\n",
       "    <tr>\n",
       "      <th>19</th>\n",
       "      <td>geologist</td>\n",
       "      <td>NOUN</td>\n",
       "    </tr>\n",
       "    <tr>\n",
       "      <th>20</th>\n",
       "      <td>and</td>\n",
       "      <td>CCONJ</td>\n",
       "    </tr>\n",
       "    <tr>\n",
       "      <th>21</th>\n",
       "      <td>biologist</td>\n",
       "      <td>NOUN</td>\n",
       "    </tr>\n",
       "    <tr>\n",
       "      <th>22</th>\n",
       "      <td>.</td>\n",
       "      <td>PUNCT</td>\n",
       "    </tr>\n",
       "  </tbody>\n",
       "</table>\n",
       "</div>"
      ],
      "text/plain": [
       "         token    pos\n",
       "0           On    ADP\n",
       "1     February  PROPN\n",
       "2           12    NUM\n",
       "3         1809    NUM\n",
       "4        Nobel  PROPN\n",
       "5        Prize  PROPN\n",
       "6       winner   NOUN\n",
       "7      Charles  PROPN\n",
       "8       Darwin  PROPN\n",
       "9          was    AUX\n",
       "10        born   VERB\n",
       "11          in    ADP\n",
       "12          UK  PROPN\n",
       "13           .  PUNCT\n",
       "14          He   PRON\n",
       "15         was    AUX\n",
       "16           a    DET\n",
       "17  naturalist   NOUN\n",
       "18           ,  PUNCT\n",
       "19   geologist   NOUN\n",
       "20         and  CCONJ\n",
       "21   biologist   NOUN\n",
       "22           .  PUNCT"
      ]
     },
     "execution_count": 173,
     "metadata": {},
     "output_type": "execute_result"
    }
   ],
   "source": [
    "visual"
   ]
  },
  {
   "cell_type": "code",
   "execution_count": 174,
   "id": "3e003334",
   "metadata": {},
   "outputs": [
    {
     "name": "stdout",
     "output_type": "stream",
     "text": [
      "['On', 'February', '12', '1809', 'Nobel', 'Prize', 'winner', 'Charles', 'Darwin', 'was', 'born', 'in', 'UK.', 'He', 'was', 'a', 'naturalist,', 'geologist', 'and', 'biologist.']\n",
      "1809-02-12\n"
     ]
    }
   ],
   "source": [
    "def get_date(x):\n",
    "    months={\"January\":\"01\",\"February\":\"02\",\"March\":\"03\",\"April\":\"04\",   \"May\":\"05\",\"June\":\"06\",\"July\":\"07\",\"August\":\"08\",\"September\":\"09\", \"October\":\"10\", \"November\":\"11\",\"December\":\"12\",}\n",
    "    tokens = x.split(\" \")\n",
    "    print(tokens)\n",
    "    # month\n",
    "    month = months[tokens[1]]\n",
    "    # day\n",
    "    day=tokens[2]\n",
    "    if(len(day)==1):\n",
    "        day=\"0\"+day\n",
    "    \n",
    "    # year\n",
    "    year = x.split(\" \")[3]\n",
    "    \n",
    "    return (year+\"-\"+month+\"-\"+day)\n",
    "print(get_date(df['text'][0]))"
   ]
  },
  {
   "cell_type": "code",
   "execution_count": 175,
   "id": "4ba2bd6f",
   "metadata": {},
   "outputs": [
    {
     "name": "stdout",
     "output_type": "stream",
     "text": [
      "['On', 'February', '12', '1809', 'Nobel', 'Prize', 'winner', 'Charles', 'Darwin', 'was', 'born', 'in', 'UK.', 'He', 'was', 'a', 'naturalist,', 'geologist', 'and', 'biologist.']\n",
      "['On', 'November', '20', '1889', 'Nobel', 'Prize', 'winner', 'Edwin', 'Hubble', 'was', 'born', 'in', 'US.', 'He', 'was', 'an', 'astronomer.']\n",
      "['On', 'November', '7', '1867', 'Nobel', 'Prize', 'winner', 'Marie', 'Curie', 'was', 'born', 'in', 'Poland.', 'She', 'was', 'a', 'physicist', 'and', 'chemist.']\n",
      "['On', 'January', '8', '1942', 'Nobel', 'Prize', 'winner', 'Stephen', 'Hawking', 'was', 'born', 'in', 'UK.', 'He', 'was', 'a', 'physicist', 'and', 'cosmologist.']\n",
      "['On', 'January', '23', '1918', 'Nobel', 'Prize', 'winner', 'Gertrude', 'Elion', 'was', 'born', 'in', 'US.', 'She', 'was', 'a', 'biochemist', 'and', 'pharmacologist.']\n"
     ]
    },
    {
     "data": {
      "text/html": [
       "<div>\n",
       "<style scoped>\n",
       "    .dataframe tbody tr th:only-of-type {\n",
       "        vertical-align: middle;\n",
       "    }\n",
       "\n",
       "    .dataframe tbody tr th {\n",
       "        vertical-align: top;\n",
       "    }\n",
       "\n",
       "    .dataframe thead th {\n",
       "        text-align: right;\n",
       "    }\n",
       "</style>\n",
       "<table border=\"1\" class=\"dataframe\">\n",
       "  <thead>\n",
       "    <tr style=\"text-align: right;\">\n",
       "      <th></th>\n",
       "      <th>text</th>\n",
       "      <th>scientist name</th>\n",
       "      <th>surname</th>\n",
       "      <th>country</th>\n",
       "      <th>birthdate</th>\n",
       "    </tr>\n",
       "  </thead>\n",
       "  <tbody>\n",
       "    <tr>\n",
       "      <th>0</th>\n",
       "      <td>On February 12 1809 Nobel Prize winner Charles Darwin was born in UK. He was a naturalist, geologist and biologist.</td>\n",
       "      <td>Charles</td>\n",
       "      <td>Darwin</td>\n",
       "      <td>UK</td>\n",
       "      <td>1809-02-12</td>\n",
       "    </tr>\n",
       "    <tr>\n",
       "      <th>1</th>\n",
       "      <td>On November 20 1889 Nobel Prize winner Edwin Hubble was born in US. He was an astronomer.</td>\n",
       "      <td>Edwin</td>\n",
       "      <td>Hubble</td>\n",
       "      <td>US</td>\n",
       "      <td>1889-11-20</td>\n",
       "    </tr>\n",
       "    <tr>\n",
       "      <th>2</th>\n",
       "      <td>On November 7 1867 Nobel Prize winner Marie Curie was born in Poland. She was a physicist and chemist.</td>\n",
       "      <td>Marie</td>\n",
       "      <td>Curie</td>\n",
       "      <td>Poland</td>\n",
       "      <td>1867-11-07</td>\n",
       "    </tr>\n",
       "    <tr>\n",
       "      <th>3</th>\n",
       "      <td>On January 8 1942 Nobel Prize winner Stephen Hawking was born in UK. He was a physicist and cosmologist.</td>\n",
       "      <td>Stephen</td>\n",
       "      <td>Hawking</td>\n",
       "      <td>UK</td>\n",
       "      <td>1942-01-08</td>\n",
       "    </tr>\n",
       "    <tr>\n",
       "      <th>4</th>\n",
       "      <td>On January 23 1918 Nobel Prize winner Gertrude Elion was born in US. She was a biochemist and pharmacologist.</td>\n",
       "      <td>Gertrude</td>\n",
       "      <td>Elion</td>\n",
       "      <td>US</td>\n",
       "      <td>1918-01-23</td>\n",
       "    </tr>\n",
       "  </tbody>\n",
       "</table>\n",
       "</div>"
      ],
      "text/plain": [
       "                                                                                                                  text  \\\n",
       "0  On February 12 1809 Nobel Prize winner Charles Darwin was born in UK. He was a naturalist, geologist and biologist.   \n",
       "1                            On November 20 1889 Nobel Prize winner Edwin Hubble was born in US. He was an astronomer.   \n",
       "2               On November 7 1867 Nobel Prize winner Marie Curie was born in Poland. She was a physicist and chemist.   \n",
       "3             On January 8 1942 Nobel Prize winner Stephen Hawking was born in UK. He was a physicist and cosmologist.   \n",
       "4        On January 23 1918 Nobel Prize winner Gertrude Elion was born in US. She was a biochemist and pharmacologist.   \n",
       "\n",
       "  scientist name  surname country   birthdate  \n",
       "0        Charles   Darwin      UK  1809-02-12  \n",
       "1          Edwin   Hubble      US  1889-11-20  \n",
       "2          Marie    Curie  Poland  1867-11-07  \n",
       "3        Stephen  Hawking      UK  1942-01-08  \n",
       "4       Gertrude    Elion      US  1918-01-23  "
      ]
     },
     "execution_count": 175,
     "metadata": {},
     "output_type": "execute_result"
    }
   ],
   "source": [
    "df['birthdate'] = df['text'].apply(lambda x: get_date(x))\n",
    "df"
   ]
  }
 ],
 "metadata": {
  "kernelspec": {
   "display_name": "Python 3 (ipykernel)",
   "language": "python",
   "name": "python3"
  },
  "language_info": {
   "codemirror_mode": {
    "name": "ipython",
    "version": 3
   },
   "file_extension": ".py",
   "mimetype": "text/x-python",
   "name": "python",
   "nbconvert_exporter": "python",
   "pygments_lexer": "ipython3",
   "version": "3.9.7"
  }
 },
 "nbformat": 4,
 "nbformat_minor": 5
}
