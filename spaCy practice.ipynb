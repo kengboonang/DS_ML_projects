{
 "cells": [
  {
   "cell_type": "markdown",
   "id": "021d9438",
   "metadata": {},
   "source": [
    "# spaCy start"
   ]
  },
  {
   "cell_type": "code",
   "execution_count": 1,
   "id": "05dc1c7d",
   "metadata": {},
   "outputs": [
    {
     "data": {
      "text/plain": [
       "<spacy.lang.en.English at 0x181173e2250>"
      ]
     },
     "execution_count": 1,
     "metadata": {},
     "output_type": "execute_result"
    }
   ],
   "source": [
    "# import spacy library after \n",
    "import spacy\n",
    "\n",
    "txt = \"The tallest living man is 37-year-old Sultan Kosen, from Turkey, who is 8 feet, 2.8 inches, who set the record in 2009.\"\n",
    "\n",
    "# Create the Language object\n",
    "nlp = spacy.load(\"en_core_web_sm\")\n",
    "nlp"
   ]
  },
  {
   "cell_type": "code",
   "execution_count": 2,
   "id": "d89854f4",
   "metadata": {},
   "outputs": [
    {
     "data": {
      "text/plain": [
       "The tallest living man is 37-year-old Sultan Kosen, from Turkey, who is 8 feet, 2.8 inches, who set the record in 2009."
      ]
     },
     "execution_count": 2,
     "metadata": {},
     "output_type": "execute_result"
    }
   ],
   "source": [
    "# create the Doc object\n",
    "# filled with extra information about the given text's sentence nad words\n",
    "# is an iterator\n",
    "doc = nlp(txt)\n",
    "doc"
   ]
  },
  {
   "cell_type": "code",
   "execution_count": 3,
   "id": "29f50f9f",
   "metadata": {},
   "outputs": [
    {
     "name": "stdout",
     "output_type": "stream",
     "text": [
      "The\n",
      "tallest\n",
      "living\n",
      "man\n",
      "is\n"
     ]
    }
   ],
   "source": [
    "for token in doc[:5]:\n",
    "    print(token)"
   ]
  },
  {
   "cell_type": "code",
   "execution_count": 4,
   "id": "4cf53e9e",
   "metadata": {},
   "outputs": [
    {
     "name": "stdout",
     "output_type": "stream",
     "text": [
      "<class 'spacy.tokens.token.Token'>\n"
     ]
    },
    {
     "data": {
      "text/plain": [
       "31"
      ]
     },
     "execution_count": 4,
     "metadata": {},
     "output_type": "execute_result"
    }
   ],
   "source": [
    "# able to slice or index notations to extract individual tokens\n",
    "# tokenization == splitting sentences into words and punctuation\n",
    "# single token can be a word, punctuation or noun chunk\n",
    "print(type(token))\n",
    "len(doc)"
   ]
  },
  {
   "cell_type": "code",
   "execution_count": 5,
   "id": "e5c0a9fa",
   "metadata": {},
   "outputs": [
    {
     "name": "stdout",
     "output_type": "stream",
     "text": [
      "<class 'spacy.tokens.span.Span'>\n"
     ]
    },
    {
     "data": {
      "text/plain": [
       "'The tallest living man is'"
      ]
     },
     "execution_count": 5,
     "metadata": {},
     "output_type": "execute_result"
    }
   ],
   "source": [
    "# extracting >= 1 token = span object\n",
    "span = doc[:5]\n",
    "print(type(span))\n",
    "# .text to get words in span\n",
    "span.text\n",
    "# doc and span are views of an object \n",
    "# meaning they are different ways of representing the same text data from\n",
    "# different perspectives"
   ]
  },
  {
   "cell_type": "code",
   "execution_count": 6,
   "id": "e0434451",
   "metadata": {},
   "outputs": [
    {
     "name": "stdout",
     "output_type": "stream",
     "text": [
      "Index:     [3, 4, 5, 6, 7, 8, 9]\n",
      "Text:      ['man', 'is', '37', '-', 'year', '-', 'old']\n",
      "is_alpha:  [True, True, False, False, True, False, True]\n",
      "is_punct:  [False, False, False, True, False, True, False]\n",
      "like_num:  [False, False, True, False, False, False, False]\n",
      "Base word: ['man', 'be', '37', '-', 'year', '-', 'old']\n"
     ]
    }
   ],
   "source": [
    "# pre-trained English pipeline have language-specific rules for tokenization\n",
    "# and extracting their lexical attributes\n",
    "print(\"Index:    \", [token.i for token in doc[3:10]])\n",
    "print(\"Text:     \", [token.text for token in doc[3:10]])\n",
    "print(\"is_alpha: \", [token.is_alpha for token in doc[3:10]])\n",
    "print(\"is_punct: \", [token.is_punct for token in doc[3:10]])\n",
    "# recognize both literal and lettered numbers\n",
    "print(\"like_num: \", [token.like_num for token in doc[3:10]])\n",
    "# get base word stripped from any suffixes, prefixes, tense or grammatical attributes\n",
    "print(\"Base word:\", [token.lemma_ for token in doc[3:10]])"
   ]
  },
  {
   "cell_type": "markdown",
   "id": "53360261",
   "metadata": {},
   "source": [
    "# Architecture and core data structures"
   ]
  },
  {
   "cell_type": "code",
   "execution_count": 7,
   "id": "ab2d2337",
   "metadata": {},
   "outputs": [
    {
     "data": {
      "text/plain": [
       "spacy.lang.en.English"
      ]
     },
     "execution_count": 7,
     "metadata": {},
     "output_type": "execute_result"
    }
   ],
   "source": [
    "nlp = spacy.load(\"en_core_web_md\")\n",
    "type(nlp)"
   ]
  },
  {
   "cell_type": "code",
   "execution_count": 8,
   "id": "c2d63d76",
   "metadata": {},
   "outputs": [],
   "source": [
    "# other languages\n",
    "# nlp = spacy.load(\"es_core_news_sm\")  # Spanish\n",
    "# nlp = spacy.load(\"ru_core_news_sm\")  # Russian\n",
    "# nlp = spacy.load(\"zh_core_web_sm\")  # Chinese\n",
    "# nlp = spacy.load(\"de_core_news_sm\")  # German"
   ]
  },
  {
   "cell_type": "code",
   "execution_count": 9,
   "id": "771c85eb",
   "metadata": {},
   "outputs": [
    {
     "data": {
      "text/plain": [
       "spacy.lang.en.English"
      ]
     },
     "execution_count": 9,
     "metadata": {},
     "output_type": "execute_result"
    }
   ],
   "source": [
    "# loading language models from lang sub-module\n",
    "from spacy.lang.en import English\n",
    "\n",
    "nlp = English()\n",
    "type(nlp)"
   ]
  },
  {
   "cell_type": "code",
   "execution_count": 10,
   "id": "74929f04",
   "metadata": {},
   "outputs": [
    {
     "data": {
      "text/plain": [
       "The original name for the search engine Google was Backrub. \n",
       "         It was renamed Google after the googol, \n",
       "         which is the number one followed by 100 zeros."
      ]
     },
     "execution_count": 10,
     "metadata": {},
     "output_type": "execute_result"
    }
   ],
   "source": [
    "txt = \"\"\"The original name for the search engine Google was Backrub. \n",
    "         It was renamed Google after the googol, \n",
    "         which is the number one followed by 100 zeros.\"\"\"\n",
    "doc = nlp(txt)\n",
    "doc"
   ]
  },
  {
   "cell_type": "code",
   "execution_count": 11,
   "id": "9341b22d",
   "metadata": {},
   "outputs": [
    {
     "data": {
      "text/plain": [
       "785"
      ]
     },
     "execution_count": 11,
     "metadata": {},
     "output_type": "execute_result"
    }
   ],
   "source": [
    "# after processing text, words and punctuations are stored in the vocab object\n",
    "# of nlp\n",
    "len(nlp.vocab)"
   ]
  },
  {
   "cell_type": "code",
   "execution_count": 12,
   "id": "ee42cfd0",
   "metadata": {},
   "outputs": [
    {
     "data": {
      "text/plain": [
       "785"
      ]
     },
     "execution_count": 12,
     "metadata": {},
     "output_type": "execute_result"
    }
   ],
   "source": [
    "# the vocab is shared between documents for the nlp object\n",
    "# doc object's vocab only contains words from txt\n",
    "len(doc.vocab)"
   ]
  },
  {
   "cell_type": "code",
   "execution_count": 13,
   "id": "4d438a20",
   "metadata": {},
   "outputs": [
    {
     "data": {
      "text/plain": [
       "spacy.strings.StringStore"
      ]
     },
     "execution_count": 13,
     "metadata": {},
     "output_type": "execute_result"
    }
   ],
   "source": [
    "# communicates with hashses and has a 2-way lookup table called StringStore\n",
    "type(nlp.vocab.strings)"
   ]
  },
  {
   "cell_type": "code",
   "execution_count": 14,
   "id": "5622d018",
   "metadata": {},
   "outputs": [
    {
     "data": {
      "text/plain": [
       "1988622737398120358"
      ]
     },
     "execution_count": 14,
     "metadata": {},
     "output_type": "execute_result"
    }
   ],
   "source": [
    "nlp.vocab.strings['google']"
   ]
  },
  {
   "cell_type": "code",
   "execution_count": 15,
   "id": "61230adc",
   "metadata": {},
   "outputs": [
    {
     "data": {
      "text/plain": [
       "'google'"
      ]
     },
     "execution_count": 15,
     "metadata": {},
     "output_type": "execute_result"
    }
   ],
   "source": [
    "nlp.vocab.strings[1988622737398120358]"
   ]
  },
  {
   "cell_type": "code",
   "execution_count": 16,
   "id": "1814070c",
   "metadata": {},
   "outputs": [
    {
     "data": {
      "text/plain": [
       "spacy.lexeme.Lexeme"
      ]
     },
     "execution_count": 16,
     "metadata": {},
     "output_type": "execute_result"
    }
   ],
   "source": [
    "# when tokens go into the vocab, these lose all context-specific information\n",
    "# you are actually looking at lexemes when you see words from vocab\n",
    "lexeme = nlp.vocab['google']\n",
    "type(lexeme)"
   ]
  },
  {
   "cell_type": "code",
   "execution_count": 17,
   "id": "c2e0b2c9",
   "metadata": {},
   "outputs": [
    {
     "name": "stdout",
     "output_type": "stream",
     "text": [
      "google 1988622737398120358 False\n"
     ]
    }
   ],
   "source": [
    "# lexemes don't contain context-specific info like part-of-speech tags,\n",
    "# morphological dependencies, etc\n",
    "# may still offer many lexical attributes of a word\n",
    "print(lexeme.text, lexeme.orth, lexeme.is_digit)"
   ]
  },
  {
   "cell_type": "code",
   "execution_count": 18,
   "id": "98d7a577",
   "metadata": {},
   "outputs": [
    {
     "name": "stdout",
     "output_type": "stream",
     "text": [
      "<class 'spacy.tokens.doc.Doc'>\n",
      "27\n"
     ]
    }
   ],
   "source": [
    "# orth refers to the hash of the lexeme\n",
    "# looking at word in doc object, it is a token\n",
    "# looking at word in vocab object, it is a lexeme\n",
    "txt = \"\"\"Mosquitoes are the deadliest animal in the world: \n",
    "         They kill more people than any other creature, \n",
    "         due to the diseases they carry.\"\"\"\n",
    "\n",
    "doc = nlp(txt)\n",
    "\n",
    "print(type(doc))\n",
    "print(len(doc))"
   ]
  },
  {
   "cell_type": "code",
   "execution_count": 19,
   "id": "1e0c9a91",
   "metadata": {},
   "outputs": [
    {
     "data": {
      "text/plain": [
       "'I love Habitica!'"
      ]
     },
     "execution_count": 19,
     "metadata": {},
     "output_type": "execute_result"
    }
   ],
   "source": [
    "# can manually create docs by importing doc class\n",
    "from spacy.tokens import Doc\n",
    "nlp = English()\n",
    "\n",
    "words = ['I','love','Habitica','!']\n",
    "spaces = [True,True, False,False]\n",
    "\n",
    "#creating the doc manually\n",
    "doc = Doc(nlp.vocab, words=words,spaces=spaces)\n",
    "doc.text"
   ]
  },
  {
   "cell_type": "code",
   "execution_count": 20,
   "id": "89c5cc50",
   "metadata": {},
   "outputs": [
    {
     "data": {
      "text/plain": [
       "spacy.tokens.span.Span"
      ]
     },
     "execution_count": 20,
     "metadata": {},
     "output_type": "execute_result"
    }
   ],
   "source": [
    "# spans are also a class of their own\n",
    "txt = \"\"\"The hardest working muscle in your body is your heart: \n",
    "         It pumps more than 2,000 gallons of blood a day\n",
    "         and beats more than 2.5 billion times in a 70-year life span.\"\"\"\n",
    "\n",
    "doc = nlp(txt)\n",
    "span = doc[:10]\n",
    "type(span)"
   ]
  },
  {
   "cell_type": "code",
   "execution_count": 21,
   "id": "89fa3f2a",
   "metadata": {},
   "outputs": [
    {
     "name": "stdout",
     "output_type": "stream",
     "text": [
      "The hardest working muscle in your body is your heart\n",
      "0 10\n"
     ]
    }
   ],
   "source": [
    "print(span.text)\n",
    "print(span.start, span.end)"
   ]
  },
  {
   "cell_type": "code",
   "execution_count": 22,
   "id": "7e1d06fd",
   "metadata": {},
   "outputs": [
    {
     "data": {
      "text/plain": [
       "'The hardest working muscle in your body is your heart'"
      ]
     },
     "execution_count": 22,
     "metadata": {},
     "output_type": "execute_result"
    }
   ],
   "source": [
    "# creating span manually\n",
    "from spacy.tokens import Span\n",
    "\n",
    "span = Span(doc, 0 ,10)\n",
    "span.text"
   ]
  },
  {
   "cell_type": "markdown",
   "id": "e81d1dc5",
   "metadata": {},
   "source": [
    "# Named Entity Recognition (NER)"
   ]
  },
  {
   "cell_type": "code",
   "execution_count": 23,
   "id": "fa78278e",
   "metadata": {},
   "outputs": [
    {
     "name": "stdout",
     "output_type": "stream",
     "text": [
      "Cleopatra           PERSON              \n",
      "Egyptian            NORP                \n",
      "Egypt               GPE                 \n",
      "Greek               NORP                \n",
      "Alexander the Great'sORG                 \n",
      "Macedonian          NORP                \n",
      "Ptolemy             NORP                \n"
     ]
    }
   ],
   "source": [
    "txt = \"\"\"Cleopatra wasn't actually Egyptian! \n",
    "         As far as historians can tell, Egypt's \n",
    "         famous femme fatal was actually Greek!. \n",
    "         She was a descendant of Alexander the Great's\n",
    "         Macedonian general Ptolemy\"\"\"\n",
    "\n",
    "nlp = spacy.load(\"en_core_web_lg\")\n",
    "doc = nlp(txt)\n",
    "for ent in doc.ents:\n",
    "    print(f\"{ent.text:<20}{ent.label_:<20}\")"
   ]
  },
  {
   "cell_type": "code",
   "execution_count": 24,
   "id": "0b1e36cd",
   "metadata": {},
   "outputs": [
    {
     "name": "stdout",
     "output_type": "stream",
     "text": [
      "Companies, agencies, institutions, etc.\n",
      "Countries, cities, states\n",
      "People, including fictional\n"
     ]
    },
    {
     "data": {
      "text/plain": [
       "'Nationalities or religious or political groups'"
      ]
     },
     "execution_count": 24,
     "metadata": {},
     "output_type": "execute_result"
    }
   ],
   "source": [
    "print(spacy.explain('ORG'))\n",
    "print(spacy.explain('GPE'))\n",
    "print(spacy.explain('PERSON'))\n",
    "spacy.explain('NORP')"
   ]
  },
  {
   "cell_type": "code",
   "execution_count": 25,
   "id": "803d09e9",
   "metadata": {},
   "outputs": [
    {
     "data": {
      "text/plain": [
       "Alexander the Great"
      ]
     },
     "execution_count": 25,
     "metadata": {},
     "output_type": "execute_result"
    }
   ],
   "source": [
    "from spacy.tokens import Span\n",
    "\n",
    "alexander = Span(doc, 31, 34, label=\"PERSON\")\n",
    "alexander"
   ]
  },
  {
   "cell_type": "code",
   "execution_count": 26,
   "id": "456e915b",
   "metadata": {},
   "outputs": [],
   "source": [
    "# Leaves the rest of ents untouched\n",
    "doc.set_ents([alexander], default=\"unmodified\")"
   ]
  },
  {
   "cell_type": "code",
   "execution_count": 27,
   "id": "a533a40b",
   "metadata": {},
   "outputs": [
    {
     "name": "stdout",
     "output_type": "stream",
     "text": [
      "Cleopatra           PERSON              \n",
      "Egyptian            NORP                \n",
      "Egypt               GPE                 \n",
      "Greek               NORP                \n",
      "Alexander the Great PERSON              \n",
      "'s                  ORG                 \n",
      "Macedonian          NORP                \n",
      "Ptolemy             NORP                \n"
     ]
    }
   ],
   "source": [
    "for ent in doc.ents:\n",
    "    print(f\"{ent.text:<20}{ent.label_:<20}\")"
   ]
  },
  {
   "cell_type": "code",
   "execution_count": 28,
   "id": "ca9e0cee",
   "metadata": {},
   "outputs": [
    {
     "data": {
      "text/html": [
       "<span class=\"tex2jax_ignore\"><svg xmlns=\"http://www.w3.org/2000/svg\" xmlns:xlink=\"http://www.w3.org/1999/xlink\" xml:lang=\"en\" id=\"8080906a70b64bfebdcf769ff34a2db0-0\" class=\"displacy\" width=\"5300\" height=\"512.0\" direction=\"ltr\" style=\"max-width: none; height: 512.0px; color: white; background: #09a3d5; font-family: Source Sans Pro; direction: ltr\">\n",
       "<text class=\"displacy-token\" fill=\"currentColor\" text-anchor=\"middle\" y=\"422.0\">\n",
       "    <tspan class=\"displacy-word\" fill=\"currentColor\" x=\"50\">Cleopatra</tspan>\n",
       "    <tspan class=\"displacy-tag\" dy=\"2em\" fill=\"currentColor\" x=\"50\">PROPN</tspan>\n",
       "</text>\n",
       "\n",
       "<text class=\"displacy-token\" fill=\"currentColor\" text-anchor=\"middle\" y=\"422.0\">\n",
       "    <tspan class=\"displacy-word\" fill=\"currentColor\" x=\"200\">was</tspan>\n",
       "    <tspan class=\"displacy-tag\" dy=\"2em\" fill=\"currentColor\" x=\"200\">AUX</tspan>\n",
       "</text>\n",
       "\n",
       "<text class=\"displacy-token\" fill=\"currentColor\" text-anchor=\"middle\" y=\"422.0\">\n",
       "    <tspan class=\"displacy-word\" fill=\"currentColor\" x=\"350\">n't</tspan>\n",
       "    <tspan class=\"displacy-tag\" dy=\"2em\" fill=\"currentColor\" x=\"350\">PART</tspan>\n",
       "</text>\n",
       "\n",
       "<text class=\"displacy-token\" fill=\"currentColor\" text-anchor=\"middle\" y=\"422.0\">\n",
       "    <tspan class=\"displacy-word\" fill=\"currentColor\" x=\"500\">actually</tspan>\n",
       "    <tspan class=\"displacy-tag\" dy=\"2em\" fill=\"currentColor\" x=\"500\">ADV</tspan>\n",
       "</text>\n",
       "\n",
       "<text class=\"displacy-token\" fill=\"currentColor\" text-anchor=\"middle\" y=\"422.0\">\n",
       "    <tspan class=\"displacy-word\" fill=\"currentColor\" x=\"650\">Egyptian!</tspan>\n",
       "    <tspan class=\"displacy-tag\" dy=\"2em\" fill=\"currentColor\" x=\"650\">ADJ</tspan>\n",
       "</text>\n",
       "\n",
       "<text class=\"displacy-token\" fill=\"currentColor\" text-anchor=\"middle\" y=\"422.0\">\n",
       "    <tspan class=\"displacy-word\" fill=\"currentColor\" x=\"800\">\n",
       "         </tspan>\n",
       "    <tspan class=\"displacy-tag\" dy=\"2em\" fill=\"currentColor\" x=\"800\">SPACE</tspan>\n",
       "</text>\n",
       "\n",
       "<text class=\"displacy-token\" fill=\"currentColor\" text-anchor=\"middle\" y=\"422.0\">\n",
       "    <tspan class=\"displacy-word\" fill=\"currentColor\" x=\"950\">As</tspan>\n",
       "    <tspan class=\"displacy-tag\" dy=\"2em\" fill=\"currentColor\" x=\"950\">ADV</tspan>\n",
       "</text>\n",
       "\n",
       "<text class=\"displacy-token\" fill=\"currentColor\" text-anchor=\"middle\" y=\"422.0\">\n",
       "    <tspan class=\"displacy-word\" fill=\"currentColor\" x=\"1100\">far</tspan>\n",
       "    <tspan class=\"displacy-tag\" dy=\"2em\" fill=\"currentColor\" x=\"1100\">ADV</tspan>\n",
       "</text>\n",
       "\n",
       "<text class=\"displacy-token\" fill=\"currentColor\" text-anchor=\"middle\" y=\"422.0\">\n",
       "    <tspan class=\"displacy-word\" fill=\"currentColor\" x=\"1250\">as</tspan>\n",
       "    <tspan class=\"displacy-tag\" dy=\"2em\" fill=\"currentColor\" x=\"1250\">SCONJ</tspan>\n",
       "</text>\n",
       "\n",
       "<text class=\"displacy-token\" fill=\"currentColor\" text-anchor=\"middle\" y=\"422.0\">\n",
       "    <tspan class=\"displacy-word\" fill=\"currentColor\" x=\"1400\">historians</tspan>\n",
       "    <tspan class=\"displacy-tag\" dy=\"2em\" fill=\"currentColor\" x=\"1400\">NOUN</tspan>\n",
       "</text>\n",
       "\n",
       "<text class=\"displacy-token\" fill=\"currentColor\" text-anchor=\"middle\" y=\"422.0\">\n",
       "    <tspan class=\"displacy-word\" fill=\"currentColor\" x=\"1550\">can</tspan>\n",
       "    <tspan class=\"displacy-tag\" dy=\"2em\" fill=\"currentColor\" x=\"1550\">AUX</tspan>\n",
       "</text>\n",
       "\n",
       "<text class=\"displacy-token\" fill=\"currentColor\" text-anchor=\"middle\" y=\"422.0\">\n",
       "    <tspan class=\"displacy-word\" fill=\"currentColor\" x=\"1700\">tell,</tspan>\n",
       "    <tspan class=\"displacy-tag\" dy=\"2em\" fill=\"currentColor\" x=\"1700\">VERB</tspan>\n",
       "</text>\n",
       "\n",
       "<text class=\"displacy-token\" fill=\"currentColor\" text-anchor=\"middle\" y=\"422.0\">\n",
       "    <tspan class=\"displacy-word\" fill=\"currentColor\" x=\"1850\">Egypt</tspan>\n",
       "    <tspan class=\"displacy-tag\" dy=\"2em\" fill=\"currentColor\" x=\"1850\">PROPN</tspan>\n",
       "</text>\n",
       "\n",
       "<text class=\"displacy-token\" fill=\"currentColor\" text-anchor=\"middle\" y=\"422.0\">\n",
       "    <tspan class=\"displacy-word\" fill=\"currentColor\" x=\"2000\">'s</tspan>\n",
       "    <tspan class=\"displacy-tag\" dy=\"2em\" fill=\"currentColor\" x=\"2000\">PART</tspan>\n",
       "</text>\n",
       "\n",
       "<text class=\"displacy-token\" fill=\"currentColor\" text-anchor=\"middle\" y=\"422.0\">\n",
       "    <tspan class=\"displacy-word\" fill=\"currentColor\" x=\"2150\">\n",
       "         </tspan>\n",
       "    <tspan class=\"displacy-tag\" dy=\"2em\" fill=\"currentColor\" x=\"2150\">SPACE</tspan>\n",
       "</text>\n",
       "\n",
       "<text class=\"displacy-token\" fill=\"currentColor\" text-anchor=\"middle\" y=\"422.0\">\n",
       "    <tspan class=\"displacy-word\" fill=\"currentColor\" x=\"2300\">famous</tspan>\n",
       "    <tspan class=\"displacy-tag\" dy=\"2em\" fill=\"currentColor\" x=\"2300\">ADJ</tspan>\n",
       "</text>\n",
       "\n",
       "<text class=\"displacy-token\" fill=\"currentColor\" text-anchor=\"middle\" y=\"422.0\">\n",
       "    <tspan class=\"displacy-word\" fill=\"currentColor\" x=\"2450\">femme</tspan>\n",
       "    <tspan class=\"displacy-tag\" dy=\"2em\" fill=\"currentColor\" x=\"2450\">PROPN</tspan>\n",
       "</text>\n",
       "\n",
       "<text class=\"displacy-token\" fill=\"currentColor\" text-anchor=\"middle\" y=\"422.0\">\n",
       "    <tspan class=\"displacy-word\" fill=\"currentColor\" x=\"2600\">fatal</tspan>\n",
       "    <tspan class=\"displacy-tag\" dy=\"2em\" fill=\"currentColor\" x=\"2600\">ADJ</tspan>\n",
       "</text>\n",
       "\n",
       "<text class=\"displacy-token\" fill=\"currentColor\" text-anchor=\"middle\" y=\"422.0\">\n",
       "    <tspan class=\"displacy-word\" fill=\"currentColor\" x=\"2750\">was</tspan>\n",
       "    <tspan class=\"displacy-tag\" dy=\"2em\" fill=\"currentColor\" x=\"2750\">AUX</tspan>\n",
       "</text>\n",
       "\n",
       "<text class=\"displacy-token\" fill=\"currentColor\" text-anchor=\"middle\" y=\"422.0\">\n",
       "    <tspan class=\"displacy-word\" fill=\"currentColor\" x=\"2900\">actually</tspan>\n",
       "    <tspan class=\"displacy-tag\" dy=\"2em\" fill=\"currentColor\" x=\"2900\">ADV</tspan>\n",
       "</text>\n",
       "\n",
       "<text class=\"displacy-token\" fill=\"currentColor\" text-anchor=\"middle\" y=\"422.0\">\n",
       "    <tspan class=\"displacy-word\" fill=\"currentColor\" x=\"3050\">Greek!.</tspan>\n",
       "    <tspan class=\"displacy-tag\" dy=\"2em\" fill=\"currentColor\" x=\"3050\">ADJ</tspan>\n",
       "</text>\n",
       "\n",
       "<text class=\"displacy-token\" fill=\"currentColor\" text-anchor=\"middle\" y=\"422.0\">\n",
       "    <tspan class=\"displacy-word\" fill=\"currentColor\" x=\"3200\">\n",
       "         </tspan>\n",
       "    <tspan class=\"displacy-tag\" dy=\"2em\" fill=\"currentColor\" x=\"3200\">SPACE</tspan>\n",
       "</text>\n",
       "\n",
       "<text class=\"displacy-token\" fill=\"currentColor\" text-anchor=\"middle\" y=\"422.0\">\n",
       "    <tspan class=\"displacy-word\" fill=\"currentColor\" x=\"3350\">She</tspan>\n",
       "    <tspan class=\"displacy-tag\" dy=\"2em\" fill=\"currentColor\" x=\"3350\">PRON</tspan>\n",
       "</text>\n",
       "\n",
       "<text class=\"displacy-token\" fill=\"currentColor\" text-anchor=\"middle\" y=\"422.0\">\n",
       "    <tspan class=\"displacy-word\" fill=\"currentColor\" x=\"3500\">was</tspan>\n",
       "    <tspan class=\"displacy-tag\" dy=\"2em\" fill=\"currentColor\" x=\"3500\">AUX</tspan>\n",
       "</text>\n",
       "\n",
       "<text class=\"displacy-token\" fill=\"currentColor\" text-anchor=\"middle\" y=\"422.0\">\n",
       "    <tspan class=\"displacy-word\" fill=\"currentColor\" x=\"3650\">a</tspan>\n",
       "    <tspan class=\"displacy-tag\" dy=\"2em\" fill=\"currentColor\" x=\"3650\">DET</tspan>\n",
       "</text>\n",
       "\n",
       "<text class=\"displacy-token\" fill=\"currentColor\" text-anchor=\"middle\" y=\"422.0\">\n",
       "    <tspan class=\"displacy-word\" fill=\"currentColor\" x=\"3800\">descendant</tspan>\n",
       "    <tspan class=\"displacy-tag\" dy=\"2em\" fill=\"currentColor\" x=\"3800\">NOUN</tspan>\n",
       "</text>\n",
       "\n",
       "<text class=\"displacy-token\" fill=\"currentColor\" text-anchor=\"middle\" y=\"422.0\">\n",
       "    <tspan class=\"displacy-word\" fill=\"currentColor\" x=\"3950\">of</tspan>\n",
       "    <tspan class=\"displacy-tag\" dy=\"2em\" fill=\"currentColor\" x=\"3950\">ADP</tspan>\n",
       "</text>\n",
       "\n",
       "<text class=\"displacy-token\" fill=\"currentColor\" text-anchor=\"middle\" y=\"422.0\">\n",
       "    <tspan class=\"displacy-word\" fill=\"currentColor\" x=\"4100\">Alexander</tspan>\n",
       "    <tspan class=\"displacy-tag\" dy=\"2em\" fill=\"currentColor\" x=\"4100\">PROPN</tspan>\n",
       "</text>\n",
       "\n",
       "<text class=\"displacy-token\" fill=\"currentColor\" text-anchor=\"middle\" y=\"422.0\">\n",
       "    <tspan class=\"displacy-word\" fill=\"currentColor\" x=\"4250\">the</tspan>\n",
       "    <tspan class=\"displacy-tag\" dy=\"2em\" fill=\"currentColor\" x=\"4250\">DET</tspan>\n",
       "</text>\n",
       "\n",
       "<text class=\"displacy-token\" fill=\"currentColor\" text-anchor=\"middle\" y=\"422.0\">\n",
       "    <tspan class=\"displacy-word\" fill=\"currentColor\" x=\"4400\">Great</tspan>\n",
       "    <tspan class=\"displacy-tag\" dy=\"2em\" fill=\"currentColor\" x=\"4400\">PROPN</tspan>\n",
       "</text>\n",
       "\n",
       "<text class=\"displacy-token\" fill=\"currentColor\" text-anchor=\"middle\" y=\"422.0\">\n",
       "    <tspan class=\"displacy-word\" fill=\"currentColor\" x=\"4550\">'s</tspan>\n",
       "    <tspan class=\"displacy-tag\" dy=\"2em\" fill=\"currentColor\" x=\"4550\">PART</tspan>\n",
       "</text>\n",
       "\n",
       "<text class=\"displacy-token\" fill=\"currentColor\" text-anchor=\"middle\" y=\"422.0\">\n",
       "    <tspan class=\"displacy-word\" fill=\"currentColor\" x=\"4700\">\n",
       "         </tspan>\n",
       "    <tspan class=\"displacy-tag\" dy=\"2em\" fill=\"currentColor\" x=\"4700\">SPACE</tspan>\n",
       "</text>\n",
       "\n",
       "<text class=\"displacy-token\" fill=\"currentColor\" text-anchor=\"middle\" y=\"422.0\">\n",
       "    <tspan class=\"displacy-word\" fill=\"currentColor\" x=\"4850\">Macedonian</tspan>\n",
       "    <tspan class=\"displacy-tag\" dy=\"2em\" fill=\"currentColor\" x=\"4850\">ADJ</tspan>\n",
       "</text>\n",
       "\n",
       "<text class=\"displacy-token\" fill=\"currentColor\" text-anchor=\"middle\" y=\"422.0\">\n",
       "    <tspan class=\"displacy-word\" fill=\"currentColor\" x=\"5000\">general</tspan>\n",
       "    <tspan class=\"displacy-tag\" dy=\"2em\" fill=\"currentColor\" x=\"5000\">ADJ</tspan>\n",
       "</text>\n",
       "\n",
       "<text class=\"displacy-token\" fill=\"currentColor\" text-anchor=\"middle\" y=\"422.0\">\n",
       "    <tspan class=\"displacy-word\" fill=\"currentColor\" x=\"5150\">Ptolemy</tspan>\n",
       "    <tspan class=\"displacy-tag\" dy=\"2em\" fill=\"currentColor\" x=\"5150\">PROPN</tspan>\n",
       "</text>\n",
       "\n",
       "<g class=\"displacy-arrow\">\n",
       "    <path class=\"displacy-arc\" id=\"arrow-8080906a70b64bfebdcf769ff34a2db0-0-0\" stroke-width=\"2px\" d=\"M62,377.0 62,352.0 188.0,352.0 188.0,377.0\" fill=\"none\" stroke=\"currentColor\"/>\n",
       "    <text dy=\"1.25em\" style=\"font-size: 0.8em; letter-spacing: 1px\">\n",
       "        <textPath xlink:href=\"#arrow-8080906a70b64bfebdcf769ff34a2db0-0-0\" class=\"displacy-label\" startOffset=\"50%\" side=\"left\" fill=\"currentColor\" text-anchor=\"middle\">nsubj</textPath>\n",
       "    </text>\n",
       "    <path class=\"displacy-arrowhead\" d=\"M62,379.0 L58,371.0 66,371.0\" fill=\"currentColor\"/>\n",
       "</g>\n",
       "\n",
       "<g class=\"displacy-arrow\">\n",
       "    <path class=\"displacy-arc\" id=\"arrow-8080906a70b64bfebdcf769ff34a2db0-0-1\" stroke-width=\"2px\" d=\"M212,377.0 212,352.0 338.0,352.0 338.0,377.0\" fill=\"none\" stroke=\"currentColor\"/>\n",
       "    <text dy=\"1.25em\" style=\"font-size: 0.8em; letter-spacing: 1px\">\n",
       "        <textPath xlink:href=\"#arrow-8080906a70b64bfebdcf769ff34a2db0-0-1\" class=\"displacy-label\" startOffset=\"50%\" side=\"left\" fill=\"currentColor\" text-anchor=\"middle\">neg</textPath>\n",
       "    </text>\n",
       "    <path class=\"displacy-arrowhead\" d=\"M338.0,379.0 L342.0,371.0 334.0,371.0\" fill=\"currentColor\"/>\n",
       "</g>\n",
       "\n",
       "<g class=\"displacy-arrow\">\n",
       "    <path class=\"displacy-arc\" id=\"arrow-8080906a70b64bfebdcf769ff34a2db0-0-2\" stroke-width=\"2px\" d=\"M212,377.0 212,327.0 491.0,327.0 491.0,377.0\" fill=\"none\" stroke=\"currentColor\"/>\n",
       "    <text dy=\"1.25em\" style=\"font-size: 0.8em; letter-spacing: 1px\">\n",
       "        <textPath xlink:href=\"#arrow-8080906a70b64bfebdcf769ff34a2db0-0-2\" class=\"displacy-label\" startOffset=\"50%\" side=\"left\" fill=\"currentColor\" text-anchor=\"middle\">advmod</textPath>\n",
       "    </text>\n",
       "    <path class=\"displacy-arrowhead\" d=\"M491.0,379.0 L495.0,371.0 487.0,371.0\" fill=\"currentColor\"/>\n",
       "</g>\n",
       "\n",
       "<g class=\"displacy-arrow\">\n",
       "    <path class=\"displacy-arc\" id=\"arrow-8080906a70b64bfebdcf769ff34a2db0-0-3\" stroke-width=\"2px\" d=\"M212,377.0 212,302.0 644.0,302.0 644.0,377.0\" fill=\"none\" stroke=\"currentColor\"/>\n",
       "    <text dy=\"1.25em\" style=\"font-size: 0.8em; letter-spacing: 1px\">\n",
       "        <textPath xlink:href=\"#arrow-8080906a70b64bfebdcf769ff34a2db0-0-3\" class=\"displacy-label\" startOffset=\"50%\" side=\"left\" fill=\"currentColor\" text-anchor=\"middle\">acomp</textPath>\n",
       "    </text>\n",
       "    <path class=\"displacy-arrowhead\" d=\"M644.0,379.0 L648.0,371.0 640.0,371.0\" fill=\"currentColor\"/>\n",
       "</g>\n",
       "\n",
       "<g class=\"displacy-arrow\">\n",
       "    <path class=\"displacy-arc\" id=\"arrow-8080906a70b64bfebdcf769ff34a2db0-0-4\" stroke-width=\"2px\" d=\"M962,377.0 962,352.0 1088.0,352.0 1088.0,377.0\" fill=\"none\" stroke=\"currentColor\"/>\n",
       "    <text dy=\"1.25em\" style=\"font-size: 0.8em; letter-spacing: 1px\">\n",
       "        <textPath xlink:href=\"#arrow-8080906a70b64bfebdcf769ff34a2db0-0-4\" class=\"displacy-label\" startOffset=\"50%\" side=\"left\" fill=\"currentColor\" text-anchor=\"middle\">advmod</textPath>\n",
       "    </text>\n",
       "    <path class=\"displacy-arrowhead\" d=\"M962,379.0 L958,371.0 966,371.0\" fill=\"currentColor\"/>\n",
       "</g>\n",
       "\n",
       "<g class=\"displacy-arrow\">\n",
       "    <path class=\"displacy-arc\" id=\"arrow-8080906a70b64bfebdcf769ff34a2db0-0-5\" stroke-width=\"2px\" d=\"M1112,377.0 1112,252.0 2750.0,252.0 2750.0,377.0\" fill=\"none\" stroke=\"currentColor\"/>\n",
       "    <text dy=\"1.25em\" style=\"font-size: 0.8em; letter-spacing: 1px\">\n",
       "        <textPath xlink:href=\"#arrow-8080906a70b64bfebdcf769ff34a2db0-0-5\" class=\"displacy-label\" startOffset=\"50%\" side=\"left\" fill=\"currentColor\" text-anchor=\"middle\">advmod</textPath>\n",
       "    </text>\n",
       "    <path class=\"displacy-arrowhead\" d=\"M1112,379.0 L1108,371.0 1116,371.0\" fill=\"currentColor\"/>\n",
       "</g>\n",
       "\n",
       "<g class=\"displacy-arrow\">\n",
       "    <path class=\"displacy-arc\" id=\"arrow-8080906a70b64bfebdcf769ff34a2db0-0-6\" stroke-width=\"2px\" d=\"M1262,377.0 1262,302.0 1694.0,302.0 1694.0,377.0\" fill=\"none\" stroke=\"currentColor\"/>\n",
       "    <text dy=\"1.25em\" style=\"font-size: 0.8em; letter-spacing: 1px\">\n",
       "        <textPath xlink:href=\"#arrow-8080906a70b64bfebdcf769ff34a2db0-0-6\" class=\"displacy-label\" startOffset=\"50%\" side=\"left\" fill=\"currentColor\" text-anchor=\"middle\">mark</textPath>\n",
       "    </text>\n",
       "    <path class=\"displacy-arrowhead\" d=\"M1262,379.0 L1258,371.0 1266,371.0\" fill=\"currentColor\"/>\n",
       "</g>\n",
       "\n",
       "<g class=\"displacy-arrow\">\n",
       "    <path class=\"displacy-arc\" id=\"arrow-8080906a70b64bfebdcf769ff34a2db0-0-7\" stroke-width=\"2px\" d=\"M1412,377.0 1412,327.0 1691.0,327.0 1691.0,377.0\" fill=\"none\" stroke=\"currentColor\"/>\n",
       "    <text dy=\"1.25em\" style=\"font-size: 0.8em; letter-spacing: 1px\">\n",
       "        <textPath xlink:href=\"#arrow-8080906a70b64bfebdcf769ff34a2db0-0-7\" class=\"displacy-label\" startOffset=\"50%\" side=\"left\" fill=\"currentColor\" text-anchor=\"middle\">nsubj</textPath>\n",
       "    </text>\n",
       "    <path class=\"displacy-arrowhead\" d=\"M1412,379.0 L1408,371.0 1416,371.0\" fill=\"currentColor\"/>\n",
       "</g>\n",
       "\n",
       "<g class=\"displacy-arrow\">\n",
       "    <path class=\"displacy-arc\" id=\"arrow-8080906a70b64bfebdcf769ff34a2db0-0-8\" stroke-width=\"2px\" d=\"M1562,377.0 1562,352.0 1688.0,352.0 1688.0,377.0\" fill=\"none\" stroke=\"currentColor\"/>\n",
       "    <text dy=\"1.25em\" style=\"font-size: 0.8em; letter-spacing: 1px\">\n",
       "        <textPath xlink:href=\"#arrow-8080906a70b64bfebdcf769ff34a2db0-0-8\" class=\"displacy-label\" startOffset=\"50%\" side=\"left\" fill=\"currentColor\" text-anchor=\"middle\">aux</textPath>\n",
       "    </text>\n",
       "    <path class=\"displacy-arrowhead\" d=\"M1562,379.0 L1558,371.0 1566,371.0\" fill=\"currentColor\"/>\n",
       "</g>\n",
       "\n",
       "<g class=\"displacy-arrow\">\n",
       "    <path class=\"displacy-arc\" id=\"arrow-8080906a70b64bfebdcf769ff34a2db0-0-9\" stroke-width=\"2px\" d=\"M1112,377.0 1112,277.0 1697.0,277.0 1697.0,377.0\" fill=\"none\" stroke=\"currentColor\"/>\n",
       "    <text dy=\"1.25em\" style=\"font-size: 0.8em; letter-spacing: 1px\">\n",
       "        <textPath xlink:href=\"#arrow-8080906a70b64bfebdcf769ff34a2db0-0-9\" class=\"displacy-label\" startOffset=\"50%\" side=\"left\" fill=\"currentColor\" text-anchor=\"middle\">advcl</textPath>\n",
       "    </text>\n",
       "    <path class=\"displacy-arrowhead\" d=\"M1697.0,379.0 L1701.0,371.0 1693.0,371.0\" fill=\"currentColor\"/>\n",
       "</g>\n",
       "\n",
       "<g class=\"displacy-arrow\">\n",
       "    <path class=\"displacy-arc\" id=\"arrow-8080906a70b64bfebdcf769ff34a2db0-0-10\" stroke-width=\"2px\" d=\"M1862,377.0 1862,302.0 2594.0,302.0 2594.0,377.0\" fill=\"none\" stroke=\"currentColor\"/>\n",
       "    <text dy=\"1.25em\" style=\"font-size: 0.8em; letter-spacing: 1px\">\n",
       "        <textPath xlink:href=\"#arrow-8080906a70b64bfebdcf769ff34a2db0-0-10\" class=\"displacy-label\" startOffset=\"50%\" side=\"left\" fill=\"currentColor\" text-anchor=\"middle\">poss</textPath>\n",
       "    </text>\n",
       "    <path class=\"displacy-arrowhead\" d=\"M1862,379.0 L1858,371.0 1866,371.0\" fill=\"currentColor\"/>\n",
       "</g>\n",
       "\n",
       "<g class=\"displacy-arrow\">\n",
       "    <path class=\"displacy-arc\" id=\"arrow-8080906a70b64bfebdcf769ff34a2db0-0-11\" stroke-width=\"2px\" d=\"M1862,377.0 1862,352.0 1988.0,352.0 1988.0,377.0\" fill=\"none\" stroke=\"currentColor\"/>\n",
       "    <text dy=\"1.25em\" style=\"font-size: 0.8em; letter-spacing: 1px\">\n",
       "        <textPath xlink:href=\"#arrow-8080906a70b64bfebdcf769ff34a2db0-0-11\" class=\"displacy-label\" startOffset=\"50%\" side=\"left\" fill=\"currentColor\" text-anchor=\"middle\">case</textPath>\n",
       "    </text>\n",
       "    <path class=\"displacy-arrowhead\" d=\"M1988.0,379.0 L1992.0,371.0 1984.0,371.0\" fill=\"currentColor\"/>\n",
       "</g>\n",
       "\n",
       "<g class=\"displacy-arrow\">\n",
       "    <path class=\"displacy-arc\" id=\"arrow-8080906a70b64bfebdcf769ff34a2db0-0-12\" stroke-width=\"2px\" d=\"M1862,377.0 1862,327.0 2141.0,327.0 2141.0,377.0\" fill=\"none\" stroke=\"currentColor\"/>\n",
       "    <text dy=\"1.25em\" style=\"font-size: 0.8em; letter-spacing: 1px\">\n",
       "        <textPath xlink:href=\"#arrow-8080906a70b64bfebdcf769ff34a2db0-0-12\" class=\"displacy-label\" startOffset=\"50%\" side=\"left\" fill=\"currentColor\" text-anchor=\"middle\">dep</textPath>\n",
       "    </text>\n",
       "    <path class=\"displacy-arrowhead\" d=\"M2141.0,379.0 L2145.0,371.0 2137.0,371.0\" fill=\"currentColor\"/>\n",
       "</g>\n",
       "\n",
       "<g class=\"displacy-arrow\">\n",
       "    <path class=\"displacy-arc\" id=\"arrow-8080906a70b64bfebdcf769ff34a2db0-0-13\" stroke-width=\"2px\" d=\"M2312,377.0 2312,352.0 2438.0,352.0 2438.0,377.0\" fill=\"none\" stroke=\"currentColor\"/>\n",
       "    <text dy=\"1.25em\" style=\"font-size: 0.8em; letter-spacing: 1px\">\n",
       "        <textPath xlink:href=\"#arrow-8080906a70b64bfebdcf769ff34a2db0-0-13\" class=\"displacy-label\" startOffset=\"50%\" side=\"left\" fill=\"currentColor\" text-anchor=\"middle\">amod</textPath>\n",
       "    </text>\n",
       "    <path class=\"displacy-arrowhead\" d=\"M2312,379.0 L2308,371.0 2316,371.0\" fill=\"currentColor\"/>\n",
       "</g>\n",
       "\n",
       "<g class=\"displacy-arrow\">\n",
       "    <path class=\"displacy-arc\" id=\"arrow-8080906a70b64bfebdcf769ff34a2db0-0-14\" stroke-width=\"2px\" d=\"M2462,377.0 2462,352.0 2588.0,352.0 2588.0,377.0\" fill=\"none\" stroke=\"currentColor\"/>\n",
       "    <text dy=\"1.25em\" style=\"font-size: 0.8em; letter-spacing: 1px\">\n",
       "        <textPath xlink:href=\"#arrow-8080906a70b64bfebdcf769ff34a2db0-0-14\" class=\"displacy-label\" startOffset=\"50%\" side=\"left\" fill=\"currentColor\" text-anchor=\"middle\">compound</textPath>\n",
       "    </text>\n",
       "    <path class=\"displacy-arrowhead\" d=\"M2462,379.0 L2458,371.0 2466,371.0\" fill=\"currentColor\"/>\n",
       "</g>\n",
       "\n",
       "<g class=\"displacy-arrow\">\n",
       "    <path class=\"displacy-arc\" id=\"arrow-8080906a70b64bfebdcf769ff34a2db0-0-15\" stroke-width=\"2px\" d=\"M2612,377.0 2612,352.0 2738.0,352.0 2738.0,377.0\" fill=\"none\" stroke=\"currentColor\"/>\n",
       "    <text dy=\"1.25em\" style=\"font-size: 0.8em; letter-spacing: 1px\">\n",
       "        <textPath xlink:href=\"#arrow-8080906a70b64bfebdcf769ff34a2db0-0-15\" class=\"displacy-label\" startOffset=\"50%\" side=\"left\" fill=\"currentColor\" text-anchor=\"middle\">nsubj</textPath>\n",
       "    </text>\n",
       "    <path class=\"displacy-arrowhead\" d=\"M2612,379.0 L2608,371.0 2616,371.0\" fill=\"currentColor\"/>\n",
       "</g>\n",
       "\n",
       "<g class=\"displacy-arrow\">\n",
       "    <path class=\"displacy-arc\" id=\"arrow-8080906a70b64bfebdcf769ff34a2db0-0-16\" stroke-width=\"2px\" d=\"M2762,377.0 2762,352.0 2888.0,352.0 2888.0,377.0\" fill=\"none\" stroke=\"currentColor\"/>\n",
       "    <text dy=\"1.25em\" style=\"font-size: 0.8em; letter-spacing: 1px\">\n",
       "        <textPath xlink:href=\"#arrow-8080906a70b64bfebdcf769ff34a2db0-0-16\" class=\"displacy-label\" startOffset=\"50%\" side=\"left\" fill=\"currentColor\" text-anchor=\"middle\">advmod</textPath>\n",
       "    </text>\n",
       "    <path class=\"displacy-arrowhead\" d=\"M2888.0,379.0 L2892.0,371.0 2884.0,371.0\" fill=\"currentColor\"/>\n",
       "</g>\n",
       "\n",
       "<g class=\"displacy-arrow\">\n",
       "    <path class=\"displacy-arc\" id=\"arrow-8080906a70b64bfebdcf769ff34a2db0-0-17\" stroke-width=\"2px\" d=\"M2762,377.0 2762,327.0 3041.0,327.0 3041.0,377.0\" fill=\"none\" stroke=\"currentColor\"/>\n",
       "    <text dy=\"1.25em\" style=\"font-size: 0.8em; letter-spacing: 1px\">\n",
       "        <textPath xlink:href=\"#arrow-8080906a70b64bfebdcf769ff34a2db0-0-17\" class=\"displacy-label\" startOffset=\"50%\" side=\"left\" fill=\"currentColor\" text-anchor=\"middle\">attr</textPath>\n",
       "    </text>\n",
       "    <path class=\"displacy-arrowhead\" d=\"M3041.0,379.0 L3045.0,371.0 3037.0,371.0\" fill=\"currentColor\"/>\n",
       "</g>\n",
       "\n",
       "<g class=\"displacy-arrow\">\n",
       "    <path class=\"displacy-arc\" id=\"arrow-8080906a70b64bfebdcf769ff34a2db0-0-18\" stroke-width=\"2px\" d=\"M3362,377.0 3362,352.0 3488.0,352.0 3488.0,377.0\" fill=\"none\" stroke=\"currentColor\"/>\n",
       "    <text dy=\"1.25em\" style=\"font-size: 0.8em; letter-spacing: 1px\">\n",
       "        <textPath xlink:href=\"#arrow-8080906a70b64bfebdcf769ff34a2db0-0-18\" class=\"displacy-label\" startOffset=\"50%\" side=\"left\" fill=\"currentColor\" text-anchor=\"middle\">nsubj</textPath>\n",
       "    </text>\n",
       "    <path class=\"displacy-arrowhead\" d=\"M3362,379.0 L3358,371.0 3366,371.0\" fill=\"currentColor\"/>\n",
       "</g>\n",
       "\n",
       "<g class=\"displacy-arrow\">\n",
       "    <path class=\"displacy-arc\" id=\"arrow-8080906a70b64bfebdcf769ff34a2db0-0-19\" stroke-width=\"2px\" d=\"M3662,377.0 3662,352.0 3788.0,352.0 3788.0,377.0\" fill=\"none\" stroke=\"currentColor\"/>\n",
       "    <text dy=\"1.25em\" style=\"font-size: 0.8em; letter-spacing: 1px\">\n",
       "        <textPath xlink:href=\"#arrow-8080906a70b64bfebdcf769ff34a2db0-0-19\" class=\"displacy-label\" startOffset=\"50%\" side=\"left\" fill=\"currentColor\" text-anchor=\"middle\">det</textPath>\n",
       "    </text>\n",
       "    <path class=\"displacy-arrowhead\" d=\"M3662,379.0 L3658,371.0 3666,371.0\" fill=\"currentColor\"/>\n",
       "</g>\n",
       "\n",
       "<g class=\"displacy-arrow\">\n",
       "    <path class=\"displacy-arc\" id=\"arrow-8080906a70b64bfebdcf769ff34a2db0-0-20\" stroke-width=\"2px\" d=\"M3512,377.0 3512,327.0 3791.0,327.0 3791.0,377.0\" fill=\"none\" stroke=\"currentColor\"/>\n",
       "    <text dy=\"1.25em\" style=\"font-size: 0.8em; letter-spacing: 1px\">\n",
       "        <textPath xlink:href=\"#arrow-8080906a70b64bfebdcf769ff34a2db0-0-20\" class=\"displacy-label\" startOffset=\"50%\" side=\"left\" fill=\"currentColor\" text-anchor=\"middle\">attr</textPath>\n",
       "    </text>\n",
       "    <path class=\"displacy-arrowhead\" d=\"M3791.0,379.0 L3795.0,371.0 3787.0,371.0\" fill=\"currentColor\"/>\n",
       "</g>\n",
       "\n",
       "<g class=\"displacy-arrow\">\n",
       "    <path class=\"displacy-arc\" id=\"arrow-8080906a70b64bfebdcf769ff34a2db0-0-21\" stroke-width=\"2px\" d=\"M3812,377.0 3812,352.0 3938.0,352.0 3938.0,377.0\" fill=\"none\" stroke=\"currentColor\"/>\n",
       "    <text dy=\"1.25em\" style=\"font-size: 0.8em; letter-spacing: 1px\">\n",
       "        <textPath xlink:href=\"#arrow-8080906a70b64bfebdcf769ff34a2db0-0-21\" class=\"displacy-label\" startOffset=\"50%\" side=\"left\" fill=\"currentColor\" text-anchor=\"middle\">prep</textPath>\n",
       "    </text>\n",
       "    <path class=\"displacy-arrowhead\" d=\"M3938.0,379.0 L3942.0,371.0 3934.0,371.0\" fill=\"currentColor\"/>\n",
       "</g>\n",
       "\n",
       "<g class=\"displacy-arrow\">\n",
       "    <path class=\"displacy-arc\" id=\"arrow-8080906a70b64bfebdcf769ff34a2db0-0-22\" stroke-width=\"2px\" d=\"M3962,377.0 3962,352.0 4088.0,352.0 4088.0,377.0\" fill=\"none\" stroke=\"currentColor\"/>\n",
       "    <text dy=\"1.25em\" style=\"font-size: 0.8em; letter-spacing: 1px\">\n",
       "        <textPath xlink:href=\"#arrow-8080906a70b64bfebdcf769ff34a2db0-0-22\" class=\"displacy-label\" startOffset=\"50%\" side=\"left\" fill=\"currentColor\" text-anchor=\"middle\">pobj</textPath>\n",
       "    </text>\n",
       "    <path class=\"displacy-arrowhead\" d=\"M4088.0,379.0 L4092.0,371.0 4084.0,371.0\" fill=\"currentColor\"/>\n",
       "</g>\n",
       "\n",
       "<g class=\"displacy-arrow\">\n",
       "    <path class=\"displacy-arc\" id=\"arrow-8080906a70b64bfebdcf769ff34a2db0-0-23\" stroke-width=\"2px\" d=\"M4262,377.0 4262,352.0 4388.0,352.0 4388.0,377.0\" fill=\"none\" stroke=\"currentColor\"/>\n",
       "    <text dy=\"1.25em\" style=\"font-size: 0.8em; letter-spacing: 1px\">\n",
       "        <textPath xlink:href=\"#arrow-8080906a70b64bfebdcf769ff34a2db0-0-23\" class=\"displacy-label\" startOffset=\"50%\" side=\"left\" fill=\"currentColor\" text-anchor=\"middle\">det</textPath>\n",
       "    </text>\n",
       "    <path class=\"displacy-arrowhead\" d=\"M4262,379.0 L4258,371.0 4266,371.0\" fill=\"currentColor\"/>\n",
       "</g>\n",
       "\n",
       "<g class=\"displacy-arrow\">\n",
       "    <path class=\"displacy-arc\" id=\"arrow-8080906a70b64bfebdcf769ff34a2db0-0-24\" stroke-width=\"2px\" d=\"M4412,377.0 4412,302.0 5144.0,302.0 5144.0,377.0\" fill=\"none\" stroke=\"currentColor\"/>\n",
       "    <text dy=\"1.25em\" style=\"font-size: 0.8em; letter-spacing: 1px\">\n",
       "        <textPath xlink:href=\"#arrow-8080906a70b64bfebdcf769ff34a2db0-0-24\" class=\"displacy-label\" startOffset=\"50%\" side=\"left\" fill=\"currentColor\" text-anchor=\"middle\">poss</textPath>\n",
       "    </text>\n",
       "    <path class=\"displacy-arrowhead\" d=\"M4412,379.0 L4408,371.0 4416,371.0\" fill=\"currentColor\"/>\n",
       "</g>\n",
       "\n",
       "<g class=\"displacy-arrow\">\n",
       "    <path class=\"displacy-arc\" id=\"arrow-8080906a70b64bfebdcf769ff34a2db0-0-25\" stroke-width=\"2px\" d=\"M4412,377.0 4412,352.0 4538.0,352.0 4538.0,377.0\" fill=\"none\" stroke=\"currentColor\"/>\n",
       "    <text dy=\"1.25em\" style=\"font-size: 0.8em; letter-spacing: 1px\">\n",
       "        <textPath xlink:href=\"#arrow-8080906a70b64bfebdcf769ff34a2db0-0-25\" class=\"displacy-label\" startOffset=\"50%\" side=\"left\" fill=\"currentColor\" text-anchor=\"middle\">case</textPath>\n",
       "    </text>\n",
       "    <path class=\"displacy-arrowhead\" d=\"M4538.0,379.0 L4542.0,371.0 4534.0,371.0\" fill=\"currentColor\"/>\n",
       "</g>\n",
       "\n",
       "<g class=\"displacy-arrow\">\n",
       "    <path class=\"displacy-arc\" id=\"arrow-8080906a70b64bfebdcf769ff34a2db0-0-26\" stroke-width=\"2px\" d=\"M4412,377.0 4412,327.0 4691.0,327.0 4691.0,377.0\" fill=\"none\" stroke=\"currentColor\"/>\n",
       "    <text dy=\"1.25em\" style=\"font-size: 0.8em; letter-spacing: 1px\">\n",
       "        <textPath xlink:href=\"#arrow-8080906a70b64bfebdcf769ff34a2db0-0-26\" class=\"displacy-label\" startOffset=\"50%\" side=\"left\" fill=\"currentColor\" text-anchor=\"middle\">dep</textPath>\n",
       "    </text>\n",
       "    <path class=\"displacy-arrowhead\" d=\"M4691.0,379.0 L4695.0,371.0 4687.0,371.0\" fill=\"currentColor\"/>\n",
       "</g>\n",
       "\n",
       "<g class=\"displacy-arrow\">\n",
       "    <path class=\"displacy-arc\" id=\"arrow-8080906a70b64bfebdcf769ff34a2db0-0-27\" stroke-width=\"2px\" d=\"M4862,377.0 4862,327.0 5141.0,327.0 5141.0,377.0\" fill=\"none\" stroke=\"currentColor\"/>\n",
       "    <text dy=\"1.25em\" style=\"font-size: 0.8em; letter-spacing: 1px\">\n",
       "        <textPath xlink:href=\"#arrow-8080906a70b64bfebdcf769ff34a2db0-0-27\" class=\"displacy-label\" startOffset=\"50%\" side=\"left\" fill=\"currentColor\" text-anchor=\"middle\">amod</textPath>\n",
       "    </text>\n",
       "    <path class=\"displacy-arrowhead\" d=\"M4862,379.0 L4858,371.0 4866,371.0\" fill=\"currentColor\"/>\n",
       "</g>\n",
       "\n",
       "<g class=\"displacy-arrow\">\n",
       "    <path class=\"displacy-arc\" id=\"arrow-8080906a70b64bfebdcf769ff34a2db0-0-28\" stroke-width=\"2px\" d=\"M5012,377.0 5012,352.0 5138.0,352.0 5138.0,377.0\" fill=\"none\" stroke=\"currentColor\"/>\n",
       "    <text dy=\"1.25em\" style=\"font-size: 0.8em; letter-spacing: 1px\">\n",
       "        <textPath xlink:href=\"#arrow-8080906a70b64bfebdcf769ff34a2db0-0-28\" class=\"displacy-label\" startOffset=\"50%\" side=\"left\" fill=\"currentColor\" text-anchor=\"middle\">amod</textPath>\n",
       "    </text>\n",
       "    <path class=\"displacy-arrowhead\" d=\"M5012,379.0 L5008,371.0 5016,371.0\" fill=\"currentColor\"/>\n",
       "</g>\n",
       "\n",
       "<g class=\"displacy-arrow\">\n",
       "    <path class=\"displacy-arc\" id=\"arrow-8080906a70b64bfebdcf769ff34a2db0-0-29\" stroke-width=\"2px\" d=\"M4112,377.0 4112,277.0 5147.0,277.0 5147.0,377.0\" fill=\"none\" stroke=\"currentColor\"/>\n",
       "    <text dy=\"1.25em\" style=\"font-size: 0.8em; letter-spacing: 1px\">\n",
       "        <textPath xlink:href=\"#arrow-8080906a70b64bfebdcf769ff34a2db0-0-29\" class=\"displacy-label\" startOffset=\"50%\" side=\"left\" fill=\"currentColor\" text-anchor=\"middle\">appos</textPath>\n",
       "    </text>\n",
       "    <path class=\"displacy-arrowhead\" d=\"M5147.0,379.0 L5151.0,371.0 5143.0,371.0\" fill=\"currentColor\"/>\n",
       "</g>\n",
       "</svg></span>"
      ],
      "text/plain": [
       "<IPython.core.display.HTML object>"
      ]
     },
     "metadata": {},
     "output_type": "display_data"
    }
   ],
   "source": [
    "import spacy\n",
    "from spacy import displacy\n",
    "\n",
    "\n",
    "options = {\"compact\": True, \"bg\": \"#09a3d5\",\n",
    "           \"color\": \"white\", \"font\": \"Source Sans Pro\"}\n",
    "displacy.render(doc, style=\"dep\", options=options)"
   ]
  },
  {
   "cell_type": "code",
   "execution_count": 29,
   "id": "43274358",
   "metadata": {},
   "outputs": [
    {
     "data": {
      "text/html": [
       "<span class=\"tex2jax_ignore\"><svg xmlns=\"http://www.w3.org/2000/svg\" xmlns:xlink=\"http://www.w3.org/1999/xlink\" xml:lang=\"en\" id=\"53ab94b0b778460a8bc1e46a5d96f589-0\" class=\"displacy\" width=\"925\" height=\"399.5\" direction=\"ltr\" style=\"max-width: none; height: 399.5px; color: #000000; background: #ffffff; font-family: Arial; direction: ltr\">\n",
       "<text class=\"displacy-token\" fill=\"currentColor\" text-anchor=\"middle\" y=\"309.5\">\n",
       "    <tspan class=\"displacy-word\" fill=\"currentColor\" x=\"50\">Cleopatra</tspan>\n",
       "    <tspan class=\"displacy-tag\" dy=\"2em\" fill=\"currentColor\" x=\"50\">PROPN</tspan>\n",
       "</text>\n",
       "\n",
       "<text class=\"displacy-token\" fill=\"currentColor\" text-anchor=\"middle\" y=\"309.5\">\n",
       "    <tspan class=\"displacy-word\" fill=\"currentColor\" x=\"225\">was</tspan>\n",
       "    <tspan class=\"displacy-tag\" dy=\"2em\" fill=\"currentColor\" x=\"225\">AUX</tspan>\n",
       "</text>\n",
       "\n",
       "<text class=\"displacy-token\" fill=\"currentColor\" text-anchor=\"middle\" y=\"309.5\">\n",
       "    <tspan class=\"displacy-word\" fill=\"currentColor\" x=\"400\">n't</tspan>\n",
       "    <tspan class=\"displacy-tag\" dy=\"2em\" fill=\"currentColor\" x=\"400\">PART</tspan>\n",
       "</text>\n",
       "\n",
       "<text class=\"displacy-token\" fill=\"currentColor\" text-anchor=\"middle\" y=\"309.5\">\n",
       "    <tspan class=\"displacy-word\" fill=\"currentColor\" x=\"575\">actually</tspan>\n",
       "    <tspan class=\"displacy-tag\" dy=\"2em\" fill=\"currentColor\" x=\"575\">ADV</tspan>\n",
       "</text>\n",
       "\n",
       "<text class=\"displacy-token\" fill=\"currentColor\" text-anchor=\"middle\" y=\"309.5\">\n",
       "    <tspan class=\"displacy-word\" fill=\"currentColor\" x=\"750\">Egyptian!</tspan>\n",
       "    <tspan class=\"displacy-tag\" dy=\"2em\" fill=\"currentColor\" x=\"750\">ADJ</tspan>\n",
       "</text>\n",
       "\n",
       "<g class=\"displacy-arrow\">\n",
       "    <path class=\"displacy-arc\" id=\"arrow-53ab94b0b778460a8bc1e46a5d96f589-0-0\" stroke-width=\"2px\" d=\"M70,264.5 C70,177.0 215.0,177.0 215.0,264.5\" fill=\"none\" stroke=\"currentColor\"/>\n",
       "    <text dy=\"1.25em\" style=\"font-size: 0.8em; letter-spacing: 1px\">\n",
       "        <textPath xlink:href=\"#arrow-53ab94b0b778460a8bc1e46a5d96f589-0-0\" class=\"displacy-label\" startOffset=\"50%\" side=\"left\" fill=\"currentColor\" text-anchor=\"middle\">nsubj</textPath>\n",
       "    </text>\n",
       "    <path class=\"displacy-arrowhead\" d=\"M70,266.5 L62,254.5 78,254.5\" fill=\"currentColor\"/>\n",
       "</g>\n",
       "\n",
       "<g class=\"displacy-arrow\">\n",
       "    <path class=\"displacy-arc\" id=\"arrow-53ab94b0b778460a8bc1e46a5d96f589-0-1\" stroke-width=\"2px\" d=\"M245,264.5 C245,177.0 390.0,177.0 390.0,264.5\" fill=\"none\" stroke=\"currentColor\"/>\n",
       "    <text dy=\"1.25em\" style=\"font-size: 0.8em; letter-spacing: 1px\">\n",
       "        <textPath xlink:href=\"#arrow-53ab94b0b778460a8bc1e46a5d96f589-0-1\" class=\"displacy-label\" startOffset=\"50%\" side=\"left\" fill=\"currentColor\" text-anchor=\"middle\">neg</textPath>\n",
       "    </text>\n",
       "    <path class=\"displacy-arrowhead\" d=\"M390.0,266.5 L398.0,254.5 382.0,254.5\" fill=\"currentColor\"/>\n",
       "</g>\n",
       "\n",
       "<g class=\"displacy-arrow\">\n",
       "    <path class=\"displacy-arc\" id=\"arrow-53ab94b0b778460a8bc1e46a5d96f589-0-2\" stroke-width=\"2px\" d=\"M245,264.5 C245,89.5 570.0,89.5 570.0,264.5\" fill=\"none\" stroke=\"currentColor\"/>\n",
       "    <text dy=\"1.25em\" style=\"font-size: 0.8em; letter-spacing: 1px\">\n",
       "        <textPath xlink:href=\"#arrow-53ab94b0b778460a8bc1e46a5d96f589-0-2\" class=\"displacy-label\" startOffset=\"50%\" side=\"left\" fill=\"currentColor\" text-anchor=\"middle\">advmod</textPath>\n",
       "    </text>\n",
       "    <path class=\"displacy-arrowhead\" d=\"M570.0,266.5 L578.0,254.5 562.0,254.5\" fill=\"currentColor\"/>\n",
       "</g>\n",
       "\n",
       "<g class=\"displacy-arrow\">\n",
       "    <path class=\"displacy-arc\" id=\"arrow-53ab94b0b778460a8bc1e46a5d96f589-0-3\" stroke-width=\"2px\" d=\"M245,264.5 C245,2.0 750.0,2.0 750.0,264.5\" fill=\"none\" stroke=\"currentColor\"/>\n",
       "    <text dy=\"1.25em\" style=\"font-size: 0.8em; letter-spacing: 1px\">\n",
       "        <textPath xlink:href=\"#arrow-53ab94b0b778460a8bc1e46a5d96f589-0-3\" class=\"displacy-label\" startOffset=\"50%\" side=\"left\" fill=\"currentColor\" text-anchor=\"middle\">acomp</textPath>\n",
       "    </text>\n",
       "    <path class=\"displacy-arrowhead\" d=\"M750.0,266.5 L758.0,254.5 742.0,254.5\" fill=\"currentColor\"/>\n",
       "</g>\n",
       "</svg>\n",
       "\n",
       "<svg xmlns=\"http://www.w3.org/2000/svg\" xmlns:xlink=\"http://www.w3.org/1999/xlink\" xml:lang=\"en\" id=\"53ab94b0b778460a8bc1e46a5d96f589-1\" class=\"displacy\" width=\"225\" height=\"137.0\" direction=\"ltr\" style=\"max-width: none; height: 137.0px; color: #000000; background: #ffffff; font-family: Arial; direction: ltr\">\n",
       "<text class=\"displacy-token\" fill=\"currentColor\" text-anchor=\"middle\" y=\"47.0\">\n",
       "    <tspan class=\"displacy-word\" fill=\"currentColor\" x=\"50\">\n",
       "         </tspan>\n",
       "    <tspan class=\"displacy-tag\" dy=\"2em\" fill=\"currentColor\" x=\"50\">SPACE</tspan>\n",
       "</text>\n",
       "</svg>\n",
       "\n",
       "<svg xmlns=\"http://www.w3.org/2000/svg\" xmlns:xlink=\"http://www.w3.org/1999/xlink\" xml:lang=\"en\" id=\"53ab94b0b778460a8bc1e46a5d96f589-2\" class=\"displacy\" width=\"2675\" height=\"574.5\" direction=\"ltr\" style=\"max-width: none; height: 574.5px; color: #000000; background: #ffffff; font-family: Arial; direction: ltr\">\n",
       "<text class=\"displacy-token\" fill=\"currentColor\" text-anchor=\"middle\" y=\"484.5\">\n",
       "    <tspan class=\"displacy-word\" fill=\"currentColor\" x=\"50\">As</tspan>\n",
       "    <tspan class=\"displacy-tag\" dy=\"2em\" fill=\"currentColor\" x=\"50\">ADV</tspan>\n",
       "</text>\n",
       "\n",
       "<text class=\"displacy-token\" fill=\"currentColor\" text-anchor=\"middle\" y=\"484.5\">\n",
       "    <tspan class=\"displacy-word\" fill=\"currentColor\" x=\"225\">far</tspan>\n",
       "    <tspan class=\"displacy-tag\" dy=\"2em\" fill=\"currentColor\" x=\"225\">ADV</tspan>\n",
       "</text>\n",
       "\n",
       "<text class=\"displacy-token\" fill=\"currentColor\" text-anchor=\"middle\" y=\"484.5\">\n",
       "    <tspan class=\"displacy-word\" fill=\"currentColor\" x=\"400\">as</tspan>\n",
       "    <tspan class=\"displacy-tag\" dy=\"2em\" fill=\"currentColor\" x=\"400\">SCONJ</tspan>\n",
       "</text>\n",
       "\n",
       "<text class=\"displacy-token\" fill=\"currentColor\" text-anchor=\"middle\" y=\"484.5\">\n",
       "    <tspan class=\"displacy-word\" fill=\"currentColor\" x=\"575\">historians</tspan>\n",
       "    <tspan class=\"displacy-tag\" dy=\"2em\" fill=\"currentColor\" x=\"575\">NOUN</tspan>\n",
       "</text>\n",
       "\n",
       "<text class=\"displacy-token\" fill=\"currentColor\" text-anchor=\"middle\" y=\"484.5\">\n",
       "    <tspan class=\"displacy-word\" fill=\"currentColor\" x=\"750\">can</tspan>\n",
       "    <tspan class=\"displacy-tag\" dy=\"2em\" fill=\"currentColor\" x=\"750\">AUX</tspan>\n",
       "</text>\n",
       "\n",
       "<text class=\"displacy-token\" fill=\"currentColor\" text-anchor=\"middle\" y=\"484.5\">\n",
       "    <tspan class=\"displacy-word\" fill=\"currentColor\" x=\"925\">tell,</tspan>\n",
       "    <tspan class=\"displacy-tag\" dy=\"2em\" fill=\"currentColor\" x=\"925\">VERB</tspan>\n",
       "</text>\n",
       "\n",
       "<text class=\"displacy-token\" fill=\"currentColor\" text-anchor=\"middle\" y=\"484.5\">\n",
       "    <tspan class=\"displacy-word\" fill=\"currentColor\" x=\"1100\">Egypt</tspan>\n",
       "    <tspan class=\"displacy-tag\" dy=\"2em\" fill=\"currentColor\" x=\"1100\">PROPN</tspan>\n",
       "</text>\n",
       "\n",
       "<text class=\"displacy-token\" fill=\"currentColor\" text-anchor=\"middle\" y=\"484.5\">\n",
       "    <tspan class=\"displacy-word\" fill=\"currentColor\" x=\"1275\">'s</tspan>\n",
       "    <tspan class=\"displacy-tag\" dy=\"2em\" fill=\"currentColor\" x=\"1275\">PART</tspan>\n",
       "</text>\n",
       "\n",
       "<text class=\"displacy-token\" fill=\"currentColor\" text-anchor=\"middle\" y=\"484.5\">\n",
       "    <tspan class=\"displacy-word\" fill=\"currentColor\" x=\"1450\">\n",
       "         </tspan>\n",
       "    <tspan class=\"displacy-tag\" dy=\"2em\" fill=\"currentColor\" x=\"1450\">SPACE</tspan>\n",
       "</text>\n",
       "\n",
       "<text class=\"displacy-token\" fill=\"currentColor\" text-anchor=\"middle\" y=\"484.5\">\n",
       "    <tspan class=\"displacy-word\" fill=\"currentColor\" x=\"1625\">famous</tspan>\n",
       "    <tspan class=\"displacy-tag\" dy=\"2em\" fill=\"currentColor\" x=\"1625\">ADJ</tspan>\n",
       "</text>\n",
       "\n",
       "<text class=\"displacy-token\" fill=\"currentColor\" text-anchor=\"middle\" y=\"484.5\">\n",
       "    <tspan class=\"displacy-word\" fill=\"currentColor\" x=\"1800\">femme</tspan>\n",
       "    <tspan class=\"displacy-tag\" dy=\"2em\" fill=\"currentColor\" x=\"1800\">PROPN</tspan>\n",
       "</text>\n",
       "\n",
       "<text class=\"displacy-token\" fill=\"currentColor\" text-anchor=\"middle\" y=\"484.5\">\n",
       "    <tspan class=\"displacy-word\" fill=\"currentColor\" x=\"1975\">fatal</tspan>\n",
       "    <tspan class=\"displacy-tag\" dy=\"2em\" fill=\"currentColor\" x=\"1975\">ADJ</tspan>\n",
       "</text>\n",
       "\n",
       "<text class=\"displacy-token\" fill=\"currentColor\" text-anchor=\"middle\" y=\"484.5\">\n",
       "    <tspan class=\"displacy-word\" fill=\"currentColor\" x=\"2150\">was</tspan>\n",
       "    <tspan class=\"displacy-tag\" dy=\"2em\" fill=\"currentColor\" x=\"2150\">AUX</tspan>\n",
       "</text>\n",
       "\n",
       "<text class=\"displacy-token\" fill=\"currentColor\" text-anchor=\"middle\" y=\"484.5\">\n",
       "    <tspan class=\"displacy-word\" fill=\"currentColor\" x=\"2325\">actually</tspan>\n",
       "    <tspan class=\"displacy-tag\" dy=\"2em\" fill=\"currentColor\" x=\"2325\">ADV</tspan>\n",
       "</text>\n",
       "\n",
       "<text class=\"displacy-token\" fill=\"currentColor\" text-anchor=\"middle\" y=\"484.5\">\n",
       "    <tspan class=\"displacy-word\" fill=\"currentColor\" x=\"2500\">Greek!.</tspan>\n",
       "    <tspan class=\"displacy-tag\" dy=\"2em\" fill=\"currentColor\" x=\"2500\">ADJ</tspan>\n",
       "</text>\n",
       "\n",
       "<g class=\"displacy-arrow\">\n",
       "    <path class=\"displacy-arc\" id=\"arrow-53ab94b0b778460a8bc1e46a5d96f589-2-0\" stroke-width=\"2px\" d=\"M70,439.5 C70,352.0 205.0,352.0 205.0,439.5\" fill=\"none\" stroke=\"currentColor\"/>\n",
       "    <text dy=\"1.25em\" style=\"font-size: 0.8em; letter-spacing: 1px\">\n",
       "        <textPath xlink:href=\"#arrow-53ab94b0b778460a8bc1e46a5d96f589-2-0\" class=\"displacy-label\" startOffset=\"50%\" side=\"left\" fill=\"currentColor\" text-anchor=\"middle\">advmod</textPath>\n",
       "    </text>\n",
       "    <path class=\"displacy-arrowhead\" d=\"M70,441.5 L62,429.5 78,429.5\" fill=\"currentColor\"/>\n",
       "</g>\n",
       "\n",
       "<g class=\"displacy-arrow\">\n",
       "    <path class=\"displacy-arc\" id=\"arrow-53ab94b0b778460a8bc1e46a5d96f589-2-1\" stroke-width=\"2px\" d=\"M245,439.5 C245,2.0 2150.0,2.0 2150.0,439.5\" fill=\"none\" stroke=\"currentColor\"/>\n",
       "    <text dy=\"1.25em\" style=\"font-size: 0.8em; letter-spacing: 1px\">\n",
       "        <textPath xlink:href=\"#arrow-53ab94b0b778460a8bc1e46a5d96f589-2-1\" class=\"displacy-label\" startOffset=\"50%\" side=\"left\" fill=\"currentColor\" text-anchor=\"middle\">advmod</textPath>\n",
       "    </text>\n",
       "    <path class=\"displacy-arrowhead\" d=\"M245,441.5 L237,429.5 253,429.5\" fill=\"currentColor\"/>\n",
       "</g>\n",
       "\n",
       "<g class=\"displacy-arrow\">\n",
       "    <path class=\"displacy-arc\" id=\"arrow-53ab94b0b778460a8bc1e46a5d96f589-2-2\" stroke-width=\"2px\" d=\"M420,439.5 C420,177.0 915.0,177.0 915.0,439.5\" fill=\"none\" stroke=\"currentColor\"/>\n",
       "    <text dy=\"1.25em\" style=\"font-size: 0.8em; letter-spacing: 1px\">\n",
       "        <textPath xlink:href=\"#arrow-53ab94b0b778460a8bc1e46a5d96f589-2-2\" class=\"displacy-label\" startOffset=\"50%\" side=\"left\" fill=\"currentColor\" text-anchor=\"middle\">mark</textPath>\n",
       "    </text>\n",
       "    <path class=\"displacy-arrowhead\" d=\"M420,441.5 L412,429.5 428,429.5\" fill=\"currentColor\"/>\n",
       "</g>\n",
       "\n",
       "<g class=\"displacy-arrow\">\n",
       "    <path class=\"displacy-arc\" id=\"arrow-53ab94b0b778460a8bc1e46a5d96f589-2-3\" stroke-width=\"2px\" d=\"M595,439.5 C595,264.5 910.0,264.5 910.0,439.5\" fill=\"none\" stroke=\"currentColor\"/>\n",
       "    <text dy=\"1.25em\" style=\"font-size: 0.8em; letter-spacing: 1px\">\n",
       "        <textPath xlink:href=\"#arrow-53ab94b0b778460a8bc1e46a5d96f589-2-3\" class=\"displacy-label\" startOffset=\"50%\" side=\"left\" fill=\"currentColor\" text-anchor=\"middle\">nsubj</textPath>\n",
       "    </text>\n",
       "    <path class=\"displacy-arrowhead\" d=\"M595,441.5 L587,429.5 603,429.5\" fill=\"currentColor\"/>\n",
       "</g>\n",
       "\n",
       "<g class=\"displacy-arrow\">\n",
       "    <path class=\"displacy-arc\" id=\"arrow-53ab94b0b778460a8bc1e46a5d96f589-2-4\" stroke-width=\"2px\" d=\"M770,439.5 C770,352.0 905.0,352.0 905.0,439.5\" fill=\"none\" stroke=\"currentColor\"/>\n",
       "    <text dy=\"1.25em\" style=\"font-size: 0.8em; letter-spacing: 1px\">\n",
       "        <textPath xlink:href=\"#arrow-53ab94b0b778460a8bc1e46a5d96f589-2-4\" class=\"displacy-label\" startOffset=\"50%\" side=\"left\" fill=\"currentColor\" text-anchor=\"middle\">aux</textPath>\n",
       "    </text>\n",
       "    <path class=\"displacy-arrowhead\" d=\"M770,441.5 L762,429.5 778,429.5\" fill=\"currentColor\"/>\n",
       "</g>\n",
       "\n",
       "<g class=\"displacy-arrow\">\n",
       "    <path class=\"displacy-arc\" id=\"arrow-53ab94b0b778460a8bc1e46a5d96f589-2-5\" stroke-width=\"2px\" d=\"M245,439.5 C245,89.5 920.0,89.5 920.0,439.5\" fill=\"none\" stroke=\"currentColor\"/>\n",
       "    <text dy=\"1.25em\" style=\"font-size: 0.8em; letter-spacing: 1px\">\n",
       "        <textPath xlink:href=\"#arrow-53ab94b0b778460a8bc1e46a5d96f589-2-5\" class=\"displacy-label\" startOffset=\"50%\" side=\"left\" fill=\"currentColor\" text-anchor=\"middle\">advcl</textPath>\n",
       "    </text>\n",
       "    <path class=\"displacy-arrowhead\" d=\"M920.0,441.5 L928.0,429.5 912.0,429.5\" fill=\"currentColor\"/>\n",
       "</g>\n",
       "\n",
       "<g class=\"displacy-arrow\">\n",
       "    <path class=\"displacy-arc\" id=\"arrow-53ab94b0b778460a8bc1e46a5d96f589-2-6\" stroke-width=\"2px\" d=\"M1120,439.5 C1120,177.0 1965.0,177.0 1965.0,439.5\" fill=\"none\" stroke=\"currentColor\"/>\n",
       "    <text dy=\"1.25em\" style=\"font-size: 0.8em; letter-spacing: 1px\">\n",
       "        <textPath xlink:href=\"#arrow-53ab94b0b778460a8bc1e46a5d96f589-2-6\" class=\"displacy-label\" startOffset=\"50%\" side=\"left\" fill=\"currentColor\" text-anchor=\"middle\">poss</textPath>\n",
       "    </text>\n",
       "    <path class=\"displacy-arrowhead\" d=\"M1120,441.5 L1112,429.5 1128,429.5\" fill=\"currentColor\"/>\n",
       "</g>\n",
       "\n",
       "<g class=\"displacy-arrow\">\n",
       "    <path class=\"displacy-arc\" id=\"arrow-53ab94b0b778460a8bc1e46a5d96f589-2-7\" stroke-width=\"2px\" d=\"M1120,439.5 C1120,352.0 1255.0,352.0 1255.0,439.5\" fill=\"none\" stroke=\"currentColor\"/>\n",
       "    <text dy=\"1.25em\" style=\"font-size: 0.8em; letter-spacing: 1px\">\n",
       "        <textPath xlink:href=\"#arrow-53ab94b0b778460a8bc1e46a5d96f589-2-7\" class=\"displacy-label\" startOffset=\"50%\" side=\"left\" fill=\"currentColor\" text-anchor=\"middle\">case</textPath>\n",
       "    </text>\n",
       "    <path class=\"displacy-arrowhead\" d=\"M1255.0,441.5 L1263.0,429.5 1247.0,429.5\" fill=\"currentColor\"/>\n",
       "</g>\n",
       "\n",
       "<g class=\"displacy-arrow\">\n",
       "    <path class=\"displacy-arc\" id=\"arrow-53ab94b0b778460a8bc1e46a5d96f589-2-8\" stroke-width=\"2px\" d=\"M1120,439.5 C1120,264.5 1435.0,264.5 1435.0,439.5\" fill=\"none\" stroke=\"currentColor\"/>\n",
       "    <text dy=\"1.25em\" style=\"font-size: 0.8em; letter-spacing: 1px\">\n",
       "        <textPath xlink:href=\"#arrow-53ab94b0b778460a8bc1e46a5d96f589-2-8\" class=\"displacy-label\" startOffset=\"50%\" side=\"left\" fill=\"currentColor\" text-anchor=\"middle\">dep</textPath>\n",
       "    </text>\n",
       "    <path class=\"displacy-arrowhead\" d=\"M1435.0,441.5 L1443.0,429.5 1427.0,429.5\" fill=\"currentColor\"/>\n",
       "</g>\n",
       "\n",
       "<g class=\"displacy-arrow\">\n",
       "    <path class=\"displacy-arc\" id=\"arrow-53ab94b0b778460a8bc1e46a5d96f589-2-9\" stroke-width=\"2px\" d=\"M1645,439.5 C1645,352.0 1780.0,352.0 1780.0,439.5\" fill=\"none\" stroke=\"currentColor\"/>\n",
       "    <text dy=\"1.25em\" style=\"font-size: 0.8em; letter-spacing: 1px\">\n",
       "        <textPath xlink:href=\"#arrow-53ab94b0b778460a8bc1e46a5d96f589-2-9\" class=\"displacy-label\" startOffset=\"50%\" side=\"left\" fill=\"currentColor\" text-anchor=\"middle\">amod</textPath>\n",
       "    </text>\n",
       "    <path class=\"displacy-arrowhead\" d=\"M1645,441.5 L1637,429.5 1653,429.5\" fill=\"currentColor\"/>\n",
       "</g>\n",
       "\n",
       "<g class=\"displacy-arrow\">\n",
       "    <path class=\"displacy-arc\" id=\"arrow-53ab94b0b778460a8bc1e46a5d96f589-2-10\" stroke-width=\"2px\" d=\"M1820,439.5 C1820,352.0 1955.0,352.0 1955.0,439.5\" fill=\"none\" stroke=\"currentColor\"/>\n",
       "    <text dy=\"1.25em\" style=\"font-size: 0.8em; letter-spacing: 1px\">\n",
       "        <textPath xlink:href=\"#arrow-53ab94b0b778460a8bc1e46a5d96f589-2-10\" class=\"displacy-label\" startOffset=\"50%\" side=\"left\" fill=\"currentColor\" text-anchor=\"middle\">compound</textPath>\n",
       "    </text>\n",
       "    <path class=\"displacy-arrowhead\" d=\"M1820,441.5 L1812,429.5 1828,429.5\" fill=\"currentColor\"/>\n",
       "</g>\n",
       "\n",
       "<g class=\"displacy-arrow\">\n",
       "    <path class=\"displacy-arc\" id=\"arrow-53ab94b0b778460a8bc1e46a5d96f589-2-11\" stroke-width=\"2px\" d=\"M1995,439.5 C1995,352.0 2130.0,352.0 2130.0,439.5\" fill=\"none\" stroke=\"currentColor\"/>\n",
       "    <text dy=\"1.25em\" style=\"font-size: 0.8em; letter-spacing: 1px\">\n",
       "        <textPath xlink:href=\"#arrow-53ab94b0b778460a8bc1e46a5d96f589-2-11\" class=\"displacy-label\" startOffset=\"50%\" side=\"left\" fill=\"currentColor\" text-anchor=\"middle\">nsubj</textPath>\n",
       "    </text>\n",
       "    <path class=\"displacy-arrowhead\" d=\"M1995,441.5 L1987,429.5 2003,429.5\" fill=\"currentColor\"/>\n",
       "</g>\n",
       "\n",
       "<g class=\"displacy-arrow\">\n",
       "    <path class=\"displacy-arc\" id=\"arrow-53ab94b0b778460a8bc1e46a5d96f589-2-12\" stroke-width=\"2px\" d=\"M2170,439.5 C2170,352.0 2305.0,352.0 2305.0,439.5\" fill=\"none\" stroke=\"currentColor\"/>\n",
       "    <text dy=\"1.25em\" style=\"font-size: 0.8em; letter-spacing: 1px\">\n",
       "        <textPath xlink:href=\"#arrow-53ab94b0b778460a8bc1e46a5d96f589-2-12\" class=\"displacy-label\" startOffset=\"50%\" side=\"left\" fill=\"currentColor\" text-anchor=\"middle\">advmod</textPath>\n",
       "    </text>\n",
       "    <path class=\"displacy-arrowhead\" d=\"M2305.0,441.5 L2313.0,429.5 2297.0,429.5\" fill=\"currentColor\"/>\n",
       "</g>\n",
       "\n",
       "<g class=\"displacy-arrow\">\n",
       "    <path class=\"displacy-arc\" id=\"arrow-53ab94b0b778460a8bc1e46a5d96f589-2-13\" stroke-width=\"2px\" d=\"M2170,439.5 C2170,264.5 2485.0,264.5 2485.0,439.5\" fill=\"none\" stroke=\"currentColor\"/>\n",
       "    <text dy=\"1.25em\" style=\"font-size: 0.8em; letter-spacing: 1px\">\n",
       "        <textPath xlink:href=\"#arrow-53ab94b0b778460a8bc1e46a5d96f589-2-13\" class=\"displacy-label\" startOffset=\"50%\" side=\"left\" fill=\"currentColor\" text-anchor=\"middle\">attr</textPath>\n",
       "    </text>\n",
       "    <path class=\"displacy-arrowhead\" d=\"M2485.0,441.5 L2493.0,429.5 2477.0,429.5\" fill=\"currentColor\"/>\n",
       "</g>\n",
       "</svg>\n",
       "\n",
       "<svg xmlns=\"http://www.w3.org/2000/svg\" xmlns:xlink=\"http://www.w3.org/1999/xlink\" xml:lang=\"en\" id=\"53ab94b0b778460a8bc1e46a5d96f589-3\" class=\"displacy\" width=\"225\" height=\"137.0\" direction=\"ltr\" style=\"max-width: none; height: 137.0px; color: #000000; background: #ffffff; font-family: Arial; direction: ltr\">\n",
       "<text class=\"displacy-token\" fill=\"currentColor\" text-anchor=\"middle\" y=\"47.0\">\n",
       "    <tspan class=\"displacy-word\" fill=\"currentColor\" x=\"50\">\n",
       "         </tspan>\n",
       "    <tspan class=\"displacy-tag\" dy=\"2em\" fill=\"currentColor\" x=\"50\">SPACE</tspan>\n",
       "</text>\n",
       "</svg>\n",
       "\n",
       "<svg xmlns=\"http://www.w3.org/2000/svg\" xmlns:xlink=\"http://www.w3.org/1999/xlink\" xml:lang=\"en\" id=\"53ab94b0b778460a8bc1e46a5d96f589-4\" class=\"displacy\" width=\"2325\" height=\"487.0\" direction=\"ltr\" style=\"max-width: none; height: 487.0px; color: #000000; background: #ffffff; font-family: Arial; direction: ltr\">\n",
       "<text class=\"displacy-token\" fill=\"currentColor\" text-anchor=\"middle\" y=\"397.0\">\n",
       "    <tspan class=\"displacy-word\" fill=\"currentColor\" x=\"50\">She</tspan>\n",
       "    <tspan class=\"displacy-tag\" dy=\"2em\" fill=\"currentColor\" x=\"50\">PRON</tspan>\n",
       "</text>\n",
       "\n",
       "<text class=\"displacy-token\" fill=\"currentColor\" text-anchor=\"middle\" y=\"397.0\">\n",
       "    <tspan class=\"displacy-word\" fill=\"currentColor\" x=\"225\">was</tspan>\n",
       "    <tspan class=\"displacy-tag\" dy=\"2em\" fill=\"currentColor\" x=\"225\">AUX</tspan>\n",
       "</text>\n",
       "\n",
       "<text class=\"displacy-token\" fill=\"currentColor\" text-anchor=\"middle\" y=\"397.0\">\n",
       "    <tspan class=\"displacy-word\" fill=\"currentColor\" x=\"400\">a</tspan>\n",
       "    <tspan class=\"displacy-tag\" dy=\"2em\" fill=\"currentColor\" x=\"400\">DET</tspan>\n",
       "</text>\n",
       "\n",
       "<text class=\"displacy-token\" fill=\"currentColor\" text-anchor=\"middle\" y=\"397.0\">\n",
       "    <tspan class=\"displacy-word\" fill=\"currentColor\" x=\"575\">descendant</tspan>\n",
       "    <tspan class=\"displacy-tag\" dy=\"2em\" fill=\"currentColor\" x=\"575\">NOUN</tspan>\n",
       "</text>\n",
       "\n",
       "<text class=\"displacy-token\" fill=\"currentColor\" text-anchor=\"middle\" y=\"397.0\">\n",
       "    <tspan class=\"displacy-word\" fill=\"currentColor\" x=\"750\">of</tspan>\n",
       "    <tspan class=\"displacy-tag\" dy=\"2em\" fill=\"currentColor\" x=\"750\">ADP</tspan>\n",
       "</text>\n",
       "\n",
       "<text class=\"displacy-token\" fill=\"currentColor\" text-anchor=\"middle\" y=\"397.0\">\n",
       "    <tspan class=\"displacy-word\" fill=\"currentColor\" x=\"925\">Alexander</tspan>\n",
       "    <tspan class=\"displacy-tag\" dy=\"2em\" fill=\"currentColor\" x=\"925\">PROPN</tspan>\n",
       "</text>\n",
       "\n",
       "<text class=\"displacy-token\" fill=\"currentColor\" text-anchor=\"middle\" y=\"397.0\">\n",
       "    <tspan class=\"displacy-word\" fill=\"currentColor\" x=\"1100\">the</tspan>\n",
       "    <tspan class=\"displacy-tag\" dy=\"2em\" fill=\"currentColor\" x=\"1100\">DET</tspan>\n",
       "</text>\n",
       "\n",
       "<text class=\"displacy-token\" fill=\"currentColor\" text-anchor=\"middle\" y=\"397.0\">\n",
       "    <tspan class=\"displacy-word\" fill=\"currentColor\" x=\"1275\">Great</tspan>\n",
       "    <tspan class=\"displacy-tag\" dy=\"2em\" fill=\"currentColor\" x=\"1275\">PROPN</tspan>\n",
       "</text>\n",
       "\n",
       "<text class=\"displacy-token\" fill=\"currentColor\" text-anchor=\"middle\" y=\"397.0\">\n",
       "    <tspan class=\"displacy-word\" fill=\"currentColor\" x=\"1450\">'s</tspan>\n",
       "    <tspan class=\"displacy-tag\" dy=\"2em\" fill=\"currentColor\" x=\"1450\">PART</tspan>\n",
       "</text>\n",
       "\n",
       "<text class=\"displacy-token\" fill=\"currentColor\" text-anchor=\"middle\" y=\"397.0\">\n",
       "    <tspan class=\"displacy-word\" fill=\"currentColor\" x=\"1625\">\n",
       "         </tspan>\n",
       "    <tspan class=\"displacy-tag\" dy=\"2em\" fill=\"currentColor\" x=\"1625\">SPACE</tspan>\n",
       "</text>\n",
       "\n",
       "<text class=\"displacy-token\" fill=\"currentColor\" text-anchor=\"middle\" y=\"397.0\">\n",
       "    <tspan class=\"displacy-word\" fill=\"currentColor\" x=\"1800\">Macedonian</tspan>\n",
       "    <tspan class=\"displacy-tag\" dy=\"2em\" fill=\"currentColor\" x=\"1800\">ADJ</tspan>\n",
       "</text>\n",
       "\n",
       "<text class=\"displacy-token\" fill=\"currentColor\" text-anchor=\"middle\" y=\"397.0\">\n",
       "    <tspan class=\"displacy-word\" fill=\"currentColor\" x=\"1975\">general</tspan>\n",
       "    <tspan class=\"displacy-tag\" dy=\"2em\" fill=\"currentColor\" x=\"1975\">ADJ</tspan>\n",
       "</text>\n",
       "\n",
       "<text class=\"displacy-token\" fill=\"currentColor\" text-anchor=\"middle\" y=\"397.0\">\n",
       "    <tspan class=\"displacy-word\" fill=\"currentColor\" x=\"2150\">Ptolemy</tspan>\n",
       "    <tspan class=\"displacy-tag\" dy=\"2em\" fill=\"currentColor\" x=\"2150\">PROPN</tspan>\n",
       "</text>\n",
       "\n",
       "<g class=\"displacy-arrow\">\n",
       "    <path class=\"displacy-arc\" id=\"arrow-53ab94b0b778460a8bc1e46a5d96f589-4-0\" stroke-width=\"2px\" d=\"M70,352.0 C70,264.5 210.0,264.5 210.0,352.0\" fill=\"none\" stroke=\"currentColor\"/>\n",
       "    <text dy=\"1.25em\" style=\"font-size: 0.8em; letter-spacing: 1px\">\n",
       "        <textPath xlink:href=\"#arrow-53ab94b0b778460a8bc1e46a5d96f589-4-0\" class=\"displacy-label\" startOffset=\"50%\" side=\"left\" fill=\"currentColor\" text-anchor=\"middle\">nsubj</textPath>\n",
       "    </text>\n",
       "    <path class=\"displacy-arrowhead\" d=\"M70,354.0 L62,342.0 78,342.0\" fill=\"currentColor\"/>\n",
       "</g>\n",
       "\n",
       "<g class=\"displacy-arrow\">\n",
       "    <path class=\"displacy-arc\" id=\"arrow-53ab94b0b778460a8bc1e46a5d96f589-4-1\" stroke-width=\"2px\" d=\"M420,352.0 C420,264.5 560.0,264.5 560.0,352.0\" fill=\"none\" stroke=\"currentColor\"/>\n",
       "    <text dy=\"1.25em\" style=\"font-size: 0.8em; letter-spacing: 1px\">\n",
       "        <textPath xlink:href=\"#arrow-53ab94b0b778460a8bc1e46a5d96f589-4-1\" class=\"displacy-label\" startOffset=\"50%\" side=\"left\" fill=\"currentColor\" text-anchor=\"middle\">det</textPath>\n",
       "    </text>\n",
       "    <path class=\"displacy-arrowhead\" d=\"M420,354.0 L412,342.0 428,342.0\" fill=\"currentColor\"/>\n",
       "</g>\n",
       "\n",
       "<g class=\"displacy-arrow\">\n",
       "    <path class=\"displacy-arc\" id=\"arrow-53ab94b0b778460a8bc1e46a5d96f589-4-2\" stroke-width=\"2px\" d=\"M245,352.0 C245,177.0 565.0,177.0 565.0,352.0\" fill=\"none\" stroke=\"currentColor\"/>\n",
       "    <text dy=\"1.25em\" style=\"font-size: 0.8em; letter-spacing: 1px\">\n",
       "        <textPath xlink:href=\"#arrow-53ab94b0b778460a8bc1e46a5d96f589-4-2\" class=\"displacy-label\" startOffset=\"50%\" side=\"left\" fill=\"currentColor\" text-anchor=\"middle\">attr</textPath>\n",
       "    </text>\n",
       "    <path class=\"displacy-arrowhead\" d=\"M565.0,354.0 L573.0,342.0 557.0,342.0\" fill=\"currentColor\"/>\n",
       "</g>\n",
       "\n",
       "<g class=\"displacy-arrow\">\n",
       "    <path class=\"displacy-arc\" id=\"arrow-53ab94b0b778460a8bc1e46a5d96f589-4-3\" stroke-width=\"2px\" d=\"M595,352.0 C595,264.5 735.0,264.5 735.0,352.0\" fill=\"none\" stroke=\"currentColor\"/>\n",
       "    <text dy=\"1.25em\" style=\"font-size: 0.8em; letter-spacing: 1px\">\n",
       "        <textPath xlink:href=\"#arrow-53ab94b0b778460a8bc1e46a5d96f589-4-3\" class=\"displacy-label\" startOffset=\"50%\" side=\"left\" fill=\"currentColor\" text-anchor=\"middle\">prep</textPath>\n",
       "    </text>\n",
       "    <path class=\"displacy-arrowhead\" d=\"M735.0,354.0 L743.0,342.0 727.0,342.0\" fill=\"currentColor\"/>\n",
       "</g>\n",
       "\n",
       "<g class=\"displacy-arrow\">\n",
       "    <path class=\"displacy-arc\" id=\"arrow-53ab94b0b778460a8bc1e46a5d96f589-4-4\" stroke-width=\"2px\" d=\"M770,352.0 C770,264.5 910.0,264.5 910.0,352.0\" fill=\"none\" stroke=\"currentColor\"/>\n",
       "    <text dy=\"1.25em\" style=\"font-size: 0.8em; letter-spacing: 1px\">\n",
       "        <textPath xlink:href=\"#arrow-53ab94b0b778460a8bc1e46a5d96f589-4-4\" class=\"displacy-label\" startOffset=\"50%\" side=\"left\" fill=\"currentColor\" text-anchor=\"middle\">pobj</textPath>\n",
       "    </text>\n",
       "    <path class=\"displacy-arrowhead\" d=\"M910.0,354.0 L918.0,342.0 902.0,342.0\" fill=\"currentColor\"/>\n",
       "</g>\n",
       "\n",
       "<g class=\"displacy-arrow\">\n",
       "    <path class=\"displacy-arc\" id=\"arrow-53ab94b0b778460a8bc1e46a5d96f589-4-5\" stroke-width=\"2px\" d=\"M1120,352.0 C1120,264.5 1260.0,264.5 1260.0,352.0\" fill=\"none\" stroke=\"currentColor\"/>\n",
       "    <text dy=\"1.25em\" style=\"font-size: 0.8em; letter-spacing: 1px\">\n",
       "        <textPath xlink:href=\"#arrow-53ab94b0b778460a8bc1e46a5d96f589-4-5\" class=\"displacy-label\" startOffset=\"50%\" side=\"left\" fill=\"currentColor\" text-anchor=\"middle\">det</textPath>\n",
       "    </text>\n",
       "    <path class=\"displacy-arrowhead\" d=\"M1120,354.0 L1112,342.0 1128,342.0\" fill=\"currentColor\"/>\n",
       "</g>\n",
       "\n",
       "<g class=\"displacy-arrow\">\n",
       "    <path class=\"displacy-arc\" id=\"arrow-53ab94b0b778460a8bc1e46a5d96f589-4-6\" stroke-width=\"2px\" d=\"M1295,352.0 C1295,89.5 2145.0,89.5 2145.0,352.0\" fill=\"none\" stroke=\"currentColor\"/>\n",
       "    <text dy=\"1.25em\" style=\"font-size: 0.8em; letter-spacing: 1px\">\n",
       "        <textPath xlink:href=\"#arrow-53ab94b0b778460a8bc1e46a5d96f589-4-6\" class=\"displacy-label\" startOffset=\"50%\" side=\"left\" fill=\"currentColor\" text-anchor=\"middle\">poss</textPath>\n",
       "    </text>\n",
       "    <path class=\"displacy-arrowhead\" d=\"M1295,354.0 L1287,342.0 1303,342.0\" fill=\"currentColor\"/>\n",
       "</g>\n",
       "\n",
       "<g class=\"displacy-arrow\">\n",
       "    <path class=\"displacy-arc\" id=\"arrow-53ab94b0b778460a8bc1e46a5d96f589-4-7\" stroke-width=\"2px\" d=\"M1295,352.0 C1295,264.5 1435.0,264.5 1435.0,352.0\" fill=\"none\" stroke=\"currentColor\"/>\n",
       "    <text dy=\"1.25em\" style=\"font-size: 0.8em; letter-spacing: 1px\">\n",
       "        <textPath xlink:href=\"#arrow-53ab94b0b778460a8bc1e46a5d96f589-4-7\" class=\"displacy-label\" startOffset=\"50%\" side=\"left\" fill=\"currentColor\" text-anchor=\"middle\">case</textPath>\n",
       "    </text>\n",
       "    <path class=\"displacy-arrowhead\" d=\"M1435.0,354.0 L1443.0,342.0 1427.0,342.0\" fill=\"currentColor\"/>\n",
       "</g>\n",
       "\n",
       "<g class=\"displacy-arrow\">\n",
       "    <path class=\"displacy-arc\" id=\"arrow-53ab94b0b778460a8bc1e46a5d96f589-4-8\" stroke-width=\"2px\" d=\"M1295,352.0 C1295,177.0 1615.0,177.0 1615.0,352.0\" fill=\"none\" stroke=\"currentColor\"/>\n",
       "    <text dy=\"1.25em\" style=\"font-size: 0.8em; letter-spacing: 1px\">\n",
       "        <textPath xlink:href=\"#arrow-53ab94b0b778460a8bc1e46a5d96f589-4-8\" class=\"displacy-label\" startOffset=\"50%\" side=\"left\" fill=\"currentColor\" text-anchor=\"middle\">dep</textPath>\n",
       "    </text>\n",
       "    <path class=\"displacy-arrowhead\" d=\"M1615.0,354.0 L1623.0,342.0 1607.0,342.0\" fill=\"currentColor\"/>\n",
       "</g>\n",
       "\n",
       "<g class=\"displacy-arrow\">\n",
       "    <path class=\"displacy-arc\" id=\"arrow-53ab94b0b778460a8bc1e46a5d96f589-4-9\" stroke-width=\"2px\" d=\"M1820,352.0 C1820,177.0 2140.0,177.0 2140.0,352.0\" fill=\"none\" stroke=\"currentColor\"/>\n",
       "    <text dy=\"1.25em\" style=\"font-size: 0.8em; letter-spacing: 1px\">\n",
       "        <textPath xlink:href=\"#arrow-53ab94b0b778460a8bc1e46a5d96f589-4-9\" class=\"displacy-label\" startOffset=\"50%\" side=\"left\" fill=\"currentColor\" text-anchor=\"middle\">amod</textPath>\n",
       "    </text>\n",
       "    <path class=\"displacy-arrowhead\" d=\"M1820,354.0 L1812,342.0 1828,342.0\" fill=\"currentColor\"/>\n",
       "</g>\n",
       "\n",
       "<g class=\"displacy-arrow\">\n",
       "    <path class=\"displacy-arc\" id=\"arrow-53ab94b0b778460a8bc1e46a5d96f589-4-10\" stroke-width=\"2px\" d=\"M1995,352.0 C1995,264.5 2135.0,264.5 2135.0,352.0\" fill=\"none\" stroke=\"currentColor\"/>\n",
       "    <text dy=\"1.25em\" style=\"font-size: 0.8em; letter-spacing: 1px\">\n",
       "        <textPath xlink:href=\"#arrow-53ab94b0b778460a8bc1e46a5d96f589-4-10\" class=\"displacy-label\" startOffset=\"50%\" side=\"left\" fill=\"currentColor\" text-anchor=\"middle\">amod</textPath>\n",
       "    </text>\n",
       "    <path class=\"displacy-arrowhead\" d=\"M1995,354.0 L1987,342.0 2003,342.0\" fill=\"currentColor\"/>\n",
       "</g>\n",
       "\n",
       "<g class=\"displacy-arrow\">\n",
       "    <path class=\"displacy-arc\" id=\"arrow-53ab94b0b778460a8bc1e46a5d96f589-4-11\" stroke-width=\"2px\" d=\"M945,352.0 C945,2.0 2150.0,2.0 2150.0,352.0\" fill=\"none\" stroke=\"currentColor\"/>\n",
       "    <text dy=\"1.25em\" style=\"font-size: 0.8em; letter-spacing: 1px\">\n",
       "        <textPath xlink:href=\"#arrow-53ab94b0b778460a8bc1e46a5d96f589-4-11\" class=\"displacy-label\" startOffset=\"50%\" side=\"left\" fill=\"currentColor\" text-anchor=\"middle\">appos</textPath>\n",
       "    </text>\n",
       "    <path class=\"displacy-arrowhead\" d=\"M2150.0,354.0 L2158.0,342.0 2142.0,342.0\" fill=\"currentColor\"/>\n",
       "</g>\n",
       "</svg></span>"
      ],
      "text/plain": [
       "<IPython.core.display.HTML object>"
      ]
     },
     "metadata": {},
     "output_type": "display_data"
    }
   ],
   "source": [
    "# visualising by sentence\n",
    "sentence_spans = list(doc.sents)\n",
    "displacy.render(sentence_spans, style=\"dep\")"
   ]
  },
  {
   "cell_type": "code",
   "execution_count": 30,
   "id": "daa7c666",
   "metadata": {},
   "outputs": [
    {
     "data": {
      "text/html": [
       "<span class=\"tex2jax_ignore\"><h2 style=\"margin: 0\">Cleopatra lolsies</h2>\n",
       "\n",
       "<div class=\"entities\" style=\"line-height: 2.5; direction: ltr\">\n",
       "<mark class=\"entity\" style=\"background: #aa9cfc; padding: 0.45em 0.6em; margin: 0 0.25em; line-height: 1; border-radius: 0.35em;\">\n",
       "    Cleopatra\n",
       "    <span style=\"font-size: 0.8em; font-weight: bold; line-height: 1; border-radius: 0.35em; vertical-align: middle; margin-left: 0.5rem\">PERSON</span>\n",
       "</mark>\n",
       " wasn't actually \n",
       "<mark class=\"entity\" style=\"background: #c887fb; padding: 0.45em 0.6em; margin: 0 0.25em; line-height: 1; border-radius: 0.35em;\">\n",
       "    Egyptian\n",
       "    <span style=\"font-size: 0.8em; font-weight: bold; line-height: 1; border-radius: 0.35em; vertical-align: middle; margin-left: 0.5rem\">NORP</span>\n",
       "</mark>\n",
       "! </br>         As far as historians can tell, \n",
       "<mark class=\"entity\" style=\"background: #feca74; padding: 0.45em 0.6em; margin: 0 0.25em; line-height: 1; border-radius: 0.35em;\">\n",
       "    Egypt\n",
       "    <span style=\"font-size: 0.8em; font-weight: bold; line-height: 1; border-radius: 0.35em; vertical-align: middle; margin-left: 0.5rem\">GPE</span>\n",
       "</mark>\n",
       "'s </br>         famous femme fatal was actually \n",
       "<mark class=\"entity\" style=\"background: #c887fb; padding: 0.45em 0.6em; margin: 0 0.25em; line-height: 1; border-radius: 0.35em;\">\n",
       "    Greek\n",
       "    <span style=\"font-size: 0.8em; font-weight: bold; line-height: 1; border-radius: 0.35em; vertical-align: middle; margin-left: 0.5rem\">NORP</span>\n",
       "</mark>\n",
       "!. </br>         She was a descendant of \n",
       "<mark class=\"entity\" style=\"background: #aa9cfc; padding: 0.45em 0.6em; margin: 0 0.25em; line-height: 1; border-radius: 0.35em;\">\n",
       "    Alexander the Great\n",
       "    <span style=\"font-size: 0.8em; font-weight: bold; line-height: 1; border-radius: 0.35em; vertical-align: middle; margin-left: 0.5rem\">PERSON</span>\n",
       "</mark>\n",
       "\n",
       "<mark class=\"entity\" style=\"background: #7aecec; padding: 0.45em 0.6em; margin: 0 0.25em; line-height: 1; border-radius: 0.35em;\">\n",
       "    's\n",
       "    <span style=\"font-size: 0.8em; font-weight: bold; line-height: 1; border-radius: 0.35em; vertical-align: middle; margin-left: 0.5rem\">ORG</span>\n",
       "</mark>\n",
       "</br>         \n",
       "<mark class=\"entity\" style=\"background: #c887fb; padding: 0.45em 0.6em; margin: 0 0.25em; line-height: 1; border-radius: 0.35em;\">\n",
       "    Macedonian\n",
       "    <span style=\"font-size: 0.8em; font-weight: bold; line-height: 1; border-radius: 0.35em; vertical-align: middle; margin-left: 0.5rem\">NORP</span>\n",
       "</mark>\n",
       " general \n",
       "<mark class=\"entity\" style=\"background: #c887fb; padding: 0.45em 0.6em; margin: 0 0.25em; line-height: 1; border-radius: 0.35em;\">\n",
       "    Ptolemy\n",
       "    <span style=\"font-size: 0.8em; font-weight: bold; line-height: 1; border-radius: 0.35em; vertical-align: middle; margin-left: 0.5rem\">NORP</span>\n",
       "</mark>\n",
       "</div></span>"
      ],
      "text/plain": [
       "<IPython.core.display.HTML object>"
      ]
     },
     "metadata": {},
     "output_type": "display_data"
    }
   ],
   "source": [
    "# visualizing the entity recognizer\n",
    "doc.user_data[\"title\"] = \"Cleopatra lolsies\"\n",
    "displacy.render(doc, style=\"ent\")"
   ]
  },
  {
   "cell_type": "code",
   "execution_count": 31,
   "id": "3535cd35",
   "metadata": {},
   "outputs": [
    {
     "data": {
      "text/html": [
       "<span class=\"tex2jax_ignore\"><h2 style=\"margin: 0\">Cleopatra lolsies</h2>\n",
       "\n",
       "<div class=\"entities\" style=\"line-height: 2.5; direction: ltr\">Cleopatra wasn't actually \n",
       "<mark class=\"entity\" style=\"background: #c887fb; padding: 0.45em 0.6em; margin: 0 0.25em; line-height: 1; border-radius: 0.35em;\">\n",
       "    Egyptian\n",
       "    <span style=\"font-size: 0.8em; font-weight: bold; line-height: 1; border-radius: 0.35em; vertical-align: middle; margin-left: 0.5rem\">NORP</span>\n",
       "</mark>\n",
       "! </br>         As far as historians can tell, Egypt's </br>         famous femme fatal was actually \n",
       "<mark class=\"entity\" style=\"background: #c887fb; padding: 0.45em 0.6em; margin: 0 0.25em; line-height: 1; border-radius: 0.35em;\">\n",
       "    Greek\n",
       "    <span style=\"font-size: 0.8em; font-weight: bold; line-height: 1; border-radius: 0.35em; vertical-align: middle; margin-left: 0.5rem\">NORP</span>\n",
       "</mark>\n",
       "!. </br>         She was a descendant of Alexander the Great's</br>         \n",
       "<mark class=\"entity\" style=\"background: #c887fb; padding: 0.45em 0.6em; margin: 0 0.25em; line-height: 1; border-radius: 0.35em;\">\n",
       "    Macedonian\n",
       "    <span style=\"font-size: 0.8em; font-weight: bold; line-height: 1; border-radius: 0.35em; vertical-align: middle; margin-left: 0.5rem\">NORP</span>\n",
       "</mark>\n",
       " general \n",
       "<mark class=\"entity\" style=\"background: #c887fb; padding: 0.45em 0.6em; margin: 0 0.25em; line-height: 1; border-radius: 0.35em;\">\n",
       "    Ptolemy\n",
       "    <span style=\"font-size: 0.8em; font-weight: bold; line-height: 1; border-radius: 0.35em; vertical-align: middle; margin-left: 0.5rem\">NORP</span>\n",
       "</mark>\n",
       "</div></span>"
      ],
      "text/plain": [
       "<IPython.core.display.HTML object>"
      ]
     },
     "metadata": {},
     "output_type": "display_data"
    }
   ],
   "source": [
    "# specifiying a list of ents shows only those ents during visualization\n",
    "doc.user_data[\"title\"] = \"Cleopatra lolsies\"\n",
    "colors = {\"ORG\": \"linear-gradient(90deg, #aa9cfc, #fc9ce7)\"}\n",
    "options = {\"ents\": [\"NORP\"], \"colors\": colors}\n",
    "displacy.render(doc, style=\"ent\", options=options)"
   ]
  },
  {
   "cell_type": "code",
   "execution_count": 32,
   "id": "87a1e26e",
   "metadata": {},
   "outputs": [
    {
     "data": {
      "text/html": [
       "<span class=\"tex2jax_ignore\"><div class=\"entities\" style=\"line-height: 2.5; direction: ltr\">\n",
       "<mark class=\"entity\" style=\"background: #7aecec; padding: 0.45em 0.6em; margin: 0 0.25em; line-height: 1; border-radius: 0.35em;\">\n",
       "    faez\n",
       "    <span style=\"font-size: 0.8em; font-weight: bold; line-height: 1; border-radius: 0.35em; vertical-align: middle; margin-left: 0.5rem\">ORG</span>\n",
       "</mark>\n",
       " is a budding customer manager</div></span>"
      ],
      "text/plain": [
       "<IPython.core.display.HTML object>"
      ]
     },
     "metadata": {},
     "output_type": "display_data"
    }
   ],
   "source": [
    "txt3 = 'faez is a budding customer manager'\n",
    "doc2 = nlp(txt3)\n",
    "displacy.render(doc2, style=\"ent\")"
   ]
  },
  {
   "cell_type": "markdown",
   "id": "44bd021d",
   "metadata": {},
   "source": [
    "# POS tags and syntactic dependencies"
   ]
  },
  {
   "cell_type": "code",
   "execution_count": 33,
   "id": "fbeb1905",
   "metadata": {},
   "outputs": [
    {
     "name": "stdout",
     "output_type": "stream",
     "text": [
      "Text                 Part-of-speech       Dependency           Dependency text     \n",
      "\n",
      "The                  DET                  det                  footprints          \n",
      "\n",
      "first                ADJ                  amod                 footprints          \n",
      "\n",
      "footprints           NOUN                 nsubj                remain              \n",
      "\n",
      "on                   ADP                  prep                 footprints          \n",
      "\n",
      "the                  DET                  det                  moon                \n",
      "\n",
      "moon                 NOUN                 pobj                 on                  \n",
      "\n",
      "will                 AUX                  aux                  remain              \n",
      "\n",
      "remain               VERB                 ROOT                 remain              \n",
      "\n",
      "there                ADV                  advmod               remain              \n",
      "\n",
      "for                  ADP                  prep                 remain              \n",
      "\n",
      "a                    DET                  det                  years               \n",
      "\n",
      "million              NUM                  nummod               years               \n",
      "\n",
      "years                NOUN                 pobj                 for                 \n",
      "\n"
     ]
    }
   ],
   "source": [
    "txt = \"The first footprints on the moon will remain there for a million years\"\n",
    "\n",
    "doc = nlp(txt)\n",
    "# setting headers\n",
    "print(\n",
    "    f\"{'Text':<20} {'Part-of-speech':<20} \"\n",
    "    f\"{'Dependency':<20} {'Dependency text':<20}\\n\"\n",
    ")\n",
    "# printing actual dependencies\n",
    "for token in doc:\n",
    "    print(f\"{token.text:<20} {token.pos_:<20} \"\n",
    "    f\"{token.dep_:<20} {token.head.text:<20}\\n\")"
   ]
  },
  {
   "cell_type": "code",
   "execution_count": 34,
   "id": "84b91972",
   "metadata": {},
   "outputs": [
    {
     "name": "stdout",
     "output_type": "stream",
     "text": [
      "DET --> determiner\n",
      "AUX --> auxiliary\n",
      "ADP --> adposition\n",
      "ADV --> adverb\n",
      "amod --> adjectival modifier\n",
      "nsubj --> nominal subject\n",
      "nummod --> numeric modifier\n",
      "det --> determiner\n",
      "prep --> prepositional modifier\n",
      "pobj --> object of preposition\n",
      "aux --> auxiliary\n",
      "advmod --> adverbial modifier\n"
     ]
    }
   ],
   "source": [
    "# understanding tag meanings\n",
    "pos_tags = [\"DET\", \"AUX\", \"ADP\",'ADV']\n",
    "dep_tags = [\"amod\", \"nsubj\", \"nummod\",'det','prep','pobj','aux','advmod']\n",
    "\n",
    "for pos in pos_tags:\n",
    "    print(pos, \"-->\", spacy.explain(pos))\n",
    "\n",
    "for dep in dep_tags:\n",
    "    print(dep, \"-->\", spacy.explain(dep))"
   ]
  },
  {
   "cell_type": "code",
   "execution_count": 35,
   "id": "bac7d2f8",
   "metadata": {},
   "outputs": [
    {
     "name": "stdout",
     "output_type": "stream",
     "text": [
      "The teddy bear\n",
      "President Theodore Roosevelt\n",
      "he\n",
      "a captured black bear\n",
      "a hunt\n",
      "a stuffed-animal maker\n",
      "a bear\n",
      "it\n",
      "the president\n"
     ]
    }
   ],
   "source": [
    "# https://spacy.io/usage/linguistic-features\n",
    "# extracting noun chunks\n",
    "\n",
    "txt = \"\"\"The teddy bear is named after President Theodore Roosevelt. \n",
    "         After he refused to shoot a captured black bear on a hunt, \n",
    "         a stuffed-animal maker decided to create\n",
    "         a bear and name it after the president.\"\"\"\n",
    "\n",
    "doc = nlp(txt)\n",
    "\n",
    "for chunk in doc.noun_chunks:\n",
    "    print(chunk.text)"
   ]
  },
  {
   "cell_type": "markdown",
   "id": "532d8af8",
   "metadata": {},
   "source": [
    "# Custom rule-based tokenization"
   ]
  },
  {
   "cell_type": "code",
   "execution_count": 36,
   "id": "952b0484",
   "metadata": {},
   "outputs": [],
   "source": [
    "txt = \"\"\"Cleopatra wasn't actually Egyptian! \n",
    "         As far as historians can tell, Egypt's \n",
    "         famous femme fatal was actually Greek!. \n",
    "         She was a descendant of Alexander the Great's\n",
    "         Macedonian general Ptolemy and also, Shaun the Sheep\"\"\"\n",
    "\n",
    "# Create a patten\n",
    "pattern = [\n",
    "    {\"IS_ALPHA\": True, \"IS_TITLE\": True},\n",
    "    {\"IS_STOP\": True},\n",
    "    {\"IS_ALPHA\": True, \"IS_TITLE\": True},\n",
    "]\n",
    "\n",
    "from spacy.matcher import Matcher\n",
    "\n",
    "# Init the matcher with the shared vocab\n",
    "matcher = Matcher(nlp.vocab)\n",
    "\n",
    "# Add the pattern to the matcher\n",
    "matcher.add(\"TITLED_PERSON\", [pattern])"
   ]
  },
  {
   "cell_type": "code",
   "execution_count": 37,
   "id": "0de45178",
   "metadata": {},
   "outputs": [
    {
     "name": "stdout",
     "output_type": "stream",
     "text": [
      "Alexander the Great\n",
      "Shaun the Sheep\n"
     ]
    }
   ],
   "source": [
    "# process the text\n",
    "doc = nlp(txt)\n",
    "\n",
    "# finding all matches\n",
    "matches = matcher(doc)\n",
    "\n",
    "# iterate over matches\n",
    "for match_id, start, end in matches:\n",
    "    # Get span\n",
    "    span = doc[start:end]\n",
    "    print(span.text)"
   ]
  },
  {
   "cell_type": "code",
   "execution_count": 38,
   "id": "d2e60919",
   "metadata": {},
   "outputs": [
    {
     "data": {
      "text/plain": [
       "[(8382984582166938613, 31, 34), (8382984582166938613, 42, 45)]"
      ]
     },
     "execution_count": 38,
     "metadata": {},
     "output_type": "execute_result"
    }
   ],
   "source": [
    "matches"
   ]
  },
  {
   "cell_type": "markdown",
   "id": "d582081c",
   "metadata": {},
   "source": [
    "# Word vectors and semantic similarity"
   ]
  },
  {
   "cell_type": "code",
   "execution_count": 39,
   "id": "fcc4870e",
   "metadata": {},
   "outputs": [
    {
     "data": {
      "text/plain": [
       "0.9331312038844666"
      ]
     },
     "execution_count": 39,
     "metadata": {},
     "output_type": "execute_result"
    }
   ],
   "source": [
    "# spaCy is able to calculate semantic similarity using word vectors\n",
    "nlp = spacy.load(\"en_core_web_md\")\n",
    "\n",
    "doc1 = nlp(\"What a lukeworm sentiment.\")\n",
    "doc2 = nlp(\"What a short sentence.\")\n",
    "doc1.similarity(doc2)"
   ]
  },
  {
   "cell_type": "code",
   "execution_count": 40,
   "id": "f01619d5",
   "metadata": {},
   "outputs": [
    {
     "data": {
      "text/plain": [
       "(300,)"
      ]
     },
     "execution_count": 40,
     "metadata": {},
     "output_type": "execute_result"
    }
   ],
   "source": [
    "array = doc1[0].vector\n",
    "array.shape"
   ]
  },
  {
   "cell_type": "code",
   "execution_count": 41,
   "id": "3afd830e",
   "metadata": {},
   "outputs": [
    {
     "data": {
      "text/plain": [
       "array([-3.0935,  1.3209, -3.9328, -2.3205, -4.4307, -2.8526,  2.1242,\n",
       "        1.2495, -5.3112,  1.0106], dtype=float32)"
      ]
     },
     "execution_count": 41,
     "metadata": {},
     "output_type": "execute_result"
    }
   ],
   "source": [
    "array[:10]"
   ]
  },
  {
   "cell_type": "markdown",
   "id": "2ccc30a1",
   "metadata": {},
   "source": [
    "# other ways of calculating"
   ]
  },
  {
   "cell_type": "code",
   "execution_count": 42,
   "id": "03b21ed6",
   "metadata": {},
   "outputs": [
    {
     "name": "stdout",
     "output_type": "stream",
     "text": [
      "[-9.5785474e-03  8.9431144e-03  4.1650678e-03  9.2347339e-03\n",
      "  6.6435025e-03  2.9247357e-03  9.8040197e-03 -4.4246409e-03\n",
      " -6.8033123e-03  4.2273807e-03  3.7290000e-03 -5.6646108e-03\n",
      "  9.7047593e-03 -3.5583067e-03  9.5494054e-03  8.3472492e-04\n",
      " -6.3384580e-03 -1.9771170e-03 -7.3770545e-03 -2.9795242e-03\n",
      "  1.0416961e-03  9.4826864e-03  9.3558477e-03 -6.5958784e-03\n",
      "  3.4751510e-03  2.2755694e-03 -2.4893521e-03 -9.2291739e-03\n",
      "  1.0271263e-03 -8.1657078e-03  6.3201878e-03 -5.8000805e-03\n",
      "  5.5354382e-03  9.8337224e-03 -1.6000033e-04  4.5284913e-03\n",
      " -1.8094016e-03  7.3607611e-03  3.9400961e-03 -9.0103243e-03\n",
      " -2.3985051e-03  3.6287690e-03 -9.9568366e-05 -1.2012720e-03\n",
      " -1.0554385e-03 -1.6716027e-03  6.0495140e-04  4.1650939e-03\n",
      " -4.2527914e-03 -3.8336229e-03 -5.2816868e-05  2.6935578e-04\n",
      " -1.6880751e-04 -4.7855065e-03  4.3134023e-03 -2.1719194e-03\n",
      "  2.1035385e-03  6.6652300e-04  5.9696771e-03 -6.8423818e-03\n",
      " -6.8157101e-03 -4.4762585e-03  9.4358278e-03 -1.5918827e-03\n",
      " -9.4292425e-03 -5.4504158e-04 -4.4489242e-03  6.0000778e-03\n",
      " -9.5836855e-03  2.8590010e-03 -9.2528323e-03  1.2497997e-03\n",
      "  5.9991982e-03  7.3973467e-03 -7.6214648e-03 -6.0530235e-03\n",
      " -6.8384409e-03 -7.9183411e-03 -9.4990805e-03 -2.1254970e-03\n",
      " -8.3593366e-04 -7.2562029e-03  6.7870356e-03  1.1196184e-03\n",
      "  5.8288667e-03  1.4728665e-03  7.8936579e-04 -7.3681306e-03\n",
      " -2.1766592e-03  4.3210792e-03 -5.0853156e-03  1.1307884e-03\n",
      "  2.8833628e-03 -1.5363622e-03  9.9322936e-03  8.3496328e-03\n",
      "  2.4156666e-03  7.1182442e-03  5.8914376e-03 -5.5806185e-03]\n"
     ]
    }
   ],
   "source": [
    "import gensim\n",
    "\n",
    "# Define a list of sentences to train the Word2Vec model\n",
    "sentences = [[\"I\", \"love\", \"chocolate\"], \n",
    "             [\"I\", \"hate\", \"spinach\"], \n",
    "             [\"I\", \"like\", \"ice\", \"cream\"], \n",
    "             [\"I\", \"dislike\", \"onions\"]]\n",
    "\n",
    "# Train the Word2Vec model with the sentences\n",
    "model = gensim.models.Word2Vec(sentences, min_count=1)\n",
    "\n",
    "# Get the word vector for a specific word\n",
    "word_vector = model.wv[\"chocolate\"]\n",
    "\n",
    "print(word_vector)\n"
   ]
  },
  {
   "cell_type": "code",
   "execution_count": 43,
   "id": "2aeada90",
   "metadata": {},
   "outputs": [
    {
     "name": "stdout",
     "output_type": "stream",
     "text": [
      "-0.069003314\n"
     ]
    }
   ],
   "source": [
    "# word similarity\n",
    "similarity = model.wv.similarity('chocolate','ice')\n",
    "print(similarity)"
   ]
  },
  {
   "cell_type": "markdown",
   "id": "3ed7d96f",
   "metadata": {},
   "source": [
    "# Custom pipelines"
   ]
  },
  {
   "cell_type": "code",
   "execution_count": 44,
   "id": "cd046fef",
   "metadata": {},
   "outputs": [
    {
     "data": {
      "text/plain": [
       "<function __main__.titled_person(doc)>"
      ]
     },
     "execution_count": 44,
     "metadata": {},
     "output_type": "execute_result"
    }
   ],
   "source": [
    "from spacy.language import Language\n",
    "from spacy.matcher import Matcher\n",
    "from spacy.util import filter_spans\n",
    "\n",
    "nlp = spacy.load(\"en_core_web_sm\")\n",
    "\n",
    "@Language.component(\"titled_person\")\n",
    "def titled_person(doc):\n",
    "    pattern = [\n",
    "        {\"IS_ALPHA\": True, \"IS_TITLE\": True},\n",
    "        {\"IS_STOP\": True},\n",
    "        {\"IS_ALPHA\": True, \"IS_TITLE\": True},\n",
    "    ]\n",
    "    # Create the matcher\n",
    "    matcher = Matcher(nlp.vocab)\n",
    "    # Add the pattern\n",
    "    matcher.add(\"TITLED_PERSON\", [pattern])\n",
    "\n",
    "    matches = matcher(doc)\n",
    "    matched_spans = [Span(doc, start, end, label=\"PERSON\") for _, start, end in matches]\n",
    "\n",
    "    # Filter the entities for potential overlap\n",
    "    filtered_matches = filter_spans(list(doc.ents) + matched_spans)\n",
    "    # Add the matched spans to doc's entities\n",
    "    doc.ents = filtered_matches\n",
    "\n",
    "    return doc\n",
    "\n",
    "nlp.add_pipe(\"titled_person\")"
   ]
  },
  {
   "cell_type": "code",
   "execution_count": 45,
   "id": "21d28874",
   "metadata": {},
   "outputs": [
    {
     "data": {
      "text/plain": [
       "['tok2vec',\n",
       " 'tagger',\n",
       " 'parser',\n",
       " 'attribute_ruler',\n",
       " 'lemmatizer',\n",
       " 'ner',\n",
       " 'titled_person']"
      ]
     },
     "execution_count": 45,
     "metadata": {},
     "output_type": "execute_result"
    }
   ],
   "source": [
    "from spacy.tokens import Span\n",
    "txt = \"\"\"Cleopatra wasn't actually Egyptian! \n",
    "         As far as historians can tell, Egypt's \n",
    "         famous femme fatal was actually Greek!. \n",
    "         She was a descendant of Alexander the Great's\n",
    "         Macedonian general Ptolemy\"\"\"\n",
    "\n",
    "doc = nlp(txt)\n",
    "nlp.pipe_names"
   ]
  },
  {
   "cell_type": "code",
   "execution_count": 46,
   "id": "e84f4b86",
   "metadata": {},
   "outputs": [
    {
     "data": {
      "text/plain": [
       "(Cleopatra, Egyptian, Egypt, Greek, Alexander the Great's, Ptolemy)"
      ]
     },
     "execution_count": 46,
     "metadata": {},
     "output_type": "execute_result"
    }
   ],
   "source": [
    "doc.ents"
   ]
  },
  {
   "cell_type": "code",
   "execution_count": 47,
   "id": "1c836f3f",
   "metadata": {},
   "outputs": [],
   "source": [
    "# # other ways of adding to pipeline\n",
    "# nlp.add_pipe(\"titled_person\", first=True)  # Beginning\n",
    "# nlp.add_pipe(\"titled_person\", after=\"parser\")  # After parser\n",
    "# nlp.add_pipe(\"titled_person\", before=\"tagger\") # Before POS tagger"
   ]
  },
  {
   "cell_type": "code",
   "execution_count": 48,
   "id": "6d896d69",
   "metadata": {},
   "outputs": [
    {
     "data": {
      "text/plain": [
       "['I', 'want', 'to', 'eat', 'food,', 'I', 'am', 'hungry.']"
      ]
     },
     "execution_count": 48,
     "metadata": {},
     "output_type": "execute_result"
    }
   ],
   "source": [
    "string = 'I want to eat food, I am hungry.'\n",
    "string.split()"
   ]
  },
  {
   "cell_type": "markdown",
   "id": "a20f3d1a",
   "metadata": {},
   "source": [
    "# spaCy practice"
   ]
  },
  {
   "cell_type": "code",
   "execution_count": 49,
   "id": "93c5898a",
   "metadata": {},
   "outputs": [
    {
     "data": {
      "text/html": [
       "<div>\n",
       "<style scoped>\n",
       "    .dataframe tbody tr th:only-of-type {\n",
       "        vertical-align: middle;\n",
       "    }\n",
       "\n",
       "    .dataframe tbody tr th {\n",
       "        vertical-align: top;\n",
       "    }\n",
       "\n",
       "    .dataframe thead th {\n",
       "        text-align: right;\n",
       "    }\n",
       "</style>\n",
       "<table border=\"1\" class=\"dataframe\">\n",
       "  <thead>\n",
       "    <tr style=\"text-align: right;\">\n",
       "      <th></th>\n",
       "      <th>titles</th>\n",
       "      <th>summaries</th>\n",
       "      <th>terms</th>\n",
       "      <th>orig_titles</th>\n",
       "      <th>orig_summaries</th>\n",
       "    </tr>\n",
       "  </thead>\n",
       "  <tbody>\n",
       "    <tr>\n",
       "      <th>0</th>\n",
       "      <td>Survey on Semantic Stereo Matching / Semantic ...</td>\n",
       "      <td>Stereo matching is one of the widely used tech...</td>\n",
       "      <td>['cs.CV', 'cs.LG']</td>\n",
       "      <td>Survey on Semantic Stereo Matching / Semantic ...</td>\n",
       "      <td>Stereo matching is one of the widely used tech...</td>\n",
       "    </tr>\n",
       "    <tr>\n",
       "      <th>1</th>\n",
       "      <td>FUTURE-AI: Guiding Principles and Consensus Re...</td>\n",
       "      <td>The recent advancements in artificial intellig...</td>\n",
       "      <td>['cs.CV', 'cs.AI', 'cs.LG']</td>\n",
       "      <td>FUTURE-AI: Guiding Principles and Consensus Re...</td>\n",
       "      <td>The recent advancements in artificial intellig...</td>\n",
       "    </tr>\n",
       "    <tr>\n",
       "      <th>2</th>\n",
       "      <td>Enforcing Mutual Consistency of Hard Regions f...</td>\n",
       "      <td>In this paper, we proposed a novel mutual cons...</td>\n",
       "      <td>['cs.CV', 'cs.AI']</td>\n",
       "      <td>Enforcing Mutual Consistency of Hard Regions f...</td>\n",
       "      <td>In this paper, we proposed a novel mutual cons...</td>\n",
       "    </tr>\n",
       "    <tr>\n",
       "      <th>3</th>\n",
       "      <td>Parameter Decoupling Strategy for Semi-supervi...</td>\n",
       "      <td>Consistency training has proven to be an advan...</td>\n",
       "      <td>['cs.CV']</td>\n",
       "      <td>Parameter Decoupling Strategy for Semi-supervi...</td>\n",
       "      <td>Consistency training has proven to be an advan...</td>\n",
       "    </tr>\n",
       "    <tr>\n",
       "      <th>4</th>\n",
       "      <td>Background-Foreground Segmentation for Interio...</td>\n",
       "      <td>To ensure safety in automated driving, the cor...</td>\n",
       "      <td>['cs.CV', 'cs.LG']</td>\n",
       "      <td>Background-Foreground Segmentation for Interio...</td>\n",
       "      <td>To ensure safety in automated driving, the cor...</td>\n",
       "    </tr>\n",
       "    <tr>\n",
       "      <th>...</th>\n",
       "      <td>...</td>\n",
       "      <td>...</td>\n",
       "      <td>...</td>\n",
       "      <td>...</td>\n",
       "      <td>...</td>\n",
       "    </tr>\n",
       "    <tr>\n",
       "      <th>51769</th>\n",
       "      <td>Hierarchically-coupled hidden Markov models fo...</td>\n",
       "      <td>We address the problem of analyzing sets of no...</td>\n",
       "      <td>['stat.ML', 'physics.bio-ph', 'q-bio.QM']</td>\n",
       "      <td>Hierarchically-coupled hidden Markov models fo...</td>\n",
       "      <td>We address the problem of analyzing sets of no...</td>\n",
       "    </tr>\n",
       "    <tr>\n",
       "      <th>51770</th>\n",
       "      <td>Blinking Molecule Tracking</td>\n",
       "      <td>We discuss a method for tracking individual mo...</td>\n",
       "      <td>['cs.CV', 'cs.DM']</td>\n",
       "      <td>Blinking Molecule Tracking</td>\n",
       "      <td>We discuss a method for tracking individual mo...</td>\n",
       "    </tr>\n",
       "    <tr>\n",
       "      <th>51771</th>\n",
       "      <td>Towards a Mathematical Foundation of Immunolog...</td>\n",
       "      <td>We attempt to set a mathematical foundation of...</td>\n",
       "      <td>['stat.ML', 'cs.LG', 'q-bio.GN']</td>\n",
       "      <td>Towards a Mathematical Foundation of Immunolog...</td>\n",
       "      <td>We attempt to set a mathematical foundation of...</td>\n",
       "    </tr>\n",
       "    <tr>\n",
       "      <th>51772</th>\n",
       "      <td>A Semi-Automatic Graph-Based Approach for Dete...</td>\n",
       "      <td>Diffusion Tensor Imaging (DTI) allows estimati...</td>\n",
       "      <td>['cs.CV']</td>\n",
       "      <td>A Semi-Automatic Graph-Based Approach for Dete...</td>\n",
       "      <td>Diffusion Tensor Imaging (DTI) allows estimati...</td>\n",
       "    </tr>\n",
       "    <tr>\n",
       "      <th>51773</th>\n",
       "      <td>SparseCodePicking: feature extraction in mass ...</td>\n",
       "      <td>Mass spectrometry (MS) is an important techniq...</td>\n",
       "      <td>['stat.ML', 'physics.med-ph', 'stat.AP', 'stat...</td>\n",
       "      <td>SparseCodePicking: feature extraction in mass ...</td>\n",
       "      <td>Mass spectrometry (MS) is an important techniq...</td>\n",
       "    </tr>\n",
       "  </tbody>\n",
       "</table>\n",
       "<p>51774 rows × 5 columns</p>\n",
       "</div>"
      ],
      "text/plain": [
       "                                                  titles  \\\n",
       "0      Survey on Semantic Stereo Matching / Semantic ...   \n",
       "1      FUTURE-AI: Guiding Principles and Consensus Re...   \n",
       "2      Enforcing Mutual Consistency of Hard Regions f...   \n",
       "3      Parameter Decoupling Strategy for Semi-supervi...   \n",
       "4      Background-Foreground Segmentation for Interio...   \n",
       "...                                                  ...   \n",
       "51769  Hierarchically-coupled hidden Markov models fo...   \n",
       "51770                         Blinking Molecule Tracking   \n",
       "51771  Towards a Mathematical Foundation of Immunolog...   \n",
       "51772  A Semi-Automatic Graph-Based Approach for Dete...   \n",
       "51773  SparseCodePicking: feature extraction in mass ...   \n",
       "\n",
       "                                               summaries  \\\n",
       "0      Stereo matching is one of the widely used tech...   \n",
       "1      The recent advancements in artificial intellig...   \n",
       "2      In this paper, we proposed a novel mutual cons...   \n",
       "3      Consistency training has proven to be an advan...   \n",
       "4      To ensure safety in automated driving, the cor...   \n",
       "...                                                  ...   \n",
       "51769  We address the problem of analyzing sets of no...   \n",
       "51770  We discuss a method for tracking individual mo...   \n",
       "51771  We attempt to set a mathematical foundation of...   \n",
       "51772  Diffusion Tensor Imaging (DTI) allows estimati...   \n",
       "51773  Mass spectrometry (MS) is an important techniq...   \n",
       "\n",
       "                                                   terms  \\\n",
       "0                                     ['cs.CV', 'cs.LG']   \n",
       "1                            ['cs.CV', 'cs.AI', 'cs.LG']   \n",
       "2                                     ['cs.CV', 'cs.AI']   \n",
       "3                                              ['cs.CV']   \n",
       "4                                     ['cs.CV', 'cs.LG']   \n",
       "...                                                  ...   \n",
       "51769          ['stat.ML', 'physics.bio-ph', 'q-bio.QM']   \n",
       "51770                                 ['cs.CV', 'cs.DM']   \n",
       "51771                   ['stat.ML', 'cs.LG', 'q-bio.GN']   \n",
       "51772                                          ['cs.CV']   \n",
       "51773  ['stat.ML', 'physics.med-ph', 'stat.AP', 'stat...   \n",
       "\n",
       "                                             orig_titles  \\\n",
       "0      Survey on Semantic Stereo Matching / Semantic ...   \n",
       "1      FUTURE-AI: Guiding Principles and Consensus Re...   \n",
       "2      Enforcing Mutual Consistency of Hard Regions f...   \n",
       "3      Parameter Decoupling Strategy for Semi-supervi...   \n",
       "4      Background-Foreground Segmentation for Interio...   \n",
       "...                                                  ...   \n",
       "51769  Hierarchically-coupled hidden Markov models fo...   \n",
       "51770                         Blinking Molecule Tracking   \n",
       "51771  Towards a Mathematical Foundation of Immunolog...   \n",
       "51772  A Semi-Automatic Graph-Based Approach for Dete...   \n",
       "51773  SparseCodePicking: feature extraction in mass ...   \n",
       "\n",
       "                                          orig_summaries  \n",
       "0      Stereo matching is one of the widely used tech...  \n",
       "1      The recent advancements in artificial intellig...  \n",
       "2      In this paper, we proposed a novel mutual cons...  \n",
       "3      Consistency training has proven to be an advan...  \n",
       "4      To ensure safety in automated driving, the cor...  \n",
       "...                                                  ...  \n",
       "51769  We address the problem of analyzing sets of no...  \n",
       "51770  We discuss a method for tracking individual mo...  \n",
       "51771  We attempt to set a mathematical foundation of...  \n",
       "51772  Diffusion Tensor Imaging (DTI) allows estimati...  \n",
       "51773  Mass spectrometry (MS) is an important techniq...  \n",
       "\n",
       "[51774 rows x 5 columns]"
      ]
     },
     "execution_count": 49,
     "metadata": {},
     "output_type": "execute_result"
    }
   ],
   "source": [
    "import spacy\n",
    "from spacy.lang.en import English\n",
    "from spacy.tokens import Span\n",
    "from spacy import displacy\n",
    "import pandas as pd\n",
    "\n",
    "nlp = English()\n",
    "df = pd.read_csv('arxiv_data.csv')\n",
    "df['orig_titles'] = df['titles']\n",
    "df['orig_summaries'] = df['summaries']\n",
    "df"
   ]
  },
  {
   "cell_type": "code",
   "execution_count": 50,
   "id": "a3f33a8d",
   "metadata": {},
   "outputs": [
    {
     "data": {
      "text/html": [
       "<div>\n",
       "<style scoped>\n",
       "    .dataframe tbody tr th:only-of-type {\n",
       "        vertical-align: middle;\n",
       "    }\n",
       "\n",
       "    .dataframe tbody tr th {\n",
       "        vertical-align: top;\n",
       "    }\n",
       "\n",
       "    .dataframe thead th {\n",
       "        text-align: right;\n",
       "    }\n",
       "</style>\n",
       "<table border=\"1\" class=\"dataframe\">\n",
       "  <thead>\n",
       "    <tr style=\"text-align: right;\">\n",
       "      <th></th>\n",
       "      <th>titles</th>\n",
       "      <th>summaries</th>\n",
       "      <th>terms</th>\n",
       "      <th>orig_titles</th>\n",
       "      <th>orig_summaries</th>\n",
       "    </tr>\n",
       "  </thead>\n",
       "  <tbody>\n",
       "    <tr>\n",
       "      <th>0</th>\n",
       "      <td>[survey, semant, stereo, match, /, semant, dep...</td>\n",
       "      <td>[stereo, match, one, wide, use, techniqu, infe...</td>\n",
       "      <td>['cs.CV', 'cs.LG']</td>\n",
       "      <td>Survey on Semantic Stereo Matching / Semantic ...</td>\n",
       "      <td>Stereo matching is one of the widely used tech...</td>\n",
       "    </tr>\n",
       "    <tr>\n",
       "      <th>1</th>\n",
       "      <td>[future-ai:, guid, principl, consensu, recomme...</td>\n",
       "      <td>[recent, advanc, artifici, intellig, (ai), com...</td>\n",
       "      <td>['cs.CV', 'cs.AI', 'cs.LG']</td>\n",
       "      <td>FUTURE-AI: Guiding Principles and Consensus Re...</td>\n",
       "      <td>The recent advancements in artificial intellig...</td>\n",
       "    </tr>\n",
       "    <tr>\n",
       "      <th>2</th>\n",
       "      <td>[enforc, mutual, consist, hard, region, semi-s...</td>\n",
       "      <td>[paper,, propos, novel, mutual, consist, netwo...</td>\n",
       "      <td>['cs.CV', 'cs.AI']</td>\n",
       "      <td>Enforcing Mutual Consistency of Hard Regions f...</td>\n",
       "      <td>In this paper, we proposed a novel mutual cons...</td>\n",
       "    </tr>\n",
       "    <tr>\n",
       "      <th>3</th>\n",
       "      <td>[paramet, decoupl, strategi, semi-supervis, 3d...</td>\n",
       "      <td>[consist, train, proven, advanc, semi-supervis...</td>\n",
       "      <td>['cs.CV']</td>\n",
       "      <td>Parameter Decoupling Strategy for Semi-supervi...</td>\n",
       "      <td>Consistency training has proven to be an advan...</td>\n",
       "    </tr>\n",
       "    <tr>\n",
       "      <th>4</th>\n",
       "      <td>[background-foreground, segment, interior, sen...</td>\n",
       "      <td>[ensur, safeti, autom, driving,, correct, perc...</td>\n",
       "      <td>['cs.CV', 'cs.LG']</td>\n",
       "      <td>Background-Foreground Segmentation for Interio...</td>\n",
       "      <td>To ensure safety in automated driving, the cor...</td>\n",
       "    </tr>\n",
       "    <tr>\n",
       "      <th>...</th>\n",
       "      <td>...</td>\n",
       "      <td>...</td>\n",
       "      <td>...</td>\n",
       "      <td>...</td>\n",
       "      <td>...</td>\n",
       "    </tr>\n",
       "    <tr>\n",
       "      <th>51769</th>\n",
       "      <td>[hierarchically-coupl, hidden, markov, model, ...</td>\n",
       "      <td>[address, problem, analyz, set, noisi, time-va...</td>\n",
       "      <td>['stat.ML', 'physics.bio-ph', 'q-bio.QM']</td>\n",
       "      <td>Hierarchically-coupled hidden Markov models fo...</td>\n",
       "      <td>We address the problem of analyzing sets of no...</td>\n",
       "    </tr>\n",
       "    <tr>\n",
       "      <th>51770</th>\n",
       "      <td>[blink, molecul, track]</td>\n",
       "      <td>[discuss, method, track, individu, molecul, gl...</td>\n",
       "      <td>['cs.CV', 'cs.DM']</td>\n",
       "      <td>Blinking Molecule Tracking</td>\n",
       "      <td>We discuss a method for tracking individual mo...</td>\n",
       "    </tr>\n",
       "    <tr>\n",
       "      <th>51771</th>\n",
       "      <td>[toward, mathemat, foundat, immunolog, amino, ...</td>\n",
       "      <td>[attempt, set, mathemat, foundat, immunolog, a...</td>\n",
       "      <td>['stat.ML', 'cs.LG', 'q-bio.GN']</td>\n",
       "      <td>Towards a Mathematical Foundation of Immunolog...</td>\n",
       "      <td>We attempt to set a mathematical foundation of...</td>\n",
       "    </tr>\n",
       "    <tr>\n",
       "      <th>51772</th>\n",
       "      <td>[semi-automat, graph-bas, approach, determin, ...</td>\n",
       "      <td>[diffus, tensor, imag, (dti), allow, estim, po...</td>\n",
       "      <td>['cs.CV']</td>\n",
       "      <td>A Semi-Automatic Graph-Based Approach for Dete...</td>\n",
       "      <td>Diffusion Tensor Imaging (DTI) allows estimati...</td>\n",
       "    </tr>\n",
       "    <tr>\n",
       "      <th>51773</th>\n",
       "      <td>[sparsecodepicking:, featur, extract, mass, sp...</td>\n",
       "      <td>[mass, spectrometri, (ms), import, techniqu, c...</td>\n",
       "      <td>['stat.ML', 'physics.med-ph', 'stat.AP', 'stat...</td>\n",
       "      <td>SparseCodePicking: feature extraction in mass ...</td>\n",
       "      <td>Mass spectrometry (MS) is an important techniq...</td>\n",
       "    </tr>\n",
       "  </tbody>\n",
       "</table>\n",
       "<p>51774 rows × 5 columns</p>\n",
       "</div>"
      ],
      "text/plain": [
       "                                                  titles  \\\n",
       "0      [survey, semant, stereo, match, /, semant, dep...   \n",
       "1      [future-ai:, guid, principl, consensu, recomme...   \n",
       "2      [enforc, mutual, consist, hard, region, semi-s...   \n",
       "3      [paramet, decoupl, strategi, semi-supervis, 3d...   \n",
       "4      [background-foreground, segment, interior, sen...   \n",
       "...                                                  ...   \n",
       "51769  [hierarchically-coupl, hidden, markov, model, ...   \n",
       "51770                            [blink, molecul, track]   \n",
       "51771  [toward, mathemat, foundat, immunolog, amino, ...   \n",
       "51772  [semi-automat, graph-bas, approach, determin, ...   \n",
       "51773  [sparsecodepicking:, featur, extract, mass, sp...   \n",
       "\n",
       "                                               summaries  \\\n",
       "0      [stereo, match, one, wide, use, techniqu, infe...   \n",
       "1      [recent, advanc, artifici, intellig, (ai), com...   \n",
       "2      [paper,, propos, novel, mutual, consist, netwo...   \n",
       "3      [consist, train, proven, advanc, semi-supervis...   \n",
       "4      [ensur, safeti, autom, driving,, correct, perc...   \n",
       "...                                                  ...   \n",
       "51769  [address, problem, analyz, set, noisi, time-va...   \n",
       "51770  [discuss, method, track, individu, molecul, gl...   \n",
       "51771  [attempt, set, mathemat, foundat, immunolog, a...   \n",
       "51772  [diffus, tensor, imag, (dti), allow, estim, po...   \n",
       "51773  [mass, spectrometri, (ms), import, techniqu, c...   \n",
       "\n",
       "                                                   terms  \\\n",
       "0                                     ['cs.CV', 'cs.LG']   \n",
       "1                            ['cs.CV', 'cs.AI', 'cs.LG']   \n",
       "2                                     ['cs.CV', 'cs.AI']   \n",
       "3                                              ['cs.CV']   \n",
       "4                                     ['cs.CV', 'cs.LG']   \n",
       "...                                                  ...   \n",
       "51769          ['stat.ML', 'physics.bio-ph', 'q-bio.QM']   \n",
       "51770                                 ['cs.CV', 'cs.DM']   \n",
       "51771                   ['stat.ML', 'cs.LG', 'q-bio.GN']   \n",
       "51772                                          ['cs.CV']   \n",
       "51773  ['stat.ML', 'physics.med-ph', 'stat.AP', 'stat...   \n",
       "\n",
       "                                             orig_titles  \\\n",
       "0      Survey on Semantic Stereo Matching / Semantic ...   \n",
       "1      FUTURE-AI: Guiding Principles and Consensus Re...   \n",
       "2      Enforcing Mutual Consistency of Hard Regions f...   \n",
       "3      Parameter Decoupling Strategy for Semi-supervi...   \n",
       "4      Background-Foreground Segmentation for Interio...   \n",
       "...                                                  ...   \n",
       "51769  Hierarchically-coupled hidden Markov models fo...   \n",
       "51770                         Blinking Molecule Tracking   \n",
       "51771  Towards a Mathematical Foundation of Immunolog...   \n",
       "51772  A Semi-Automatic Graph-Based Approach for Dete...   \n",
       "51773  SparseCodePicking: feature extraction in mass ...   \n",
       "\n",
       "                                          orig_summaries  \n",
       "0      Stereo matching is one of the widely used tech...  \n",
       "1      The recent advancements in artificial intellig...  \n",
       "2      In this paper, we proposed a novel mutual cons...  \n",
       "3      Consistency training has proven to be an advan...  \n",
       "4      To ensure safety in automated driving, the cor...  \n",
       "...                                                  ...  \n",
       "51769  We address the problem of analyzing sets of no...  \n",
       "51770  We discuss a method for tracking individual mo...  \n",
       "51771  We attempt to set a mathematical foundation of...  \n",
       "51772  Diffusion Tensor Imaging (DTI) allows estimati...  \n",
       "51773  Mass spectrometry (MS) is an important techniq...  \n",
       "\n",
       "[51774 rows x 5 columns]"
      ]
     },
     "execution_count": 50,
     "metadata": {},
     "output_type": "execute_result"
    }
   ],
   "source": [
    "# clean the data\n",
    "import nltk\n",
    "import re\n",
    "from nltk.corpus import stopwords\n",
    "\n",
    "# lowercase everything\n",
    "df.summaries = df.summaries.apply(str.lower)\n",
    "df.titles = df.titles.apply(str.lower)\n",
    "\n",
    "# remove stop words\n",
    "def remove_stop(word):\n",
    "    removed = \" \".join([i for i in word.split(\" \") if i not in stopword])\n",
    "    return removed\n",
    "\n",
    "stopword = stopwords.words('english')\n",
    "df.summaries = df.summaries.apply(remove_stop)\n",
    "df.titles = df.titles.apply(remove_stop)\n",
    "\n",
    "\n",
    "# lemmatize the values\n",
    "def lemmatize_text(text):\n",
    "    w_tokenizer = nltk.tokenize.WhitespaceTokenizer()\n",
    "    lemmatizer = nltk.stem.WordNetLemmatizer()\n",
    "    return [lemmatizer.lemmatize(w) for w in w_tokenizer.tokenize(text)]\n",
    "\n",
    "def stem_porter(text):\n",
    "    w_tokenizer = nltk.tokenize.WhitespaceTokenizer()\n",
    "    ps = nltk.PorterStemmer()\n",
    "    return [ps.stem(w) for w in w_tokenizer.tokenize(text)]\n",
    "\n",
    "\n",
    "# nltk.download()\n",
    "df.summaries = df.summaries.apply(stem_porter)\n",
    "df.titles = df.titles.apply(stem_porter)\n",
    "df"
   ]
  },
  {
   "cell_type": "code",
   "execution_count": 51,
   "id": "109bef49",
   "metadata": {},
   "outputs": [
    {
     "data": {
      "text/html": [
       "<div>\n",
       "<style scoped>\n",
       "    .dataframe tbody tr th:only-of-type {\n",
       "        vertical-align: middle;\n",
       "    }\n",
       "\n",
       "    .dataframe tbody tr th {\n",
       "        vertical-align: top;\n",
       "    }\n",
       "\n",
       "    .dataframe thead th {\n",
       "        text-align: right;\n",
       "    }\n",
       "</style>\n",
       "<table border=\"1\" class=\"dataframe\">\n",
       "  <thead>\n",
       "    <tr style=\"text-align: right;\">\n",
       "      <th></th>\n",
       "      <th>titles</th>\n",
       "      <th>summaries</th>\n",
       "      <th>terms</th>\n",
       "      <th>orig_titles</th>\n",
       "      <th>orig_summaries</th>\n",
       "    </tr>\n",
       "  </thead>\n",
       "  <tbody>\n",
       "    <tr>\n",
       "      <th>0</th>\n",
       "      <td>[survey, semant, stereo, match, /, semant, dep...</td>\n",
       "      <td>[stereo, match, one, wide, use, techniqu, infe...</td>\n",
       "      <td>['cs.CV', 'cs.LG']</td>\n",
       "      <td>Survey on Semantic Stereo Matching / Semantic ...</td>\n",
       "      <td>Stereo matching is one of the widely used tech...</td>\n",
       "    </tr>\n",
       "    <tr>\n",
       "      <th>1</th>\n",
       "      <td>[future-ai:, guid, principl, consensu, recomme...</td>\n",
       "      <td>[recent, advanc, artifici, intellig, (ai), com...</td>\n",
       "      <td>['cs.CV', 'cs.AI', 'cs.LG']</td>\n",
       "      <td>FUTURE-AI: Guiding Principles and Consensus Re...</td>\n",
       "      <td>The recent advancements in artificial intellig...</td>\n",
       "    </tr>\n",
       "    <tr>\n",
       "      <th>2</th>\n",
       "      <td>[enforc, mutual, consist, hard, region, semi-s...</td>\n",
       "      <td>[paper,, propos, novel, mutual, consist, netwo...</td>\n",
       "      <td>['cs.CV', 'cs.AI']</td>\n",
       "      <td>Enforcing Mutual Consistency of Hard Regions f...</td>\n",
       "      <td>In this paper, we proposed a novel mutual cons...</td>\n",
       "    </tr>\n",
       "    <tr>\n",
       "      <th>3</th>\n",
       "      <td>[paramet, decoupl, strategi, semi-supervis, 3d...</td>\n",
       "      <td>[consist, train, proven, advanc, semi-supervis...</td>\n",
       "      <td>['cs.CV']</td>\n",
       "      <td>Parameter Decoupling Strategy for Semi-supervi...</td>\n",
       "      <td>Consistency training has proven to be an advan...</td>\n",
       "    </tr>\n",
       "    <tr>\n",
       "      <th>4</th>\n",
       "      <td>[background-foreground, segment, interior, sen...</td>\n",
       "      <td>[ensur, safeti, autom, driving,, correct, perc...</td>\n",
       "      <td>['cs.CV', 'cs.LG']</td>\n",
       "      <td>Background-Foreground Segmentation for Interio...</td>\n",
       "      <td>To ensure safety in automated driving, the cor...</td>\n",
       "    </tr>\n",
       "    <tr>\n",
       "      <th>...</th>\n",
       "      <td>...</td>\n",
       "      <td>...</td>\n",
       "      <td>...</td>\n",
       "      <td>...</td>\n",
       "      <td>...</td>\n",
       "    </tr>\n",
       "    <tr>\n",
       "      <th>51769</th>\n",
       "      <td>[hierarchically-coupl, hidden, markov, model, ...</td>\n",
       "      <td>[address, problem, analyz, set, noisi, time-va...</td>\n",
       "      <td>['stat.ML', 'physics.bio-ph', 'q-bio.QM']</td>\n",
       "      <td>Hierarchically-coupled hidden Markov models fo...</td>\n",
       "      <td>We address the problem of analyzing sets of no...</td>\n",
       "    </tr>\n",
       "    <tr>\n",
       "      <th>51770</th>\n",
       "      <td>[blink, molecul, track]</td>\n",
       "      <td>[discuss, method, track, individu, molecul, gl...</td>\n",
       "      <td>['cs.CV', 'cs.DM']</td>\n",
       "      <td>Blinking Molecule Tracking</td>\n",
       "      <td>We discuss a method for tracking individual mo...</td>\n",
       "    </tr>\n",
       "    <tr>\n",
       "      <th>51771</th>\n",
       "      <td>[toward, mathemat, foundat, immunolog, amino, ...</td>\n",
       "      <td>[attempt, set, mathemat, foundat, immunolog, a...</td>\n",
       "      <td>['stat.ML', 'cs.LG', 'q-bio.GN']</td>\n",
       "      <td>Towards a Mathematical Foundation of Immunolog...</td>\n",
       "      <td>We attempt to set a mathematical foundation of...</td>\n",
       "    </tr>\n",
       "    <tr>\n",
       "      <th>51772</th>\n",
       "      <td>[semi-automat, graph-bas, approach, determin, ...</td>\n",
       "      <td>[diffus, tensor, imag, (dti), allow, estim, po...</td>\n",
       "      <td>['cs.CV']</td>\n",
       "      <td>A Semi-Automatic Graph-Based Approach for Dete...</td>\n",
       "      <td>Diffusion Tensor Imaging (DTI) allows estimati...</td>\n",
       "    </tr>\n",
       "    <tr>\n",
       "      <th>51773</th>\n",
       "      <td>[sparsecodepicking:, featur, extract, mass, sp...</td>\n",
       "      <td>[mass, spectrometri, (ms), import, techniqu, c...</td>\n",
       "      <td>['stat.ML', 'physics.med-ph', 'stat.AP', 'stat...</td>\n",
       "      <td>SparseCodePicking: feature extraction in mass ...</td>\n",
       "      <td>Mass spectrometry (MS) is an important techniq...</td>\n",
       "    </tr>\n",
       "  </tbody>\n",
       "</table>\n",
       "<p>51774 rows × 5 columns</p>\n",
       "</div>"
      ],
      "text/plain": [
       "                                                  titles  \\\n",
       "0      [survey, semant, stereo, match, /, semant, dep...   \n",
       "1      [future-ai:, guid, principl, consensu, recomme...   \n",
       "2      [enforc, mutual, consist, hard, region, semi-s...   \n",
       "3      [paramet, decoupl, strategi, semi-supervis, 3d...   \n",
       "4      [background-foreground, segment, interior, sen...   \n",
       "...                                                  ...   \n",
       "51769  [hierarchically-coupl, hidden, markov, model, ...   \n",
       "51770                            [blink, molecul, track]   \n",
       "51771  [toward, mathemat, foundat, immunolog, amino, ...   \n",
       "51772  [semi-automat, graph-bas, approach, determin, ...   \n",
       "51773  [sparsecodepicking:, featur, extract, mass, sp...   \n",
       "\n",
       "                                               summaries  \\\n",
       "0      [stereo, match, one, wide, use, techniqu, infe...   \n",
       "1      [recent, advanc, artifici, intellig, (ai), com...   \n",
       "2      [paper,, propos, novel, mutual, consist, netwo...   \n",
       "3      [consist, train, proven, advanc, semi-supervis...   \n",
       "4      [ensur, safeti, autom, driving,, correct, perc...   \n",
       "...                                                  ...   \n",
       "51769  [address, problem, analyz, set, noisi, time-va...   \n",
       "51770  [discuss, method, track, individu, molecul, gl...   \n",
       "51771  [attempt, set, mathemat, foundat, immunolog, a...   \n",
       "51772  [diffus, tensor, imag, (dti), allow, estim, po...   \n",
       "51773  [mass, spectrometri, (ms), import, techniqu, c...   \n",
       "\n",
       "                                                   terms  \\\n",
       "0                                     ['cs.CV', 'cs.LG']   \n",
       "1                            ['cs.CV', 'cs.AI', 'cs.LG']   \n",
       "2                                     ['cs.CV', 'cs.AI']   \n",
       "3                                              ['cs.CV']   \n",
       "4                                     ['cs.CV', 'cs.LG']   \n",
       "...                                                  ...   \n",
       "51769          ['stat.ML', 'physics.bio-ph', 'q-bio.QM']   \n",
       "51770                                 ['cs.CV', 'cs.DM']   \n",
       "51771                   ['stat.ML', 'cs.LG', 'q-bio.GN']   \n",
       "51772                                          ['cs.CV']   \n",
       "51773  ['stat.ML', 'physics.med-ph', 'stat.AP', 'stat...   \n",
       "\n",
       "                                             orig_titles  \\\n",
       "0      Survey on Semantic Stereo Matching / Semantic ...   \n",
       "1      FUTURE-AI: Guiding Principles and Consensus Re...   \n",
       "2      Enforcing Mutual Consistency of Hard Regions f...   \n",
       "3      Parameter Decoupling Strategy for Semi-supervi...   \n",
       "4      Background-Foreground Segmentation for Interio...   \n",
       "...                                                  ...   \n",
       "51769  Hierarchically-coupled hidden Markov models fo...   \n",
       "51770                         Blinking Molecule Tracking   \n",
       "51771  Towards a Mathematical Foundation of Immunolog...   \n",
       "51772  A Semi-Automatic Graph-Based Approach for Dete...   \n",
       "51773  SparseCodePicking: feature extraction in mass ...   \n",
       "\n",
       "                                          orig_summaries  \n",
       "0      Stereo matching is one of the widely used tech...  \n",
       "1      The recent advancements in artificial intellig...  \n",
       "2      In this paper, we proposed a novel mutual cons...  \n",
       "3      Consistency training has proven to be an advan...  \n",
       "4      To ensure safety in automated driving, the cor...  \n",
       "...                                                  ...  \n",
       "51769  We address the problem of analyzing sets of no...  \n",
       "51770  We discuss a method for tracking individual mo...  \n",
       "51771  We attempt to set a mathematical foundation of...  \n",
       "51772  Diffusion Tensor Imaging (DTI) allows estimati...  \n",
       "51773  Mass spectrometry (MS) is an important techniq...  \n",
       "\n",
       "[51774 rows x 5 columns]"
      ]
     },
     "execution_count": 51,
     "metadata": {},
     "output_type": "execute_result"
    }
   ],
   "source": [
    "df"
   ]
  },
  {
   "cell_type": "code",
   "execution_count": 52,
   "id": "7f42da36",
   "metadata": {},
   "outputs": [
    {
     "name": "stdout",
     "output_type": "stream",
     "text": [
      "Stereo matching is one of the widely used techniques for inferring depth from\n",
      "stereo images owing to its robustness and speed. It has become one of the major\n",
      "topics of research since it finds its applications in autonomous driving,\n",
      "robotic navigation, 3D reconstruction, and many other fields. Finding pixel\n",
      "correspondences in non-textured, occluded and reflective areas is the major\n",
      "challenge in stereo matching. Recent developments have shown that semantic cues\n",
      "from image segmentation can be used to improve the results of stereo matching.\n",
      "Many deep neural network architectures have been proposed to leverage the\n",
      "advantages of semantic segmentation in stereo matching. This paper aims to give\n",
      "a comparison among the state of art networks both in terms of accuracy and in\n",
      "terms of speed which are of higher importance in real-time applications.\n"
     ]
    }
   ],
   "source": [
    "txt = df.iloc[0]['orig_summaries']\n",
    "print(txt)\n",
    "doc = nlp(txt)\n",
    "\n",
    "for ent in doc.ents:\n",
    "    print(f\"{ent.text:<20}{ent.label_:<20}\")\n",
    "# visualizing the entity recognizer\n",
    "# doc.user_data[\"title\"] = \"testing NER\"\n",
    "# displacy.render(doc, style=\"ent\")"
   ]
  }
 ],
 "metadata": {
  "kernelspec": {
   "display_name": "Python 3 (ipykernel)",
   "language": "python",
   "name": "python3"
  },
  "language_info": {
   "codemirror_mode": {
    "name": "ipython",
    "version": 3
   },
   "file_extension": ".py",
   "mimetype": "text/x-python",
   "name": "python",
   "nbconvert_exporter": "python",
   "pygments_lexer": "ipython3",
   "version": "3.9.7"
  }
 },
 "nbformat": 4,
 "nbformat_minor": 5
}
