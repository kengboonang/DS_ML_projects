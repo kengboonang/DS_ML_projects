{
 "cells": [
  {
   "cell_type": "markdown",
   "id": "d9ad18f0",
   "metadata": {},
   "source": [
    "<table class=\"table table-bordered\">\n",
    "    <tr>\n",
    "        <th style=\"text-align:center; width:35%\"><img src='https://dl.dropboxusercontent.com/s/hrpgwq7gqoxf4am/smu_scis.png' style=\"width: 300px; height: 60px; \"></th>\n",
    "    <th style=\"text-align:center;\"><font size=\"4\"> <br/>IS215 - Analytics in Python - Practical 1b Regression (Student)</font></th>\n",
    "    </tr>\n",
    "</table> "
   ]
  },
  {
   "cell_type": "markdown",
   "id": "120097ab",
   "metadata": {},
   "source": [
    "The following program is to illustrate the steps to create a regression model  with Singapore HDB house price dataset extracted and manipulated from https://github.com/valerielimyh/Predict_housing_prices/tree/master/data/raw. There are 4 input variables and 1 target variable - predict the HDB price from the input variables.\n",
    "The variable names and their brief description are as follows:\n",
    "- Property Type (categorical)\n",
    "- Price (numeric)\n",
    "- Area_sqm (numeric)\n",
    "- Corner Unit (categorical)\n",
    "- Renovated (categorical)"
   ]
  },
  {
   "cell_type": "markdown",
   "id": "d25672a4",
   "metadata": {},
   "source": [
    "### Step 1: import relevant libraries"
   ]
  },
  {
   "cell_type": "code",
   "execution_count": 2,
   "id": "e4807a1b",
   "metadata": {},
   "outputs": [],
   "source": [
    "import pandas as pd\n",
    "import numpy as np\n",
    "from sklearn.preprocessing import MinMaxScaler\n",
    "from sklearn.model_selection import train_test_split\n",
    "from sklearn.linear_model import LinearRegression\n",
    "from sklearn.metrics import mean_squared_error, r2_score, mean_absolute_error\n"
   ]
  },
  {
   "cell_type": "markdown",
   "id": "15092567",
   "metadata": {},
   "source": [
    "### Step 2: read in the data"
   ]
  },
  {
   "cell_type": "code",
   "execution_count": 3,
   "id": "aeb86fad",
   "metadata": {},
   "outputs": [
    {
     "data": {
      "text/html": [
       "<div>\n",
       "<style scoped>\n",
       "    .dataframe tbody tr th:only-of-type {\n",
       "        vertical-align: middle;\n",
       "    }\n",
       "\n",
       "    .dataframe tbody tr th {\n",
       "        vertical-align: top;\n",
       "    }\n",
       "\n",
       "    .dataframe thead th {\n",
       "        text-align: right;\n",
       "    }\n",
       "</style>\n",
       "<table border=\"1\" class=\"dataframe\">\n",
       "  <thead>\n",
       "    <tr style=\"text-align: right;\">\n",
       "      <th></th>\n",
       "      <th>Property Type</th>\n",
       "      <th>Price</th>\n",
       "      <th>Area_sqm</th>\n",
       "      <th>Corner Unit</th>\n",
       "      <th>Renovated</th>\n",
       "    </tr>\n",
       "  </thead>\n",
       "  <tbody>\n",
       "    <tr>\n",
       "      <th>0</th>\n",
       "      <td>HDB Executive</td>\n",
       "      <td>560000</td>\n",
       "      <td>142</td>\n",
       "      <td>1</td>\n",
       "      <td>1</td>\n",
       "    </tr>\n",
       "    <tr>\n",
       "      <th>1</th>\n",
       "      <td>HDB 4 Rooms</td>\n",
       "      <td>480000</td>\n",
       "      <td>92</td>\n",
       "      <td>1</td>\n",
       "      <td>0</td>\n",
       "    </tr>\n",
       "    <tr>\n",
       "      <th>2</th>\n",
       "      <td>HDB 5 Rooms</td>\n",
       "      <td>568000</td>\n",
       "      <td>113</td>\n",
       "      <td>1</td>\n",
       "      <td>1</td>\n",
       "    </tr>\n",
       "    <tr>\n",
       "      <th>3</th>\n",
       "      <td>HDB 4 Rooms</td>\n",
       "      <td>308888</td>\n",
       "      <td>84</td>\n",
       "      <td>0</td>\n",
       "      <td>1</td>\n",
       "    </tr>\n",
       "    <tr>\n",
       "      <th>4</th>\n",
       "      <td>HDB 5 Rooms</td>\n",
       "      <td>750000</td>\n",
       "      <td>120</td>\n",
       "      <td>0</td>\n",
       "      <td>1</td>\n",
       "    </tr>\n",
       "  </tbody>\n",
       "</table>\n",
       "</div>"
      ],
      "text/plain": [
       "   Property Type   Price  Area_sqm  Corner Unit  Renovated\n",
       "0  HDB Executive  560000       142            1          1\n",
       "1    HDB 4 Rooms  480000        92            1          0\n",
       "2    HDB 5 Rooms  568000       113            1          1\n",
       "3    HDB 4 Rooms  308888        84            0          1\n",
       "4    HDB 5 Rooms  750000       120            0          1"
      ]
     },
     "execution_count": 3,
     "metadata": {},
     "output_type": "execute_result"
    }
   ],
   "source": [
    "#read in data file\n",
    "df = pd.read_csv('hdb_house_price_processed.csv')\n",
    "\n",
    "#check top few rows from data file\n",
    "df.head()"
   ]
  },
  {
   "cell_type": "code",
   "execution_count": 4,
   "id": "5a7c1f60",
   "metadata": {},
   "outputs": [
    {
     "data": {
      "text/html": [
       "<div>\n",
       "<style scoped>\n",
       "    .dataframe tbody tr th:only-of-type {\n",
       "        vertical-align: middle;\n",
       "    }\n",
       "\n",
       "    .dataframe tbody tr th {\n",
       "        vertical-align: top;\n",
       "    }\n",
       "\n",
       "    .dataframe thead th {\n",
       "        text-align: right;\n",
       "    }\n",
       "</style>\n",
       "<table border=\"1\" class=\"dataframe\">\n",
       "  <thead>\n",
       "    <tr style=\"text-align: right;\">\n",
       "      <th></th>\n",
       "      <th>Property Type</th>\n",
       "      <th>Price</th>\n",
       "      <th>Area_sqm</th>\n",
       "      <th>Corner Unit</th>\n",
       "      <th>Renovated</th>\n",
       "    </tr>\n",
       "  </thead>\n",
       "  <tbody>\n",
       "    <tr>\n",
       "      <th>count</th>\n",
       "      <td>1888</td>\n",
       "      <td>1.888000e+03</td>\n",
       "      <td>1888.000000</td>\n",
       "      <td>1888.000000</td>\n",
       "      <td>1888.000000</td>\n",
       "    </tr>\n",
       "    <tr>\n",
       "      <th>unique</th>\n",
       "      <td>7</td>\n",
       "      <td>NaN</td>\n",
       "      <td>NaN</td>\n",
       "      <td>NaN</td>\n",
       "      <td>NaN</td>\n",
       "    </tr>\n",
       "    <tr>\n",
       "      <th>top</th>\n",
       "      <td>HDB 4 Rooms</td>\n",
       "      <td>NaN</td>\n",
       "      <td>NaN</td>\n",
       "      <td>NaN</td>\n",
       "      <td>NaN</td>\n",
       "    </tr>\n",
       "    <tr>\n",
       "      <th>freq</th>\n",
       "      <td>704</td>\n",
       "      <td>NaN</td>\n",
       "      <td>NaN</td>\n",
       "      <td>NaN</td>\n",
       "      <td>NaN</td>\n",
       "    </tr>\n",
       "    <tr>\n",
       "      <th>mean</th>\n",
       "      <td>NaN</td>\n",
       "      <td>5.170274e+05</td>\n",
       "      <td>102.768538</td>\n",
       "      <td>0.506356</td>\n",
       "      <td>0.523835</td>\n",
       "    </tr>\n",
       "    <tr>\n",
       "      <th>std</th>\n",
       "      <td>NaN</td>\n",
       "      <td>1.710691e+05</td>\n",
       "      <td>24.522659</td>\n",
       "      <td>0.500092</td>\n",
       "      <td>0.499564</td>\n",
       "    </tr>\n",
       "    <tr>\n",
       "      <th>min</th>\n",
       "      <td>NaN</td>\n",
       "      <td>1.990000e+05</td>\n",
       "      <td>31.000000</td>\n",
       "      <td>0.000000</td>\n",
       "      <td>0.000000</td>\n",
       "    </tr>\n",
       "    <tr>\n",
       "      <th>25%</th>\n",
       "      <td>NaN</td>\n",
       "      <td>3.950000e+05</td>\n",
       "      <td>90.000000</td>\n",
       "      <td>0.000000</td>\n",
       "      <td>0.000000</td>\n",
       "    </tr>\n",
       "    <tr>\n",
       "      <th>50%</th>\n",
       "      <td>NaN</td>\n",
       "      <td>4.880000e+05</td>\n",
       "      <td>104.000000</td>\n",
       "      <td>1.000000</td>\n",
       "      <td>1.000000</td>\n",
       "    </tr>\n",
       "    <tr>\n",
       "      <th>75%</th>\n",
       "      <td>NaN</td>\n",
       "      <td>6.100000e+05</td>\n",
       "      <td>120.000000</td>\n",
       "      <td>1.000000</td>\n",
       "      <td>1.000000</td>\n",
       "    </tr>\n",
       "    <tr>\n",
       "      <th>max</th>\n",
       "      <td>NaN</td>\n",
       "      <td>1.328000e+06</td>\n",
       "      <td>192.000000</td>\n",
       "      <td>1.000000</td>\n",
       "      <td>1.000000</td>\n",
       "    </tr>\n",
       "  </tbody>\n",
       "</table>\n",
       "</div>"
      ],
      "text/plain": [
       "       Property Type         Price     Area_sqm  Corner Unit    Renovated\n",
       "count           1888  1.888000e+03  1888.000000  1888.000000  1888.000000\n",
       "unique             7           NaN          NaN          NaN          NaN\n",
       "top      HDB 4 Rooms           NaN          NaN          NaN          NaN\n",
       "freq             704           NaN          NaN          NaN          NaN\n",
       "mean             NaN  5.170274e+05   102.768538     0.506356     0.523835\n",
       "std              NaN  1.710691e+05    24.522659     0.500092     0.499564\n",
       "min              NaN  1.990000e+05    31.000000     0.000000     0.000000\n",
       "25%              NaN  3.950000e+05    90.000000     0.000000     0.000000\n",
       "50%              NaN  4.880000e+05   104.000000     1.000000     1.000000\n",
       "75%              NaN  6.100000e+05   120.000000     1.000000     1.000000\n",
       "max              NaN  1.328000e+06   192.000000     1.000000     1.000000"
      ]
     },
     "execution_count": 4,
     "metadata": {},
     "output_type": "execute_result"
    }
   ],
   "source": [
    "#summary statistics\n",
    "df.describe(include='all')"
   ]
  },
  {
   "cell_type": "markdown",
   "id": "ddfebc92",
   "metadata": {},
   "source": [
    "### Step 3: create input and target data"
   ]
  },
  {
   "cell_type": "code",
   "execution_count": 5,
   "id": "a012dcae",
   "metadata": {},
   "outputs": [
    {
     "name": "stdout",
     "output_type": "stream",
     "text": [
      "(1888, 4) (1888,)\n"
     ]
    }
   ],
   "source": [
    "# Split into input (X) and target (y) dataframes.\n",
    "\n",
    "X = df.drop('Price', axis=1)\n",
    "y = df['Price']\n",
    "\n",
    "print(X.shape,y.shape)"
   ]
  },
  {
   "cell_type": "markdown",
   "id": "ac018370",
   "metadata": {},
   "source": [
    "### Step 4: preprocess data"
   ]
  },
  {
   "cell_type": "code",
   "execution_count": 6,
   "id": "a4973f70",
   "metadata": {},
   "outputs": [],
   "source": [
    "def preprocess_data(X):\n",
    "    # if it is a numeric column - \n",
    "    # Normalize using MinMaxScaler to constrain values to between 0 and 1.\n",
    "\n",
    "    scaler = MinMaxScaler(feature_range = (0,1))\n",
    "    df_numeric = X.select_dtypes(include=[np.number])\n",
    "    numeric_cols = df_numeric.columns.values\n",
    "\n",
    "    for col in numeric_cols:\n",
    "        #MinMaxScale needs [n_samples, n_features] and hence requires df[[col]]\n",
    "        X[col] = scaler.fit_transform(X[[col]])\n",
    "        \n",
    "    print(\"---Successfully processed numeric column(s)\")\n",
    "    print(X.head(5))\n",
    "    \n",
    "    # if it is a categorical column, need to convert the column into one-hot encoding\n",
    "    df_categorical = X.select_dtypes(exclude=[np.number])\n",
    "    categorical_cols = df_categorical.columns.values\n",
    "\n",
    "    X = pd.get_dummies(X,columns=categorical_cols)\n",
    "           \n",
    "    print(\"---Successfully processed categorical column(s)\")\n",
    "    print(X.head(5))\n",
    "        \n",
    "    return X,scaler"
   ]
  },
  {
   "cell_type": "code",
   "execution_count": 7,
   "id": "c2e26931",
   "metadata": {},
   "outputs": [
    {
     "name": "stdout",
     "output_type": "stream",
     "text": [
      "---Successfully processed numeric column(s)\n",
      "   Property Type  Area_sqm  Corner Unit  Renovated\n",
      "0  HDB Executive  0.689441          1.0        1.0\n",
      "1    HDB 4 Rooms  0.378882          1.0        0.0\n",
      "2    HDB 5 Rooms  0.509317          1.0        1.0\n",
      "3    HDB 4 Rooms  0.329193          0.0        1.0\n",
      "4    HDB 5 Rooms  0.552795          0.0        1.0\n",
      "---Successfully processed categorical column(s)\n",
      "   Area_sqm  Corner Unit  Renovated  Property Type_HDB 1 Room  \\\n",
      "0  0.689441          1.0        1.0                         0   \n",
      "1  0.378882          1.0        0.0                         0   \n",
      "2  0.509317          1.0        1.0                         0   \n",
      "3  0.329193          0.0        1.0                         0   \n",
      "4  0.552795          0.0        1.0                         0   \n",
      "\n",
      "   Property Type_HDB 2 Rooms  Property Type_HDB 3 Rooms  \\\n",
      "0                          0                          0   \n",
      "1                          0                          0   \n",
      "2                          0                          0   \n",
      "3                          0                          0   \n",
      "4                          0                          0   \n",
      "\n",
      "   Property Type_HDB 4 Rooms  Property Type_HDB 5 Rooms  \\\n",
      "0                          0                          0   \n",
      "1                          1                          0   \n",
      "2                          0                          1   \n",
      "3                          1                          0   \n",
      "4                          0                          1   \n",
      "\n",
      "   Property Type_HDB Executive  Property Type_HDB Jumbo  \n",
      "0                            1                        0  \n",
      "1                            0                        0  \n",
      "2                            0                        0  \n",
      "3                            0                        0  \n",
      "4                            0                        0  \n"
     ]
    }
   ],
   "source": [
    "# preprocess data\n",
    "X,scaler = preprocess_data(X)"
   ]
  },
  {
   "cell_type": "markdown",
   "id": "e75d055a",
   "metadata": {},
   "source": [
    "### Step 5: split data into training and testing data"
   ]
  },
  {
   "cell_type": "code",
   "execution_count": 8,
   "id": "9f5c2dd9",
   "metadata": {},
   "outputs": [
    {
     "name": "stdout",
     "output_type": "stream",
     "text": [
      "(1510, 10) (378, 10) (1510,) (378,)\n"
     ]
    }
   ],
   "source": [
    "# Split feature and label sets to train and data sets - 80-20, random_state is desirable for reproducibility\n",
    "# stratify parameter is not relevant for regression since it is not about splitting via category/class\n",
    "\n",
    "X_train, X_test, y_train, y_test = train_test_split(X, y, test_size = 0.2, random_state = 10)\n",
    "print(X_train.shape, X_test.shape, y_train.shape, y_test.shape)"
   ]
  },
  {
   "cell_type": "markdown",
   "id": "9ffac4cb",
   "metadata": {},
   "source": [
    "### Step 6: create the Linear Regression model"
   ]
  },
  {
   "cell_type": "code",
   "execution_count": 9,
   "id": "675c8c8e",
   "metadata": {},
   "outputs": [],
   "source": [
    "# Create Regression Model\n",
    "#------------------------\n",
    "model = LinearRegression()\n",
    "\n",
    "# Train the model\n",
    "#----------------\n",
    "model.fit(X_train, y_train)\n",
    "\n",
    "# Use model to make predictions\n",
    "#------------------------------\n",
    "y_pred = model.predict(X_test)"
   ]
  },
  {
   "cell_type": "markdown",
   "id": "73c558cb",
   "metadata": {},
   "source": [
    "### Step 7: evaluate the Linear Regression model"
   ]
  },
  {
   "cell_type": "code",
   "execution_count": 10,
   "id": "2a79c5dc",
   "metadata": {},
   "outputs": [
    {
     "name": "stdout",
     "output_type": "stream",
     "text": [
      "Model Features: ['Area_sqm' 'Corner Unit' 'Renovated' 'Property Type_HDB 1 Room'\n",
      " 'Property Type_HDB 2 Rooms' 'Property Type_HDB 3 Rooms'\n",
      " 'Property Type_HDB 4 Rooms' 'Property Type_HDB 5 Rooms'\n",
      " 'Property Type_HDB Executive' 'Property Type_HDB Jumbo']\n",
      "Model Coefficients: [ 3.54986141e+04  1.42388945e+04  3.41375011e+04  8.73114914e-11\n",
      " -2.32589800e+05 -1.60653323e+05 -3.29799982e+04  7.04621490e+04\n",
      "  1.52297540e+05  2.03463432e+05]\n",
      "Mean Absolute Error: 101412.80515416089\n"
     ]
    }
   ],
   "source": [
    "# Evaluation - using relevant metrics\n",
    "#------------------------------------\n",
    "print(\"Model Features:\", model.feature_names_in_)\n",
    "print(\"Model Coefficients:\", model.coef_)\n",
    "print(\"Mean Absolute Error:\", mean_absolute_error(y_test, y_pred))"
   ]
  },
  {
   "cell_type": "code",
   "execution_count": 11,
   "id": "a17b45c9",
   "metadata": {},
   "outputs": [
    {
     "name": "stdout",
     "output_type": "stream",
     "text": [
      "Coefficient of Determination or r-squared: 0.3841640758969246\n"
     ]
    }
   ],
   "source": [
    "# Coefficient of Determination of the model\n",
    "#------------------------------------------\n",
    "print(\"Coefficient of Determination or r-squared:\", r2_score(y_test, y_pred))"
   ]
  },
  {
   "cell_type": "markdown",
   "id": "5c688979",
   "metadata": {},
   "source": [
    "## Conclusion:"
   ]
  },
  {
   "cell_type": "code",
   "execution_count": 12,
   "id": "b1f7244a",
   "metadata": {},
   "outputs": [],
   "source": [
    "#########################################################################################\n",
    "# an r-squared of 38% reveals that 38% of the variability observed in the target variable\n",
    "# is explained by the regression model.\n",
    "#########################################################################################\n",
    "\n",
    "# The model does not seem to work very well - r-squared should be as close to 1 \n",
    "# but depending on industry. \n",
    "#\n",
    "# In some fields, such as the social sciences, even a relatively low R-Squared such as 0.5 \n",
    "# could be considered relatively strong.\n",
    "\n",
    "# What can be used to improve the model?\n"
   ]
  }
 ],
 "metadata": {
  "kernelspec": {
   "display_name": "Python 3 (ipykernel)",
   "language": "python",
   "name": "python3"
  },
  "language_info": {
   "codemirror_mode": {
    "name": "ipython",
    "version": 3
   },
   "file_extension": ".py",
   "mimetype": "text/x-python",
   "name": "python",
   "nbconvert_exporter": "python",
   "pygments_lexer": "ipython3",
   "version": "3.9.7"
  }
 },
 "nbformat": 4,
 "nbformat_minor": 5
}
